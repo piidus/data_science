{
 "cells": [
  {
   "cell_type": "markdown",
   "id": "879bcb75-368b-4337-a5ad-dfc5e5991461",
   "metadata": {},
   "source": [
    "Q1. What is Abstraction in OOps? Explain with an example."
   ]
  },
  {
   "cell_type": "markdown",
   "id": "d5bbd7ab-3b63-4f2e-ad6d-320f760fec3d",
   "metadata": {},
   "source": [
    "In OOPs (Object-Oriented Programming System) we can restrict to create a class object or class method"
   ]
  },
  {
   "cell_type": "code",
   "execution_count": 4,
   "id": "e1f466d3-b6d0-496b-ae19-539d5edff2bf",
   "metadata": {},
   "outputs": [
    {
     "name": "stdout",
     "output_type": "stream",
     "text": [
      "Can't instantiate abstract class father with abstract method job\n"
     ]
    }
   ],
   "source": [
    "from abc import ABC, abstractmethod\n",
    "\n",
    "class father(ABC):\n",
    "    def __init__(self,title):\n",
    "        self.title=title\n",
    "    \n",
    "    @abstractmethod\n",
    "    def job(self):\n",
    "        print(\"Post\")\n",
    "try:\n",
    "    father('Basu')\n",
    "except Exception as e :\n",
    "    print(e)\n"
   ]
  },
  {
   "cell_type": "markdown",
   "id": "29a3e1ef-eb56-4ab1-a8c1-9380a2e7dd5f",
   "metadata": {},
   "source": [
    "________________________________"
   ]
  },
  {
   "cell_type": "markdown",
   "id": "79d698df-29e2-4808-aaa1-d7602c4c6ea5",
   "metadata": {},
   "source": [
    "Q2. Differentiate between Abstraction and Encapsulation. Explain with an example."
   ]
  },
  {
   "cell_type": "markdown",
   "id": "64b92a11-f582-43d5-8dd9-d10d68a993a1",
   "metadata": {},
   "source": [
    "ans : In Abstraction mechanism hide selected method from class object\n",
    "    In Encapsulation is a mechanism of wrapping the data (variables) and code acting on the data (methods) together as a single unit. "
   ]
  },
  {
   "cell_type": "code",
   "execution_count": 5,
   "id": "1afc23d3-7462-4172-a13a-e971773de7da",
   "metadata": {},
   "outputs": [
    {
     "name": "stdout",
     "output_type": "stream",
     "text": [
      "Can't instantiate abstract class father with abstract method job\n"
     ]
    }
   ],
   "source": [
    "# Abstraction Example\n",
    "from abc import ABC, abstractmethod\n",
    "\n",
    "class father(ABC):\n",
    "    def __init__(self,title):\n",
    "        self.title=title\n",
    "    \n",
    "    @abstractmethod\n",
    "    def job(self):\n",
    "        print(\"Post\")\n",
    "try:\n",
    "    # Can not create Father Class Object\n",
    "    father('Basu')\n",
    "except Exception as e :\n",
    "    print(e)\n"
   ]
  },
  {
   "cell_type": "markdown",
   "id": "d8f044ae-b568-419a-aaf8-256e81bdf2f1",
   "metadata": {},
   "source": [
    "# Encapsulation Example\n",
    "\n",
    "class father:\n",
    "    def __init__(self, title):\n",
    "        self.title=title\n",
    "\n",
    "    def job(self):\n",
    "        print(\"Post & Your Title is \", self.title)\n",
    "try:\n",
    "    f = father('Basu')\n",
    "    f.job()\n",
    "except Exception as e :\n",
    "    print(e)\n"
   ]
  },
  {
   "cell_type": "markdown",
   "id": "583e9e79-72d2-4d12-95cf-061ab2fb40b1",
   "metadata": {},
   "source": [
    "_____________"
   ]
  },
  {
   "cell_type": "markdown",
   "id": "09cbd6b6-1bac-4b46-b205-8bd6e71b4ab5",
   "metadata": {},
   "source": [
    "Q3. What is abc module in python? Why is it used?"
   ]
  },
  {
   "cell_type": "markdown",
   "id": "9d238818-cafa-47cc-a31a-b4c81ca96d11",
   "metadata": {},
   "source": [
    "'abc' is a inbuilt module in python. \n",
    "it prevent to create class object and its  selected method"
   ]
  },
  {
   "cell_type": "markdown",
   "id": "1ce0963f-95ac-4895-bf14-63a79072111d",
   "metadata": {},
   "source": [
    "___________"
   ]
  },
  {
   "cell_type": "markdown",
   "id": "5475c4f2-81ca-44c4-b75c-98195a84550e",
   "metadata": {},
   "source": [
    "Q4. How can we achieve data abstraction?"
   ]
  },
  {
   "cell_type": "code",
   "execution_count": 13,
   "id": "a9b158ba-e262-49ae-bf29-329ab5c09904",
   "metadata": {},
   "outputs": [
    {
     "name": "stdout",
     "output_type": "stream",
     "text": [
      "Can't instantiate abstract class test with abstract method ptest\n"
     ]
    }
   ],
   "source": [
    "# ans :  class inherit the property of abc\n",
    "import abc\n",
    "class test(abc.ABC):\n",
    "    @abc.abstractmethod\n",
    "    def ptest(self):\n",
    "        print('it works')\n",
    "try:\n",
    "    t = test()\n",
    "except Exception as e:\n",
    "    print(e)"
   ]
  },
  {
   "cell_type": "markdown",
   "id": "89cf2a32-55f2-44a8-9b34-23766464d897",
   "metadata": {},
   "source": [
    "____________________"
   ]
  },
  {
   "cell_type": "markdown",
   "id": "bfc21d88-3fc4-409b-bb7c-9a882ac0503c",
   "metadata": {},
   "source": [
    "Q5. Can we create an instance of an abstract class? Explain your answer."
   ]
  },
  {
   "cell_type": "code",
   "execution_count": null,
   "id": "572d3d55-45c3-47c8-8ef2-b2ee87ac8e5b",
   "metadata": {},
   "outputs": [],
   "source": [
    "# Yes We can"
   ]
  },
  {
   "cell_type": "code",
   "execution_count": 16,
   "id": "86b8b565-84e6-456e-a88b-afbefc001a83",
   "metadata": {},
   "outputs": [
    {
     "name": "stdout",
     "output_type": "stream",
     "text": [
      "father world sudiip\n",
      "name word sudip\n",
      "Codder\n",
      " I am your mother\n",
      "success\n",
      "close\n"
     ]
    }
   ],
   "source": [
    "from abc import ABC, abstractmethod\n",
    "\n",
    "class father(ABC):\n",
    "    def __init__(self,title):\n",
    "        self.title=title\n",
    "        \n",
    "    # This method is callable\n",
    "    def name1(self):\n",
    "        print(\"father world\", self.title)\n",
    "\n",
    "        # This method is not Callable\n",
    "    @abstractmethod\n",
    "    def job(self):\n",
    "        print(\"Post\")\n",
    "        \n",
    "    # This Method is Callable\n",
    "    def wife(self):\n",
    "        print(' I am your mother')\n",
    "        \n",
    "        \n",
    "class son(father):\n",
    "    def name(self):\n",
    "        print(\"name word sudip\")\n",
    "\n",
    "    \n",
    "    def job(self):\n",
    "        print(\"Codder\")\n",
    "try:\n",
    "    #t = father('gopal')\n",
    "    \n",
    "    f = son('sudiip')\n",
    "    f.name1()\n",
    "    f.name()\n",
    "    f.job()\n",
    "    f.wife()\n",
    "except Exception as e:\n",
    "    print(e)\n",
    "else:\n",
    "    print('success')\n",
    "finally:\n",
    "    print('close')"
   ]
  },
  {
   "cell_type": "code",
   "execution_count": null,
   "id": "30c020e6-b908-47e7-8d71-723622ab3df4",
   "metadata": {},
   "outputs": [],
   "source": []
  }
 ],
 "metadata": {
  "kernelspec": {
   "display_name": "Python 3 (ipykernel)",
   "language": "python",
   "name": "python3"
  },
  "language_info": {
   "codemirror_mode": {
    "name": "ipython",
    "version": 3
   },
   "file_extension": ".py",
   "mimetype": "text/x-python",
   "name": "python",
   "nbconvert_exporter": "python",
   "pygments_lexer": "ipython3",
   "version": "3.10.8"
  }
 },
 "nbformat": 4,
 "nbformat_minor": 5
}
