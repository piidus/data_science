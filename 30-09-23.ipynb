{
 "cells": [
  {
   "cell_type": "markdown",
   "id": "12d63aec-9b83-4df7-b12d-f5d9d941a813",
   "metadata": {},
   "source": [
    "1. Write a program to accept percentage from the user and display the grade \n",
    "according to the following criteria: \n",
    "Marks               Grade \n",
    ">90                 A \n",
    ">80 and <=90        B \n",
    ">=60 and <=80       C \n",
    "below 60            D "
   ]
  },
  {
   "cell_type": "code",
   "execution_count": 1,
   "id": "dcb7449f-0603-4f7f-ade7-37ba06c3b02f",
   "metadata": {},
   "outputs": [
    {
     "ename": "KeyboardInterrupt",
     "evalue": "Interrupted by user",
     "output_type": "error",
     "traceback": [
      "\u001b[0;31m---------------------------------------------------------------------------\u001b[0m",
      "\u001b[0;31mKeyboardInterrupt\u001b[0m                         Traceback (most recent call last)",
      "Cell \u001b[0;32mIn[1], line 1\u001b[0m\n\u001b[0;32m----> 1\u001b[0m q \u001b[38;5;241m=\u001b[39m \u001b[38;5;28mint\u001b[39m(\u001b[38;5;28;43minput\u001b[39;49m\u001b[43m(\u001b[49m\u001b[38;5;124;43m\"\u001b[39;49m\u001b[38;5;124;43menter your marks : \u001b[39;49m\u001b[38;5;124;43m\"\u001b[39;49m\u001b[43m)\u001b[49m)\n\u001b[1;32m      2\u001b[0m \u001b[38;5;28;01mif\u001b[39;00m q \u001b[38;5;241m>\u001b[39m \u001b[38;5;241m90\u001b[39m:\n\u001b[1;32m      3\u001b[0m     \u001b[38;5;28mprint\u001b[39m(\u001b[38;5;124m\"\u001b[39m\u001b[38;5;124mYour Grade is - A\u001b[39m\u001b[38;5;124m\"\u001b[39m)\n",
      "File \u001b[0;32m/opt/conda/lib/python3.10/site-packages/ipykernel/kernelbase.py:1175\u001b[0m, in \u001b[0;36mKernel.raw_input\u001b[0;34m(self, prompt)\u001b[0m\n\u001b[1;32m   1171\u001b[0m \u001b[38;5;28;01mif\u001b[39;00m \u001b[38;5;129;01mnot\u001b[39;00m \u001b[38;5;28mself\u001b[39m\u001b[38;5;241m.\u001b[39m_allow_stdin:\n\u001b[1;32m   1172\u001b[0m     \u001b[38;5;28;01mraise\u001b[39;00m StdinNotImplementedError(\n\u001b[1;32m   1173\u001b[0m         \u001b[38;5;124m\"\u001b[39m\u001b[38;5;124mraw_input was called, but this frontend does not support input requests.\u001b[39m\u001b[38;5;124m\"\u001b[39m\n\u001b[1;32m   1174\u001b[0m     )\n\u001b[0;32m-> 1175\u001b[0m \u001b[38;5;28;01mreturn\u001b[39;00m \u001b[38;5;28;43mself\u001b[39;49m\u001b[38;5;241;43m.\u001b[39;49m\u001b[43m_input_request\u001b[49m\u001b[43m(\u001b[49m\n\u001b[1;32m   1176\u001b[0m \u001b[43m    \u001b[49m\u001b[38;5;28;43mstr\u001b[39;49m\u001b[43m(\u001b[49m\u001b[43mprompt\u001b[49m\u001b[43m)\u001b[49m\u001b[43m,\u001b[49m\n\u001b[1;32m   1177\u001b[0m \u001b[43m    \u001b[49m\u001b[38;5;28;43mself\u001b[39;49m\u001b[38;5;241;43m.\u001b[39;49m\u001b[43m_parent_ident\u001b[49m\u001b[43m[\u001b[49m\u001b[38;5;124;43m\"\u001b[39;49m\u001b[38;5;124;43mshell\u001b[39;49m\u001b[38;5;124;43m\"\u001b[39;49m\u001b[43m]\u001b[49m\u001b[43m,\u001b[49m\n\u001b[1;32m   1178\u001b[0m \u001b[43m    \u001b[49m\u001b[38;5;28;43mself\u001b[39;49m\u001b[38;5;241;43m.\u001b[39;49m\u001b[43mget_parent\u001b[49m\u001b[43m(\u001b[49m\u001b[38;5;124;43m\"\u001b[39;49m\u001b[38;5;124;43mshell\u001b[39;49m\u001b[38;5;124;43m\"\u001b[39;49m\u001b[43m)\u001b[49m\u001b[43m,\u001b[49m\n\u001b[1;32m   1179\u001b[0m \u001b[43m    \u001b[49m\u001b[43mpassword\u001b[49m\u001b[38;5;241;43m=\u001b[39;49m\u001b[38;5;28;43;01mFalse\u001b[39;49;00m\u001b[43m,\u001b[49m\n\u001b[1;32m   1180\u001b[0m \u001b[43m\u001b[49m\u001b[43m)\u001b[49m\n",
      "File \u001b[0;32m/opt/conda/lib/python3.10/site-packages/ipykernel/kernelbase.py:1217\u001b[0m, in \u001b[0;36mKernel._input_request\u001b[0;34m(self, prompt, ident, parent, password)\u001b[0m\n\u001b[1;32m   1214\u001b[0m             \u001b[38;5;28;01mbreak\u001b[39;00m\n\u001b[1;32m   1215\u001b[0m \u001b[38;5;28;01mexcept\u001b[39;00m \u001b[38;5;167;01mKeyboardInterrupt\u001b[39;00m:\n\u001b[1;32m   1216\u001b[0m     \u001b[38;5;66;03m# re-raise KeyboardInterrupt, to truncate traceback\u001b[39;00m\n\u001b[0;32m-> 1217\u001b[0m     \u001b[38;5;28;01mraise\u001b[39;00m \u001b[38;5;167;01mKeyboardInterrupt\u001b[39;00m(\u001b[38;5;124m\"\u001b[39m\u001b[38;5;124mInterrupted by user\u001b[39m\u001b[38;5;124m\"\u001b[39m) \u001b[38;5;28;01mfrom\u001b[39;00m \u001b[38;5;28mNone\u001b[39m\n\u001b[1;32m   1218\u001b[0m \u001b[38;5;28;01mexcept\u001b[39;00m \u001b[38;5;167;01mException\u001b[39;00m:\n\u001b[1;32m   1219\u001b[0m     \u001b[38;5;28mself\u001b[39m\u001b[38;5;241m.\u001b[39mlog\u001b[38;5;241m.\u001b[39mwarning(\u001b[38;5;124m\"\u001b[39m\u001b[38;5;124mInvalid Message:\u001b[39m\u001b[38;5;124m\"\u001b[39m, exc_info\u001b[38;5;241m=\u001b[39m\u001b[38;5;28;01mTrue\u001b[39;00m)\n",
      "\u001b[0;31mKeyboardInterrupt\u001b[0m: Interrupted by user"
     ]
    }
   ],
   "source": [
    "q = int(input(\"enter your marks : \"))\n",
    "if q > 90:\n",
    "    print(\"Your Grade is - A\")\n",
    "elif q > 80:\n",
    "    print(\"Your Grade is - B\")\n",
    "elif q >= 60:\n",
    "    print(\"Your Grade is - C\")\n",
    "else:\n",
    "    print(\"Your Grade is - D\")"
   ]
  },
  {
   "cell_type": "markdown",
   "id": "73f13af9-0b13-4916-88a6-cec9b4f5491b",
   "metadata": {},
   "source": [
    "2. Write a program to accept the cost price of a bike and \n",
    "display the road tax to be paid according to the following criteria: \n",
    "Tax   \n",
    "        Cost Price(in Rs) \n",
    "15% \n",
    "        >100000 \n",
    "10% \n",
    "        50000 and <= 100000 \n",
    "5% \n",
    "        <= 50000 "
   ]
  },
  {
   "cell_type": "code",
   "execution_count": null,
   "id": "f8cc1919-2b60-40af-8787-2c4f1d01aa68",
   "metadata": {},
   "outputs": [],
   "source": [
    "price = int(input(\"enter your cost price : \"))\n",
    "if price > 100000:\n",
    "    print(\"Your Tax slab is - 15%\")\n",
    "elif price > 50000:\n",
    "    print(\"Your Tax slab is - 10%\")\n",
    "elif price <= 50000:\n",
    "    print(\"Your Tax slab is - 5%\")"
   ]
  },
  {
   "cell_type": "markdown",
   "id": "c860a32b-c877-4af3-8224-1566655bc167",
   "metadata": {},
   "source": [
    "3. Accept any city from the user and display monuments of that city. \n",
    "City \n",
    "        Monument \n",
    "Delhi \n",
    "        Red Fort \n",
    "Agra \n",
    "        Taj Mahal \n",
    "Jaipur \n",
    "        Jal Mahal "
   ]
  },
  {
   "cell_type": "code",
   "execution_count": null,
   "id": "b66d142f-c61d-4f43-ad77-4053bfa85e57",
   "metadata": {},
   "outputs": [],
   "source": [
    "city = (input(\"enter your city : \")).upper()\n",
    "if city == \"Delhi\".upper():\n",
    "    print(\"monuments of that city is - Red Fort\")\n",
    "elif city == 'agra'.upper():\n",
    "    print(\"monuments of that city is - Taj Mahal\")\n",
    "elif city == 'jaipur'.upper():\n",
    "    print(\"monuments of that city is - Jal Mahal\")\n",
    "else:\n",
    "    print('Please chek your Spelling')"
   ]
  },
  {
   "cell_type": "markdown",
   "id": "a0050e8c-45c0-44f1-a7b7-3fd2250de7df",
   "metadata": {},
   "source": [
    "4. Check how many times a given number can be divided by 3 before it is less than or equal to 10"
   ]
  },
  {
   "cell_type": "code",
   "execution_count": null,
   "id": "416a6dce-4153-41c2-b7e4-7d072acd000a",
   "metadata": {},
   "outputs": [],
   "source": [
    "num = int(input('please enter your number'))\n",
    "result = 0\n",
    "for i in range(num):\n",
    "    if i>10 and i%3 ==0:\n",
    "        num = num-i\n",
    "        result+=1\n",
    "print(result)\n",
    "       \n",
    "        "
   ]
  },
  {
   "cell_type": "markdown",
   "id": "070d9ec9-01cb-4fef-865e-7fa81822f0cd",
   "metadata": {},
   "source": [
    "5. Why and When to Use while Loop in Python give a detailed description with example "
   ]
  },
  {
   "cell_type": "code",
   "execution_count": null,
   "id": "6f5f1ce7-ff55-4a7c-b756-a36b4985ee30",
   "metadata": {},
   "outputs": [],
   "source": [
    "# ans : When you want to run a loop until a certain criteria matched, you run while loop\n",
    "import random\n",
    "runner = True\n",
    "while runner:\n",
    "    num = random.randint(10, 20)\n",
    "    print(num)\n",
    "    if num == 15:\n",
    "        runner = False\n",
    "\n"
   ]
  },
  {
   "cell_type": "markdown",
   "id": "a86e4dfd-3980-4652-8f40-0d1fa906dd95",
   "metadata": {},
   "source": [
    "6. Use nested while loop to print 3 different pattern. "
   ]
  },
  {
   "cell_type": "code",
   "execution_count": null,
   "id": "82c9edf0-4f18-45c0-928e-94d26e677e52",
   "metadata": {},
   "outputs": [],
   "source": [
    "# Only one Type Example\n",
    "import random\n",
    "runner = True\n",
    "while runner:\n",
    "    num = random.randint(1,30)\n",
    "    if num >20:\n",
    "        print(' X '*num)\n",
    "        if num == 30:\n",
    "            runner = False\n",
    "    elif num > 10:\n",
    "        print(' - '*num)\n",
    "        if num == 19:\n",
    "            runner = False\n",
    "    else:\n",
    "        print('/ '*num)\n",
    "        if num == 9:\n",
    "            runner = False"
   ]
  },
  {
   "cell_type": "markdown",
   "id": "7b9520fb-b3b6-4437-9b83-064e4a6add9b",
   "metadata": {},
   "source": [
    "7. Reverse a while loop to display numbers from 10 to 1. "
   ]
  },
  {
   "cell_type": "code",
   "execution_count": 2,
   "id": "10b1b07d-f858-4f2b-b12c-980c8d5b1500",
   "metadata": {},
   "outputs": [
    {
     "name": "stdout",
     "output_type": "stream",
     "text": [
      "0\n",
      "1\n",
      "2\n",
      "3\n",
      "4\n",
      "5\n",
      "6\n",
      "7\n",
      "8\n",
      "9\n",
      "10\n"
     ]
    }
   ],
   "source": [
    "num = 0\n",
    "target = 10\n",
    "while num <= target:\n",
    "    print(num)\n",
    "    num+=1\n"
   ]
  },
  {
   "cell_type": "code",
   "execution_count": null,
   "id": "363ae93f-77e1-40cb-ad33-fe7cc456d217",
   "metadata": {},
   "outputs": [],
   "source": []
  },
  {
   "cell_type": "code",
   "execution_count": null,
   "id": "bfb3daed-80d4-40b8-9bae-1782137eba2f",
   "metadata": {},
   "outputs": [],
   "source": []
  }
 ],
 "metadata": {
  "kernelspec": {
   "display_name": "Python 3 (ipykernel)",
   "language": "python",
   "name": "python3"
  },
  "language_info": {
   "codemirror_mode": {
    "name": "ipython",
    "version": 3
   },
   "file_extension": ".py",
   "mimetype": "text/x-python",
   "name": "python",
   "nbconvert_exporter": "python",
   "pygments_lexer": "ipython3",
   "version": "3.10.8"
  }
 },
 "nbformat": 4,
 "nbformat_minor": 5
}
