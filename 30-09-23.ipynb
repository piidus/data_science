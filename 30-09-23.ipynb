{
 "cells": [
  {
   "cell_type": "markdown",
   "id": "12d63aec-9b83-4df7-b12d-f5d9d941a813",
   "metadata": {},
   "source": [
    "1. Write a program to accept percentage from the user and display the grade \n",
    "according to the following criteria: \n",
    "Marks               Grade \n",
    ">90                 A \n",
    ">80 and <=90        B \n",
    ">=60 and <=80       C \n",
    "below 60            D "
   ]
  },
  {
   "cell_type": "code",
   "execution_count": 3,
   "id": "dcb7449f-0603-4f7f-ade7-37ba06c3b02f",
   "metadata": {},
   "outputs": [
    {
     "name": "stdin",
     "output_type": "stream",
     "text": [
      "enter your marks :  50\n"
     ]
    },
    {
     "name": "stdout",
     "output_type": "stream",
     "text": [
      "Your Grade is - D\n"
     ]
    }
   ],
   "source": [
    "q = int(input(\"enter your marks : \"))\n",
    "if q > 90:\n",
    "    print(\"Your Grade is - A\")\n",
    "elif q > 80:\n",
    "    print(\"Your Grade is - B\")\n",
    "elif q >= 60:\n",
    "    print(\"Your Grade is - C\")\n",
    "else:\n",
    "    print(\"Your Grade is - D\")"
   ]
  },
  {
   "cell_type": "markdown",
   "id": "0ae5247f-2aca-403b-9737-bee0ed5ae26d",
   "metadata": {},
   "source": []
  },
  {
   "cell_type": "markdown",
   "id": "73f13af9-0b13-4916-88a6-cec9b4f5491b",
   "metadata": {},
   "source": [
    "2. Write a program to accept the cost price of a bike and \n",
    "display the road tax to be paid according to the following criteria: \n",
    "Tax   \n",
    "        Cost Price(in Rs) \n",
    "15% \n",
    "        >100000 \n",
    "10% \n",
    "        50000 and <= 100000 \n",
    "5% \n",
    "        <= 50000 "
   ]
  },
  {
   "cell_type": "code",
   "execution_count": 9,
   "id": "f8cc1919-2b60-40af-8787-2c4f1d01aa68",
   "metadata": {},
   "outputs": [
    {
     "name": "stdin",
     "output_type": "stream",
     "text": [
      "enter your cost price :  60000\n"
     ]
    },
    {
     "name": "stdout",
     "output_type": "stream",
     "text": [
      "Your Tax slab is - 10%\n"
     ]
    }
   ],
   "source": [
    "price = int(input(\"enter your cost price : \"))\n",
    "if price > 100000:\n",
    "    print(\"Your Tax slab is - 15%\")\n",
    "elif price > 50000:\n",
    "    print(\"Your Tax slab is - 10%\")\n",
    "elif price <= 50000:\n",
    "    print(\"Your Tax slab is - 5%\")\n",
    "else :\n",
    "    \n",
    "    print('check' )"
   ]
  },
  {
   "cell_type": "markdown",
   "id": "c860a32b-c877-4af3-8224-1566655bc167",
   "metadata": {},
   "source": [
    "3. Accept any city from the user and display monuments of that city. \n",
    "City \n",
    "        Monument \n",
    "Delhi \n",
    "        Red Fort \n",
    "Agra \n",
    "        Taj Mahal \n",
    "Jaipur \n",
    "        Jal Mahal "
   ]
  },
  {
   "cell_type": "code",
   "execution_count": 10,
   "id": "b66d142f-c61d-4f43-ad77-4053bfa85e57",
   "metadata": {},
   "outputs": [
    {
     "name": "stdin",
     "output_type": "stream",
     "text": [
      "enter your city :  delhi\n"
     ]
    },
    {
     "name": "stdout",
     "output_type": "stream",
     "text": [
      "monuments of that city is - Red Fort\n"
     ]
    }
   ],
   "source": [
    "city = (input(\"enter your city : \")).upper()\n",
    "if city == \"Delhi\".upper():\n",
    "    print(\"monuments of that city is - Red Fort\")\n",
    "elif city == 'agra'.upper():\n",
    "    print(\"monuments of that city is - Taj Mahal\")\n",
    "elif city == 'jaipur'.upper():\n",
    "    print(\"monuments of that city is - Jal Mahal\")\n",
    "else:\n",
    "    print('Please chek your Spelling')"
   ]
  },
  {
   "cell_type": "markdown",
   "id": "a0050e8c-45c0-44f1-a7b7-3fd2250de7df",
   "metadata": {},
   "source": [
    "4. Check how many times a given number can be divided by 3 before it is less than or equal to 10"
   ]
  },
  {
   "cell_type": "code",
   "execution_count": 11,
   "id": "416a6dce-4153-41c2-b7e4-7d072acd000a",
   "metadata": {},
   "outputs": [
    {
     "name": "stdin",
     "output_type": "stream",
     "text": [
      "please enter your number 50\n"
     ]
    },
    {
     "name": "stdout",
     "output_type": "stream",
     "text": [
      "13\n"
     ]
    }
   ],
   "source": [
    "num = int(input('please enter your number'))\n",
    "result = 0\n",
    "for i in range(num):\n",
    "    if i<=10 and i%3 ==0:\n",
    "        num = num-i\n",
    "        result+=1\n",
    "print(result)\n",
    "       \n",
    "        "
   ]
  },
  {
   "cell_type": "markdown",
   "id": "070d9ec9-01cb-4fef-865e-7fa81822f0cd",
   "metadata": {},
   "source": [
    "5. Why and When to Use while Loop in Python give a detailed description with example "
   ]
  },
  {
   "cell_type": "code",
   "execution_count": 12,
   "id": "6f5f1ce7-ff55-4a7c-b756-a36b4985ee30",
   "metadata": {},
   "outputs": [
    {
     "name": "stdout",
     "output_type": "stream",
     "text": [
      "16\n",
      "20\n",
      "17\n",
      "19\n",
      "17\n",
      "17\n",
      "14\n",
      "17\n",
      "11\n",
      "12\n",
      "19\n",
      "19\n",
      "19\n",
      "13\n",
      "13\n",
      "17\n",
      "19\n",
      "10\n",
      "20\n",
      "20\n",
      "13\n",
      "13\n",
      "15\n"
     ]
    }
   ],
   "source": [
    "# ans : When you want to run a loop until a certain criteria matched, you run while loop\n",
    "import random\n",
    "runner = True\n",
    "while runner:\n",
    "    num = random.randint(10, 20)\n",
    "    print(num)\n",
    "    if num == 15:\n",
    "        runner = False\n",
    "\n"
   ]
  },
  {
   "cell_type": "markdown",
   "id": "a86e4dfd-3980-4652-8f40-0d1fa906dd95",
   "metadata": {},
   "source": [
    "6. Use nested while loop to print 3 different pattern. "
   ]
  },
  {
   "cell_type": "code",
   "execution_count": 13,
   "id": "82c9edf0-4f18-45c0-928e-94d26e677e52",
   "metadata": {},
   "outputs": [
    {
     "name": "stdout",
     "output_type": "stream",
     "text": [
      " X  X  X  X  X  X  X  X  X  X  X  X  X  X  X  X  X  X  X  X  X  X  X \n",
      "/ / / / / / / / / \n"
     ]
    }
   ],
   "source": [
    "# Only one Type Example\n",
    "import random\n",
    "runner = True\n",
    "while runner:\n",
    "    num = random.randint(1,30)\n",
    "    if num >20:\n",
    "        print(' X '*num)\n",
    "        if num == 30:\n",
    "            runner = False\n",
    "    elif num > 10:\n",
    "        print(' - '*num)\n",
    "        if num == 19:\n",
    "            runner = False\n",
    "    else:\n",
    "        print('/ '*num)\n",
    "        if num == 9:\n",
    "            runner = False"
   ]
  },
  {
   "cell_type": "markdown",
   "id": "7b9520fb-b3b6-4437-9b83-064e4a6add9b",
   "metadata": {},
   "source": [
    "7. Reverse a while loop to display numbers from 10 to 1. "
   ]
  },
  {
   "cell_type": "code",
   "execution_count": 16,
   "id": "10b1b07d-f858-4f2b-b12c-980c8d5b1500",
   "metadata": {},
   "outputs": [
    {
     "name": "stdout",
     "output_type": "stream",
     "text": [
      "10\n",
      "9\n",
      "8\n",
      "7\n",
      "6\n",
      "5\n",
      "4\n",
      "3\n",
      "2\n",
      "1\n",
      "0\n"
     ]
    }
   ],
   "source": [
    "num = 0\n",
    "target = 10\n",
    "while num <= target:\n",
    "    print(target-num)\n",
    "    num+=1\n"
   ]
  },
  {
   "cell_type": "code",
   "execution_count": null,
   "id": "363ae93f-77e1-40cb-ad33-fe7cc456d217",
   "metadata": {},
   "outputs": [],
   "source": []
  },
  {
   "cell_type": "code",
   "execution_count": null,
   "id": "bfb3daed-80d4-40b8-9bae-1782137eba2f",
   "metadata": {},
   "outputs": [],
   "source": []
  },
  {
   "cell_type": "code",
   "execution_count": null,
   "id": "f7245ba7-5e25-4e6d-9b51-37819d67e2ce",
   "metadata": {},
   "outputs": [],
   "source": []
  }
 ],
 "metadata": {
  "kernelspec": {
   "display_name": "Python 3 (ipykernel)",
   "language": "python",
   "name": "python3"
  },
  "language_info": {
   "codemirror_mode": {
    "name": "ipython",
    "version": 3
   },
   "file_extension": ".py",
   "mimetype": "text/x-python",
   "name": "python",
   "nbconvert_exporter": "python",
   "pygments_lexer": "ipython3",
   "version": "3.10.8"
  }
 },
 "nbformat": 4,
 "nbformat_minor": 5
}
