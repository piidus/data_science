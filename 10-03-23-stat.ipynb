{
 "cells": [
  {
   "cell_type": "markdown",
   "id": "fd2f3aee",
   "metadata": {},
   "source": [
    "### Q1: What is Estimation Statistics? Explain point estimate and interval estimate. \n",
    "\n",
    "   - Estimation statistics, or simply estimation, is a data analysis framework that uses a combination of effect sizes, confidence intervals, precision planning, and meta-analysis to plan experiments, analyze data and interpret results. It complements hypothesis testing approaches such as null hypothesis significance testing (NHST), by going beyond the question is an effect present or not, and provides information about how large an effect is. Estimation statistics is sometimes referred to as the new statistics.\n",
    "       - A point estimate is a single value estimate of a parameter. For instance, a sample mean is a point estimate of a population mean.\n",
    "       - An interval estimate gives you a range of values where the parameter is expected to lie. A confidence interval is the most common type of interval estimate.\n",
    "       _____________"
   ]
  },
  {
   "cell_type": "raw",
   "id": "9e0b92df",
   "metadata": {},
   "source": []
  },
  {
   "cell_type": "markdown",
   "id": "849c3619",
   "metadata": {},
   "source": [
    "### Q2. Write a Python function to estimate the population mean using a sample mean and standard deviation."
   ]
  },
  {
   "cell_type": "code",
   "execution_count": 1,
   "id": "cb113895",
   "metadata": {},
   "outputs": [
    {
     "name": "stdout",
     "output_type": "stream",
     "text": [
      "population mean : 6.583333333333333 \n",
      "sample mean 7.181818181818182\n"
     ]
    }
   ],
   "source": [
    "# population = X, Sample = x\n",
    "X_data = [1,1,1,5,6,6, 7,8, 9,10,12,13]\n",
    "X_mean_mu = sum(X_data)/len(X_data)\n",
    "# Same Calculation for sample\n",
    "x_mean_bar = sum(X_data)/(len(X_data)-1)\n",
    "print(\"population mean :\", X_mean_mu,'\\n' \"sample mean\", x_mean_bar)"
   ]
  },
  {
   "cell_type": "markdown",
   "id": "e7e9077d",
   "metadata": {},
   "source": [
    "### Q3: What is Hypothesis testing? Why is it used? State the importance of Hypothesis testing.\n",
    "\n",
    "<h4> Hypothesis testing is a tool for making statistical inferences about the population data.</h4> <h4>It is an analysis tool that tests assumptions and determines how likely something is within a given standard of accuracy.</h4> <h4> Hypothesis testing provides a way to verify whether the results of an experiment are valid.</h4>"
   ]
  },
  {
   "cell_type": "code",
   "execution_count": 2,
   "id": "9178e47e",
   "metadata": {},
   "outputs": [],
   "source": [
    "import pandas as pd\n",
    "import math"
   ]
  },
  {
   "cell_type": "markdown",
   "id": "a462feeb",
   "metadata": {},
   "source": [
    "### Q4. Create a hypothesis that states whether the average weight of male college students is greater than the average weight of female college students."
   ]
  },
  {
   "cell_type": "code",
   "execution_count": 3,
   "id": "73c615f7",
   "metadata": {},
   "outputs": [
    {
     "name": "stdout",
     "output_type": "stream",
     "text": [
      "Average weight of male is 69.67841726618705 median : 69.7 \n",
      "Average wight of female is 58.85124378109452 median 57.5\n"
     ]
    }
   ],
   "source": [
    "# Data processing\n",
    "data = pd.read_csv(filepath_or_buffer = \"https://raw.githubusercontent.com/piidus/data_science/data-sample/weight_figshare.csv\", index_col=\"ID\")\n",
    "data = data.rename(columns={'Sex (male=0; female=1)':'Sex', 'Weight 1':'Weight' })\n",
    "data = data[['Sex', 'Weight']]\n",
    "male = data['Weight'][data['Sex']==0]\n",
    "female = data['Weight'][data['Sex']==1]\n",
    "print('Average weight of male is', male.mean(), 'median :', male.median(),'\\n' 'Average wight of female is', female.mean(), 'median', female.median())\n",
    "# female.head(), male.head()"
   ]
  },
  {
   "cell_type": "markdown",
   "id": "edb264ae",
   "metadata": {},
   "source": [
    "    -- The average height of male is greater in this data\n",
    "____________"
   ]
  },
  {
   "cell_type": "markdown",
   "id": "19ea8a79",
   "metadata": {},
   "source": [
    "### Q5. Write a Python script to conduct a hypothesis test on the difference between two population means, given a sample from each population."
   ]
  },
  {
   "cell_type": "code",
   "execution_count": 4,
   "id": "cfe21cd1",
   "metadata": {},
   "outputs": [
    {
     "name": "stdout",
     "output_type": "stream",
     "text": [
      "p-value : 0.03512946996176329 |  population mu : 69.67841726618705\n",
      "p-value : -0.058422418202513496 |  population mu : 58.85124378109452\n"
     ]
    }
   ],
   "source": [
    "def hypothesis_test(data, sample_size: int):\n",
    "    '''\n",
    "    data : dataframe, sample_size : integar\n",
    "    '''\n",
    "    mu = data.mean()\n",
    "    sample_data = data[:sample_size]\n",
    "    x_bar = sample_data.mean()\n",
    "    std = sample_data.std()\n",
    "    N = len(sample_data)\n",
    "    \n",
    "    p_value_step1 = (x_bar-mu)/(std/math.sqrt(N))\n",
    "    print('p-value :', p_value_step1, '|  population mu :',mu)\n",
    "#     print((sample_size))\n",
    "#     print(mu, x_bar)\n",
    "\n",
    "hypothesis_test(male, 40)\n",
    "hypothesis_test(female, 40)"
   ]
  },
  {
   "cell_type": "code",
   "execution_count": 5,
   "id": "f2e52368",
   "metadata": {},
   "outputs": [],
   "source": [
    "# z-score : male = -1.80 . female = -1.57"
   ]
  },
  {
   "cell_type": "code",
   "execution_count": 6,
   "id": "dc25b5d7",
   "metadata": {},
   "outputs": [
    {
     "name": "stdout",
     "output_type": "stream",
     "text": [
      "t-statistic: 5.89\n",
      "p-value: 0.0000\n"
     ]
    }
   ],
   "source": [
    "import numpy as np\n",
    "from scipy.stats import t\n",
    "\n",
    "# Define the sample data\n",
    "sample1 = male[:40] # np.array([1, 2, 3, 4, 5])\n",
    "sample2 = female[:40] #np.array([3, 4, 5, 6, 7])\n",
    "\n",
    "# Calculate the means and standard deviations of the samples\n",
    "mean1 = np.mean(sample1)\n",
    "mean2 = np.mean(sample2)\n",
    "std1 = np.std(sample1, ddof=1)\n",
    "std2 = np.std(sample2, ddof=1)\n",
    "\n",
    "# Calculate the pooled standard deviation\n",
    "n1 = len(sample1)\n",
    "n2 = len(sample2)\n",
    "df = n1 + n2 - 2\n",
    "sp = np.sqrt(((n1-1)*(std1**2) + (n2-1)*(std2**2)) / df)\n",
    "\n",
    "# Calculate the t-statistic\n",
    "t_statistic = (mean1 - mean2) / (sp * np.sqrt(1/n1 + 1/n2))\n",
    "\n",
    "# Calculate the p-value\n",
    "p_value = 2 * t.sf(np.abs(t_statistic), df)\n",
    "\n",
    "# Print the results\n",
    "print(\"t-statistic: {:.2f}\".format(t_statistic))\n",
    "print(\"p-value: {:.4f}\".format(p_value))\n"
   ]
  },
  {
   "cell_type": "code",
   "execution_count": 7,
   "id": "07bc1e60",
   "metadata": {},
   "outputs": [
    {
     "name": "stdout",
     "output_type": "stream",
     "text": [
      "Test statistic:  5.885486303052046\n",
      "P-value:  9.438757751979327e-08\n",
      "The difference in means is statistically significant.\n"
     ]
    }
   ],
   "source": [
    "from scipy.stats import ttest_ind\n",
    "\n",
    "# define the sample data for two populations\n",
    "pop1 = male[:40]\n",
    "pop2 = female[:40]\n",
    "\n",
    "# conduct a two-sample t-test on the difference between the population means\n",
    "statistic, pvalue = ttest_ind(pop1, pop2)\n",
    "\n",
    "# print the test results\n",
    "print('Test statistic: ', statistic)\n",
    "print('P-value: ', pvalue)\n",
    "\n",
    "# determine the significance level\n",
    "alpha = 0.05\n",
    "\n",
    "if pvalue < alpha:\n",
    "    print('The difference in means is statistically significant.')\n",
    "else:\n",
    "    print('The difference in means is not statistically significant.')\n"
   ]
  },
  {
   "cell_type": "markdown",
   "id": "08bb5454",
   "metadata": {},
   "source": [
    "### Q6: What is a null and alternative hypothesis? Give some examples.\n",
    "   - Null hypothesis is default or previous statement on which total calculation is based.\n",
    "   - alternative hypothesis is new or assumtion to cross the null hypothesis"
   ]
  },
  {
   "cell_type": "raw",
   "id": "9e185653",
   "metadata": {},
   "source": []
  },
  {
   "cell_type": "markdown",
   "id": "f64420e9",
   "metadata": {},
   "source": [
    "### Q7: Write down the steps involved in hypothesis testing.\n",
    "\n",
    "- Here are the general steps involved in hypothesis testing:\n",
    "\n",
    "    - State the null hypothesis (H0) and alternative hypothesis (H1): The null hypothesis is the default assumption that there is no significant difference or relationship between the variables of interest, while the alternative hypothesis is the opposite.\n",
    "\n",
    "    - Choose a significance level (α): The significance level is the threshold below which we reject the null hypothesis. Typically, a significance level of 0.05 is chosen, which means that we are willing to accept a 5% chance of rejecting the null hypothesis when it is actually true.\n",
    "\n",
    "    - Determine the appropriate statistical test: The choice of statistical test depends on the type of data and the research question being asked. Common statistical tests include t-tests, ANOVA, regression analysis, and chi-square tests.\n",
    "\n",
    "    - Calculate the test statistic: The test statistic is a measure of the degree of difference or relationship between the variables of interest. It is calculated based on the sample data and the chosen statistical test.\n",
    "\n",
    "    - Calculate the p-value: The p-value is the probability of observing a test statistic as extreme as the one calculated, assuming the null hypothesis is true.\n",
    "\n",
    "    - Compare the p-value to the significance level: If the p-value is less than the significance level, we reject the null hypothesis and conclude that there is evidence for the alternative hypothesis. If the p-value is greater than or equal to the significance level, we fail to reject the null hypothesis and conclude that there is not enough evidence to support the alternative hypothesis.\n",
    "\n",
    "    - Interpret the results: If we reject the null hypothesis, we can interpret the results in favor of the alternative hypothesis. Otherwise, we conclude that there is not enough evidence to support the alternative hypothesis.\n",
    "\n",
    "    - Draw conclusions and make recommendations: Based on the results of the hypothesis test, we can draw conclusions about the research question and make recommendations for future research or decision-making."
   ]
  },
  {
   "cell_type": "code",
   "execution_count": null,
   "id": "f3926aba",
   "metadata": {},
   "outputs": [],
   "source": []
  },
  {
   "cell_type": "markdown",
   "id": "02165c34",
   "metadata": {},
   "source": [
    "### Q8. Define p-value and explain its significance in hypothesis testing.\n",
    "\n",
    "   - p-value is a point estimator,\n",
    "    - In hypothesis testing, the p-value is the probability of obtaining a test statistic as extreme as, or more extreme than, the observed value, assuming that the null hypothesis is true. Put simply, the p-value tells you the likelihood of obtaining the observed data, or data more extreme, under the assumption that the null hypothesis is true.\n",
    "\n",
    "    - The p-value is significant in hypothesis testing because it allows you to make a decision about whether to reject or fail to reject the null hypothesis. Typically, a predetermined significance level (alpha) is chosen, and if the p-value is less than or equal to alpha, then the null hypothesis is rejected in favor of the alternative hypothesis. If the p-value is greater than alpha, then the null hypothesis is not rejected.\n",
    "\n",
    "        - For example, suppose we want to test the hypothesis that the mean weight of a population of apples is 100 grams. We collect a sample of apples and calculate the sample mean weight to be 95 grams, with a p-value of 0.02. If we choose a significance level of 0.05, then we can reject the null hypothesis and conclude that the mean weight of the population is not 100 grams.\n",
    "\n",
    "    - The p-value provides a way to quantify the evidence against the null hypothesis, with smaller p-values indicating stronger evidence against the null hypothesis. However, it is important to note that the p-value does not provide information about the effect size or the practical significance of the result. Therefore, it is important to consider both the p-value and the effect size when interpreting the results of a hypothesis test."
   ]
  },
  {
   "cell_type": "code",
   "execution_count": null,
   "id": "e282070b",
   "metadata": {},
   "outputs": [],
   "source": []
  },
  {
   "cell_type": "markdown",
   "id": "89365466",
   "metadata": {},
   "source": [
    "### Q9. Generate a Student's t-distribution plot using Python's matplotlib library, with the degrees of freedom parameter set to 10."
   ]
  },
  {
   "cell_type": "code",
   "execution_count": 8,
   "id": "6daf5e3a",
   "metadata": {},
   "outputs": [
    {
     "data": {
      "image/png": "[encoded data removed]",
      "text/plain": [
       "<Figure size 640x480 with 1 Axes>"
      ]
     },
     "metadata": {},
     "output_type": "display_data"
    }
   ],
   "source": [
    "import numpy as np\n",
    "import matplotlib.pyplot as plt\n",
    "from scipy.stats import t\n",
    "\n",
    "# Define the degrees of freedom\n",
    "df = 10\n",
    "\n",
    "# Generate x values for the t-distribution plot\n",
    "x = np.linspace(t.ppf(0.01, df), t.ppf(0.99, df), 100)\n",
    "\n",
    "# Generate y values for the t-distribution plot\n",
    "y = t.pdf(x, df)\n",
    "\n",
    "# Create the plot\n",
    "plt.plot(x, y)\n",
    "\n",
    "# Set the plot title and axis labels\n",
    "plt.title(\"Student's t-Distribution with {} Degrees of Freedom\".format(df))\n",
    "plt.xlabel(\"x\")\n",
    "plt.ylabel(\"PDF\")\n",
    "\n",
    "# Show the plot\n",
    "plt.show()\n"
   ]
  },
  {
   "cell_type": "markdown",
   "id": "df1bffca",
   "metadata": {},
   "source": [
    "### Q10. Write a Python program to calculate the two-sample t-test for independent samples, given two random samples of equal size and a null hypothesis that the population means are equal."
   ]
  },
  {
   "cell_type": "code",
   "execution_count": 9,
   "id": "49308db2",
   "metadata": {},
   "outputs": [
    {
     "name": "stdout",
     "output_type": "stream",
     "text": [
      "Fail to reject the null hypothesis.\n",
      "t-statistic:  0.0\n",
      "p-value:  1.0\n"
     ]
    }
   ],
   "source": [
    "import numpy as np\n",
    "from scipy.stats import t\n",
    "\n",
    "# Define the two random samples\n",
    "sample1 = [10, 12, 14, 16, 18]\n",
    "sample2 = [8, 11, 14, 17, 20]\n",
    "\n",
    "# Define the null hypothesis\n",
    "null_hypothesis = \"The population means are equal.\"\n",
    "\n",
    "# Calculate the means and standard deviations of the two samples\n",
    "mean1 = np.mean(sample1)\n",
    "mean2 = np.mean(sample2)\n",
    "std_dev1 = np.std(sample1, ddof=1)\n",
    "std_dev2 = np.std(sample2, ddof=1)\n",
    "\n",
    "# Calculate the pooled standard deviation\n",
    "pooled_std_dev = np.sqrt(((len(sample1) - 1) * std_dev1 ** 2 + (len(sample2) - 1) * std_dev2 ** 2) / (len(sample1) + len(sample2) - 2))\n",
    "\n",
    "# Calculate the t-statistic\n",
    "t_stat = (mean1 - mean2) / (pooled_std_dev * np.sqrt(2 / len(sample1)))\n",
    "\n",
    "# Define the significance level\n",
    "alpha = 0.05\n",
    "\n",
    "# Calculate the degrees of freedom\n",
    "df = len(sample1) + len(sample2) - 2\n",
    "\n",
    "# Calculate the critical value\n",
    "critical_value = t.ppf(1 - alpha/2, df)\n",
    "\n",
    "# Compare the t-statistic to the critical value\n",
    "if abs(t_stat) > critical_value:\n",
    "    print(\"Reject the null hypothesis.\")\n",
    "else:\n",
    "    print(\"Fail to reject the null hypothesis.\")\n",
    "\n",
    "# Print the t-statistic and p-value\n",
    "p_value = 2 * (1 - t.cdf(abs(t_stat), df))\n",
    "print(\"t-statistic: \", t_stat)\n",
    "print(\"p-value: \", p_value)\n"
   ]
  },
  {
   "cell_type": "markdown",
   "id": "60b9fc30",
   "metadata": {},
   "source": [
    "### Q11: What is Student’s t distribution? When to use the t-Distribution.\n",
    "\n",
    "    - When we calculate p-value without population data, we use student's t distribution.\n",
    "    it has different parameter, i.e. degee of freedom"
   ]
  },
  {
   "cell_type": "raw",
   "id": "07f79ba2",
   "metadata": {},
   "source": []
  },
  {
   "cell_type": "markdown",
   "id": "54d7d51d",
   "metadata": {},
   "source": [
    "### Q12: What is t-statistic? State the formula for t-statistic.\n",
    "\n",
    "    - In statistics, the t-statistic is a measure of the difference between the mean of a sample and the mean of the population from which the sample was drawn, normalized by the standard error of the sample mean. It is commonly used in hypothesis testing to determine whether a sample mean is significantly different from a population mean.\n",
    "\n",
    "- The formula for the t-statistic is:\n",
    "\n",
    "        - t = (x̄ - μ) / (s / √n)\n",
    "\n",
    "- where:\n",
    "\n",
    "    - x̄ is the sample mean\n",
    "    - μ is the population mean (under the null hypothesis)\n",
    "    - s is the sample standard deviation\n",
    "    - n is the sample size\n",
    "        - The t-statistic measures how many standard errors the sample mean is from the population mean. If the t-statistic is large (i.e., farther from zero), it suggests that the sample mean is significantly different from the population mean. The magnitude and direction of the t-statistic is determined by the difference between the sample mean and population mean, as well as the variability of the sample mean. If the sample mean is close to the population mean and the sample variability is low, the t-statistic will be small (i.e., closer to zero), suggesting that the sample mean is not significantly different from the population mean."
   ]
  },
  {
   "cell_type": "markdown",
   "id": "2057ca28",
   "metadata": {},
   "source": [
    "### Q13. A coffee shop owner wants to estimate the average daily revenue for their shop. They take a random sample of 50 days and find the sample mean revenue to be 500  with a standard deviation of 50. Estimate the population mean revenue with a 95% confidence interval."
   ]
  },
  {
   "cell_type": "markdown",
   "id": "514b41ac",
   "metadata": {},
   "source": [
    "To estimate the population mean revenue with a 95% confidence interval, we can use the following formula:\n",
    "\n",
    "CI = x̄ ± z* (s / √n)\n",
    "\n",
    "where:\n",
    "\n",
    "x̄ is the sample mean revenue\n",
    "s is the sample standard deviation\n",
    "n is the sample size\n",
    "z* is the z-score corresponding to the desired confidence level (95% confidence level corresponds to z* = 1.96)\n",
    "Substituting the given values, we get:\n",
    "\n",
    "CI = 500 ± 1.96 * (50 / √50)\n",
    "\n",
    "Simplifying, we get:\n",
    "\n",
    "CI = 500 ± 13.82\n",
    "\n",
    "So the 95% confidence interval for the population mean revenue is ($486.18, $513.82). This means that we can be 95% confident that the true population mean revenue lies within this range."
   ]
  },
  {
   "cell_type": "markdown",
   "id": "aa427518",
   "metadata": {},
   "source": [
    "### Q14. A researcher hypothesizes that a new drug will decrease blood pressure by 10 mmHg. They conduct a clinical trial with 100 patients and find that the sample mean decrease in blood pressure is 8 mmHg with a standard deviation of 3 mmHg. Test the hypothesis with a significance level of 0.05."
   ]
  },
  {
   "cell_type": "markdown",
   "id": "346622a4",
   "metadata": {},
   "source": [
    "To test the hypothesis that the new drug will decrease blood pressure by 10 mmHg, we can perform a one-sample t-test with the following null and alternative hypotheses:\n",
    "\n",
    "H0: µ = 10 (the drug does not decrease blood pressure by 10 mmHg)\n",
    "Ha: µ < 10 (the drug decreases blood pressure by less than 10 mmHg)\n",
    "\n",
    "where µ is the true population mean decrease in blood pressure.\n",
    "\n",
    "We can use the t-statistic formula to calculate the test statistic:\n",
    "\n",
    "t = (x̄ - µ) / (s / √n)\n",
    "\n",
    "where:\n",
    "\n",
    "x̄ is the sample mean decrease in blood pressure (8 mmHg)\n",
    "µ is the hypothesized population mean decrease in blood pressure (10 mmHg)\n",
    "s is the sample standard deviation (3 mmHg)\n",
    "n is the sample size (100)\n",
    "Substituting the given values, we get:\n",
    "\n",
    "t = (8 - 10) / (3 / √100) = -2.82\n",
    "\n",
    "The degrees of freedom for the t-test is (n-1) = 99. Using a significance level of 0.05 and a one-tailed test (since the alternative hypothesis is one-sided), we can find the critical t-value from a t-distribution table or calculator. For a significance level of 0.05 and 99 degrees of freedom, the critical t-value is -1.660.\n",
    "\n",
    "Since the calculated t-value (-2.82) is less than the critical t-value (-1.660), we reject the null hypothesis and conclude that there is sufficient evidence to support the claim that the new drug decreases blood pressure by less than 10 mmHg. In other words, the sample provides evidence that the true population mean decrease in blood pressure is less than 10 mmHg."
   ]
  },
  {
   "cell_type": "code",
   "execution_count": 10,
   "id": "dae810e0",
   "metadata": {},
   "outputs": [
    {
     "data": {
      "text/plain": [
       "(-6.666666666666667, 7.506144504985108e-10, True)"
      ]
     },
     "execution_count": 10,
     "metadata": {},
     "output_type": "execute_result"
    }
   ],
   "source": [
    "import scipy.stats as stats\n",
    "\n",
    "def one_sample_t_test(sample_mean, sample_std, sample_size, hypothesized_mean, alpha=0.05, alternative='less'):\n",
    "    \"\"\"\n",
    "    Perform a one-sample t-test to test the hypothesis that the population mean is equal to a hypothesized value.\n",
    "\n",
    "    Parameters:\n",
    "    sample_mean (float): sample mean\n",
    "    sample_std (float): sample standard deviation\n",
    "    sample_size (int): sample size\n",
    "    hypothesized_mean (float): hypothesized population mean\n",
    "    alpha (float): significance level (default is 0.05)\n",
    "    alternative (str): alternative hypothesis ('less', 'greater', or 'two-sided') (default is 'less')\n",
    "\n",
    "    Returns:\n",
    "    (float, float, bool): t-statistic, p-value, and a boolean indicating whether to reject the null hypothesis\n",
    "    \"\"\"\n",
    "    df = sample_size - 1\n",
    "    se = sample_std / (sample_size ** 0.5)\n",
    "    t_stat = (sample_mean - hypothesized_mean) / se\n",
    "    if alternative == 'less':\n",
    "        p_value = stats.t.cdf(t_stat, df)\n",
    "        reject_null = p_value < alpha\n",
    "    elif alternative == 'greater':\n",
    "        p_value = 1 - stats.t.cdf(t_stat, df)\n",
    "        reject_null = p_value < alpha\n",
    "    elif alternative == 'two-sided':\n",
    "        p_value = (1 - stats.t.cdf(abs(t_stat), df)) * 2\n",
    "        reject_null = p_value < alpha\n",
    "    else:\n",
    "        raise ValueError(\"alternative must be 'less', 'greater', or 'two-sided'\")\n",
    "    return t_stat, p_value, reject_null\n",
    "\n",
    "one_sample_t_test(8,3,100,10)"
   ]
  },
  {
   "cell_type": "code",
   "execution_count": 11,
   "id": "3c128cfb",
   "metadata": {},
   "outputs": [
    {
     "name": "stdout",
     "output_type": "stream",
     "text": [
      "t-statistic: -6.666666666666667\n",
      "p-value: 7.506144504985108e-10\n",
      "Reject null hypothesis: True\n"
     ]
    }
   ],
   "source": [
    "t_stat, p_value, reject_null = one_sample_t_test(sample_mean=8, sample_std=3, sample_size=100, hypothesized_mean=10, alpha=0.05, alternative='less')\n",
    "print('t-statistic:', t_stat)\n",
    "print('p-value:', p_value)\n",
    "print('Reject null hypothesis:', reject_null)\n"
   ]
  },
  {
   "cell_type": "markdown",
   "id": "29245051",
   "metadata": {},
   "source": [
    "### Q15. An electronics company produces a certain type of product with a mean weight of 5 pounds and a standard deviation of 0.5 pounds. A random sample of 25 products is taken, and the sample mean weight is found to be 4.8 pounds. Test the hypothesis that the true mean weight of the products is less than 5 pounds with a significance level of 0.01."
   ]
  },
  {
   "cell_type": "code",
   "execution_count": 12,
   "id": "93891f7f",
   "metadata": {},
   "outputs": [
    {
     "name": "stdout",
     "output_type": "stream",
     "text": [
      "Sample mean = 4.8\n",
      "Sample standard deviation = 0.5\n",
      "Sample size = 25\n",
      "Hypothesized mean = 5\n",
      "Significance level = 0.01\n",
      "Alternative hypothesis: True mean weight is less than 5\n",
      "t-statistic = -2.0000000000000018\n",
      "p-value = 0.02846992496829572\n",
      "Fail to reject null hypothesis\n"
     ]
    }
   ],
   "source": [
    "import math\n",
    "import scipy.stats as stats\n",
    "\n",
    "def one_sample_t_test(sample_mean, sample_std, sample_size, hypothesized_mean, alpha=0.05, alternative='less'):\n",
    "    \"\"\"\n",
    "    Perform a one-sample t-test to test the hypothesis that the population mean is equal to a hypothesized value.\n",
    "\n",
    "    Parameters:\n",
    "    sample_mean (float): sample mean\n",
    "    sample_std (float): sample standard deviation\n",
    "    sample_size (int): sample size\n",
    "    hypothesized_mean (float): hypothesized population mean\n",
    "    alpha (float): significance level (default is 0.05)\n",
    "    alternative (str): alternative hypothesis ('less', 'greater', or 'two-sided') (default is 'less')\n",
    "\n",
    "    Returns:\n",
    "    (float, float, bool): t-statistic, p-value, and a boolean indicating whether to reject the null hypothesis\n",
    "    \"\"\"\n",
    "    df = sample_size - 1\n",
    "    se = sample_std / (sample_size ** 0.5)\n",
    "    t_stat = (sample_mean - hypothesized_mean) / se\n",
    "    if alternative == 'less':\n",
    "        p_value = stats.t.cdf(t_stat, df)\n",
    "        reject_null = p_value < alpha\n",
    "    elif alternative == 'greater':\n",
    "        p_value = 1 - stats.t.cdf(t_stat, df)\n",
    "        reject_null = p_value < alpha\n",
    "    elif alternative == 'two-sided':\n",
    "        p_value = (1 - stats.t.cdf(abs(t_stat), df)) * 2\n",
    "        reject_null = p_value < alpha\n",
    "    else:\n",
    "        raise ValueError(\"alternative must be 'less', 'greater', or 'two-sided'\")\n",
    "    return t_stat, p_value, reject_null\n",
    "\n",
    "\n",
    "# Given data\n",
    "sample_mean = 4.8\n",
    "sample_std = 0.5\n",
    "sample_size = 25\n",
    "hypothesized_mean = 5\n",
    "alpha = 0.01\n",
    "\n",
    "# Perform one-sample t-test\n",
    "t_stat, p_value, reject_null = one_sample_t_test(sample_mean, sample_std, sample_size, hypothesized_mean, alpha, 'less')\n",
    "\n",
    "# Print results\n",
    "print(f\"Sample mean = {sample_mean}\")\n",
    "print(f\"Sample standard deviation = {sample_std}\")\n",
    "print(f\"Sample size = {sample_size}\")\n",
    "print(f\"Hypothesized mean = {hypothesized_mean}\")\n",
    "print(f\"Significance level = {alpha}\")\n",
    "print(f\"Alternative hypothesis: True mean weight is less than {hypothesized_mean}\")\n",
    "print(f\"t-statistic = {t_stat}\")\n",
    "print(f\"p-value = {p_value}\")\n",
    "if reject_null:\n",
    "    print(\"Reject null hypothesis\")\n",
    "else:\n",
    "    print(\"Fail to reject null hypothesis\")\n"
   ]
  },
  {
   "cell_type": "markdown",
   "id": "e881ecec",
   "metadata": {},
   "source": [
    "### Q16. Two groups of students are given different study materials to prepare for a test. The first group (n1 = 30) has a mean score of 80 with a standard deviation of 10, and the second group (n2 = 40) has a mean score of 75 with a standard deviation of 8. Test the hypothesis that the population means for the two groups are equal with a significance level of 0.01."
   ]
  },
  {
   "cell_type": "code",
   "execution_count": 13,
   "id": "82bd7b71",
   "metadata": {},
   "outputs": [
    {
     "name": "stdout",
     "output_type": "stream",
     "text": [
      "Reject the null hypothesis.\n",
      "t-statistic: 6.94\n",
      "p-value: 0.0000\n"
     ]
    }
   ],
   "source": [
    "from scipy.stats import t\n",
    "\n",
    "# sample data\n",
    "n1 = 30\n",
    "x1 = 80\n",
    "s1 = 10\n",
    "n2 = 40\n",
    "x2 = 75\n",
    "s2 = 8\n",
    "alpha = 0.01\n",
    "\n",
    "# calculate the pooled standard deviation\n",
    "s_pool = ((n1 - 1) * s1 ** 2 + (n2 - 1) * s2 ** 2) / (n1 + n2 - 2)\n",
    "s_pool = s_pool ** 0.5\n",
    "\n",
    "# calculate the t statistic and p-value\n",
    "t_stat = (x1 - x2) / (s_pool * ((1 / n1) + (1 / n2))) ** 0.5\n",
    "p_val = 2 * t.sf(abs(t_stat), n1 + n2 - 2)\n",
    "\n",
    "# compare the p-value with the significance level\n",
    "if p_val < alpha:\n",
    "    print(\"Reject the null hypothesis.\")\n",
    "else:\n",
    "    print(\"Fail to reject the null hypothesis.\")\n",
    "\n",
    "print(f\"t-statistic: {t_stat:.2f}\")\n",
    "print(f\"p-value: {p_val:.4f}\")\n"
   ]
  },
  {
   "cell_type": "markdown",
   "id": "f1fbee38",
   "metadata": {},
   "source": [
    "### Q17. A marketing company wants to estimate the average number of ads watched by viewers during a TV program. They take a random sample of 50 viewers and find that the sample mean is 4 with a standard deviation of 1.5. Estimate the population mean with a 99% confidence interval."
   ]
  },
  {
   "cell_type": "code",
   "execution_count": 14,
   "id": "edbb7f9b",
   "metadata": {},
   "outputs": [],
   "source": [
    "from scipy.stats import t\n",
    "import numpy as np\n",
    "\n",
    "def mean_confidence_interval(sample_mean, sample_std, sample_size, confidence_level):\n",
    "    df = sample_size - 1\n",
    "    alpha = 1 - confidence_level\n",
    "    t_value = abs(t.ppf(alpha/2, df))\n",
    "    margin_of_error = t_value * (sample_std / np.sqrt(sample_size))\n",
    "    lower_bound = sample_mean - margin_of_error\n",
    "    upper_bound = sample_mean + margin_of_error\n",
    "    return (lower_bound, upper_bound)\n"
   ]
  },
  {
   "cell_type": "code",
   "execution_count": 15,
   "id": "a6c09ced",
   "metadata": {},
   "outputs": [
    {
     "name": "stdout",
     "output_type": "stream",
     "text": [
      "The 99% confidence interval for the population mean is (3.43, 4.57)\n"
     ]
    }
   ],
   "source": [
    "sample_mean = 4\n",
    "sample_std = 1.5\n",
    "sample_size = 50\n",
    "confidence_level = 0.99\n",
    "\n",
    "lower, upper = mean_confidence_interval(sample_mean, sample_std, sample_size, confidence_level)\n",
    "\n",
    "print(f\"The 99% confidence interval for the population mean is ({lower:.2f}, {upper:.2f})\")\n"
   ]
  },
  {
   "cell_type": "code",
   "execution_count": null,
   "id": "aeb9c88f",
   "metadata": {},
   "outputs": [],
   "source": []
  }
 ],
 "metadata": {
  "kernelspec": {
   "display_name": "Python 3 (ipykernel)",
   "language": "python",
   "name": "python3"
  },
  "language_info": {
   "codemirror_mode": {
    "name": "ipython",
    "version": 3
   },
   "file_extension": ".py",
   "mimetype": "text/x-python",
   "name": "python",
   "nbconvert_exporter": "python",
   "pygments_lexer": "ipython3",
   "version": "3.9.13"
  }
 },
 "nbformat": 4,
 "nbformat_minor": 5
}
