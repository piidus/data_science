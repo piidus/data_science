{
 "cells": [
  {
   "cell_type": "markdown",
   "id": "d452ff49",
   "metadata": {},
   "source": [
    "### Q1. Explain the assumptions required to use ANOVA and provide examples of violations that could impact the validity of the results."
   ]
  },
  {
   "cell_type": "markdown",
   "id": "688e813c",
   "metadata": {},
   "source": [
    "-<strong> ANOVA (Analysis of Variance) is a statistical test used to determine whether there are significant differences between the means of three or more groups. The following assumptions are required to use ANOVA:</strong>\n",
    "\n",
    "    - Independence: The observations in each group must be independent of each other.\n",
    "    - Normality: The data within each group should be normally distributed.\n",
    "    - Homogeneity of variance: The variances of each group should be approximately equal.\n",
    "\n",
    "- <strong>Examples of violations that could impact the validity of the results are:</strong>\n",
    "\n",
    "    - Violation of independence: If the observations in one group are dependent on the observations in another group, the assumption of independence is violated. For example, if a study compares the scores of twins, the assumption of independence is violated.\n",
    "\n",
    "    - Violation of normality: If the data within each group is not normally distributed, the assumption of normality is violated. For example, if a study compares the heights of people in different countries, the assumption of normality may be violated as the height distribution may not be normal.\n",
    "\n",
    "    - Violation of homogeneity of variance: If the variances of the groups are not equal, the assumption of homogeneity of variance is violated. For example, if a study compares the weights of people who exercise at different gyms, the assumption of homogeneity of variance may be violated if one gym has much larger variation in weight than the others.\n",
    "\n",
    "- Violations of these assumptions can lead to inaccurate results, including false positives or false negatives. Therefore, it is important to check for these assumptions before conducting ANOVA and to address violations if they exist."
   ]
  },
  {
   "cell_type": "markdown",
   "id": "909c4a90",
   "metadata": {},
   "source": [
    "### Q2. What are the three types of ANOVA, and in what situations would each be used?\n",
    "\n",
    "The three types of ANOVA are:\n",
    "\n",
    "1. One-Way ANOVA: Used to test for differences between two or more groups based on a single independent variable or factor. For example, if we want to test if there is a difference in test scores among students who attended different types of schools (public, private, or charter), we could use a one-way ANOVA.\n",
    "\n",
    "2. Two-Way ANOVA: Used to test for differences between groups based on two independent variables or factors. This allows us to test for main effects of each factor and the interaction between the factors. For example, if we want to test if there is a difference in test scores among students who attended different types of schools (public, private, or charter) and who received different types of instruction (traditional or online), we could use a two-way ANOVA.\n",
    "\n",
    "3. Mixed ANOVA: Used to test for differences between groups based on both within-subjects and between-subjects factors. This type of ANOVA is used when we want to measure the effect of a treatment over time, or when we want to compare two or more treatments that are applied to the same subjects. For example, if we want to test if there is a difference in test scores among students who attended different types of schools (public, private, or charter) and who received different types of instruction (traditional or online), but we also want to measure their test scores before and after the instruction, we could use a mixed ANOVA.\n",
    "\n",
    "    <b>In general, we use one-way ANOVA when we have one categorical independent variable, two-way ANOVA when we have two categorical independent variables, and mixed ANOVA when we have both categorical and continuous independent variables.</b>\n",
    "    ________________"
   ]
  },
  {
   "cell_type": "markdown",
   "id": "6cb3d95e",
   "metadata": {},
   "source": [
    "### Q3. What is the partitioning of variance in ANOVA, and why is it important to understand this concept?\n",
    "\n",
    "    In ANOVA, the total variance in the data is partitioned into different sources of variation, which are used to calculate the F-statistic and determine the significance of the differences between the means of the groups being compared. The partitioning of variance is based on the following components:\n",
    "\n",
    "- Between-group variance: This is the variance between the means of each group being compared. It reflects the degree to which the means of the groups differ from each other.\n",
    "\n",
    "- Within-group variance: This is the variance within each group being compared. It reflects the degree of variation among the scores within each group.\n",
    "\n",
    "- Total variance: This is the total variance in the data, which is the sum of the between-group and within-group variances.\n",
    "\n",
    "Understanding the partitioning of variance is important in ANOVA because it helps to identify the sources of variation in the data and determine which source(s) are contributing to the significant differences between the groups being compared. For example, if the between-group variance is large relative to the within-group variance, this suggests that the differences between the means of the groups are meaningful and not simply due to chance. On the other hand, if the within-group variance is large relative to the between-group variance, this suggests that there is a lot of variation within each group, making it more difficult to detect differences between the means of the groups.\n",
    "\n",
    "    Overall, the partitioning of variance in ANOVA helps to provide a systematic way to analyze and interpret differences between groups, making it a powerful tool for comparing means across multiple groups.\n",
    "    \n",
    "________________________"
   ]
  },
  {
   "cell_type": "markdown",
   "id": "fe781fd0",
   "metadata": {},
   "source": [
    "### Q4. How would you calculate the total sum of squares (SST), explained sum of squares (SSE), and residual sum of squares (SSR) in a one-way ANOVA using Python?\n",
    "\n",
    "    In a one-way ANOVA, the total sum of squares (SST) represents the total variation in the response variable, the explained sum of squares (SSE) represents the variation explained by the treatment or group means, and the residual sum of squares (SSR) represents the unexplained variation within each group.\n",
    "\n",
    "    To calculate these sums of squares in Python, you can use the ols function from the statsmodels library. Here's an example code snippet:"
   ]
  },
  {
   "cell_type": "code",
   "execution_count": 1,
   "id": "33dc2b01",
   "metadata": {},
   "outputs": [
    {
     "data": {
      "text/plain": [
       "(70.93333333333334, 20.133333333333333, 50.800000000000004)"
      ]
     },
     "execution_count": 1,
     "metadata": {},
     "output_type": "execute_result"
    }
   ],
   "source": [
    "import scipy.stats as stats\n",
    "\n",
    "# example data\n",
    "group1 = [6, 8, 9, 4, 7]\n",
    "group2 = [3, 5, 2, 8, 7]\n",
    "group3 = [4, 3, 5, 2, 6]\n",
    "\n",
    "# combine data into one list\n",
    "data = group1 + group2 + group3\n",
    "\n",
    "# calculate the overall mean\n",
    "mean = sum(data) / len(data)\n",
    "\n",
    "# calculate the total sum of squares (SST)\n",
    "SST = sum([(x - mean)**2 for x in data])\n",
    "\n",
    "# calculate the explained sum of squares (SSE)\n",
    "SSE = sum([len(group)*(mean - group_mean)**2 for group in [group1, group2, group3] \n",
    "           for group_mean in [sum(group)/len(group)]])\n",
    "\n",
    "# calculate the residual sum of squares (SSR)\n",
    "SSR = SST - SSE\n",
    "SST, SSE, SSR"
   ]
  },
  {
   "cell_type": "markdown",
   "id": "5f5a3d86",
   "metadata": {},
   "source": [
    "### Q5. In a two-way ANOVA, how would you calculate the main effects and interaction effects using Python?"
   ]
  },
  {
   "cell_type": "code",
   "execution_count": 2,
   "id": "df042281",
   "metadata": {},
   "outputs": [
    {
     "name": "stdout",
     "output_type": "stream",
     "text": [
      "Main effect of A: F_onewayResult(statistic=0.8275862068965515, pvalue=0.3895565290669916)\n",
      "Main effect of B: F_onewayResult(statistic=4.0, pvalue=0.08051623795726266)\n",
      "Interaction effect: F_onewayResult(statistic=0.0, pvalue=1.0)\n"
     ]
    }
   ],
   "source": [
    "import numpy as np\n",
    "from scipy.stats import f_oneway\n",
    "\n",
    "# generate some sample data\n",
    "a1 = [10, 12, 15, 13, 11]\n",
    "a2 = [8, 11, 12, 14, 10]\n",
    "b1 = [12, 13, 16, 14, 15]\n",
    "b2 = [11, 10, 12, 13, 14]\n",
    "\n",
    "# calculate the main effects\n",
    "main_a = f_oneway(a1, a2)\n",
    "main_b = f_oneway(b1, b2)\n",
    "\n",
    "# calculate the interaction effect\n",
    "ab1 = [10, 11, 13, 12, 14]\n",
    "ab2 = [14, 12, 10, 11, 13]\n",
    "interaction = f_oneway(ab1, ab2)\n",
    "\n",
    "print(\"Main effect of A:\", main_a)\n",
    "print(\"Main effect of B:\", main_b)\n",
    "print(\"Interaction effect:\", interaction)\n"
   ]
  },
  {
   "cell_type": "markdown",
   "id": "5d11fa13",
   "metadata": {},
   "source": [
    "### Q6. Suppose you conducted a one-way ANOVA and obtained an F-statistic of 5.23 and a p-value of 0.02. What can you conclude about the differences between the groups, and how would you interpret these results?\n",
    "\n",
    "    - A one-way ANOVA with an F-statistic of 5.23 and a p-value of 0.02 suggests that there are significant differences between the groups. Specifically, it indicates that the variability between the group means is larger than the variability within the groups, and this difference is unlikely to have occurred by chance alone.\n",
    "\n",
    "    - The p-value of 0.02 suggests that there is only a 2% chance that the observed differences between the group means could have occurred by chance alone. Therefore, we can reject the null hypothesis of no difference between the groups and conclude that there is strong evidence for at least one group mean being significantly different from the others.\n",
    "\n",
    "    - It is important to note that a significant result in ANOVA only tells us that there are differences between groups, but it does not tell us which specific groups differ from each other. Post-hoc tests or pairwise comparisons can be conducted to determine which specific groups are significantly different from each other.\n",
    "___________"
   ]
  },
  {
   "cell_type": "markdown",
   "id": "cc98da86",
   "metadata": {},
   "source": [
    "### Q7. In a repeated measures ANOVA, how would you handle missing data, and what are the potential consequences of using different methods to handle missing data?\n",
    "\n",
    "    - In a repeated measures ANOVA, missing data can occur due to various reasons such as equipment failure, participants dropping out, or incomplete responses. Handling missing data is essential to obtain accurate and reliable results.\n",
    "\n",
    "One common method for handling missing data in repeated measures ANOVA is to use the approach of pairwise deletion, where all available data points are used for each pair of measures. This approach is easy to implement and does not require imputation of missing values. However, it can lead to a loss of power and biased results if the missing data are not missing at random.\n",
    "\n",
    "Another approach for handling missing data is to use imputation methods such as mean imputation, last observation carried forward (LOCF), or multiple imputations. Mean imputation replaces missing values with the mean of the available data, while LOCF imputes missing values with the last available measurement for that participant. Multiple imputations create several plausible values for missing data, and the analysis is performed on each imputed dataset, and then the results are pooled. While these methods can help to retain statistical power, they also have limitations and assumptions that need to be carefully considered.\n",
    "\n",
    "The potential consequences of using different methods to handle missing data can be significant. Incomplete data can introduce bias and affect the validity of the ANOVA results, and the choice of missing data handling can impact the estimates of standard errors, significance levels, and power. It is crucial to carefully consider the reasons for missing data, the amount of missing data, and the assumptions of different missing data handling methods before selecting the appropriate approach."
   ]
  },
  {
   "cell_type": "markdown",
   "id": "057fb3aa",
   "metadata": {},
   "source": [
    "### Q8. What are some common post-hoc tests used after ANOVA, and when would you use each one? Provide an example of a situation where a post-hoc test might be necessary.\n",
    "\n",
    "After conducting an ANOVA, post-hoc tests are used to determine which specific groups differ significantly from one another. Here are some common post-hoc tests used after ANOVA and when each one should be used:\n",
    "\n",
    "Tukey's Honestly Significant Difference (HSD): This test is used when you have more than two groups and you want to compare all possible pairs of groups. Tukey's HSD is known for being conservative, meaning it is less likely to find significant differences when they do not exist.\n",
    "\n",
    "Bonferroni correction: This test is used to adjust for multiple comparisons and reduce the likelihood of a Type I error (rejecting the null hypothesis when it is actually true). Bonferroni correction is more conservative than Tukey's HSD and may be appropriate when you are comparing many groups.\n",
    "\n",
    "Scheffe's test: This test is used when you have multiple groups and you want to test specific contrasts between groups. Scheffe's test is more conservative than Tukey's HSD and may be appropriate when you have a small sample size or unequal variances between groups.\n",
    "\n",
    "Dunnett's test: This test is used when you have a control group and you want to compare all other groups to the control group. Dunnett's test is less conservative than the other post-hoc tests mentioned above.\n",
    "\n",
    "For example, let's say you conducted an ANOVA to compare the mean scores of four different treatments on a dependent variable. The ANOVA results show that there is a significant difference between the groups (F(3, 36) = 4.50, p < 0.05). You decide to run a post-hoc test to determine which specific groups differ significantly from one another. Using Tukey's HSD, you find that there is a significant difference between Treatment 1 and Treatment 2 (p < 0.05), but no other significant differences between groups. Based on these results, you can conclude that Treatment 1 and Treatment 2 are significantly different from each other in terms of their effect on the dependent variable, but the other treatments do not differ significantly from one another."
   ]
  },
  {
   "cell_type": "markdown",
   "id": "74ba64be",
   "metadata": {},
   "source": [
    "### Q9. A researcher wants to compare the mean weight loss of three diets: A, B, and C. They collect data from 50 participants who were randomly assigned to one of the diets. Conduct a one-way ANOVA using Python to determine if there are any significant differences between the mean weight loss of the three diets. Report the F-statistic and p-value, and interpret the results."
   ]
  },
  {
   "cell_type": "code",
   "execution_count": 3,
   "id": "273944f6",
   "metadata": {},
   "outputs": [
    {
     "name": "stdout",
     "output_type": "stream",
     "text": [
      "F-statistic: 126.15735051700892\n",
      "p-value: 7.794049179403356e-27\n",
      "There is significant evidence of differences between the mean weight loss of the three diets.\n"
     ]
    }
   ],
   "source": [
    "import scipy.stats as stats\n",
    "\n",
    "# weight loss data for each diet group\n",
    "diet_a = [3.2, 5.1, 1.8, 2.5, 4.0, 5.5, 2.7, 3.8, 2.2, 4.5, 3.9, 4.1,\n",
    "          5.2, 2.6, 3.7, 2.9, 4.3, 3.6, 5.3, 3.1, 2.8, 3.3, 4.7, 3.4, 4.8, 3.0, 4.4, 2.3, 3.5, 2.1, 4.6]\n",
    "diet_b = [1.4, 0.8, 1.9, 1.1, 1.5, 1.6, 1.7, 1.3, 2.3, 0.9, 1.2, 2.1,\n",
    "          1.8, 1.4, 0.7, 1.0, 1.5, 1.6, 0.5, 1.1, 0.9, 1.2, 2.2, 0.6, 1.3, 0.7, 1.1, 1.8, 0.8, 0.9, 1.6]\n",
    "diet_c = [0.6, 1.2, 1.8, 1.5, 0.9, 0.5, 1.3, 1.1, 0.8, 1.7, 1.2, 0.7, \n",
    "          1.6, 1.0, 1.3, 1.2, 0.6, 0.9, 1.1, 1.8, 1.6, 1.0, 1.7, 0.8, 1.4, 1.1, 0.5, 0.7, 1.4, 1.2, 1.5]\n",
    "\n",
    "# conduct one-way ANOVA\n",
    "f_statistic, p_value = stats.f_oneway(diet_a, diet_b, diet_c)\n",
    "\n",
    "# print results\n",
    "print(\"F-statistic:\", f_statistic)\n",
    "print(\"p-value:\", p_value)\n",
    "\n",
    "# interpret results\n",
    "alpha = 0.05\n",
    "if p_value < alpha:\n",
    "    print(\"There is significant evidence of differences between the mean weight loss of the three diets.\")\n",
    "else:\n",
    "    print(\"There is not enough evidence to conclude that there are differences between the mean weight loss of the three diets.\")\n"
   ]
  },
  {
   "cell_type": "markdown",
   "id": "65636b53",
   "metadata": {},
   "source": [
    "### Q10. A company wants to know if there are any significant differences in the average time it takes to complete a task using three different software programs: Program A, Program B, and Program C. They randomly assign 30 employees to one of the programs and record the time it takes each employee to complete the task. Conduct a two-way ANOVA using Python to determine if there are any main effects or interaction effects between the software programs and employee experience level (novice vs. experienced). Report the F-statistics and p-values, and interpret the results."
   ]
  },
  {
   "cell_type": "code",
   "execution_count": 4,
   "id": "6ef80fe9",
   "metadata": {},
   "outputs": [
    {
     "name": "stdout",
     "output_type": "stream",
     "text": [
      "Program F-statistic: 1.625756668833698\n",
      "Program p-value: 0.8480060046347382\n",
      "Experience F-statistic: 1.625756668833698\n",
      "Experience p-value: 0.007800236272677033\n",
      "Interaction F-statistic: 1.625756668833698\n",
      "Interaction p-value: 0.1913836894721346\n"
     ]
    }
   ],
   "source": [
    "import numpy as np\n",
    "from scipy import stats\n",
    "\n",
    "# Generate some sample data\n",
    "np.random.seed(1234)\n",
    "time = np.random.normal(loc=10, scale=2, size=30)\n",
    "program = np.repeat([\"A\", \"B\", \"C\"], 10)\n",
    "experience = np.tile([\"Novice\", \"Experienced\"], 15)\n",
    "\n",
    "# Create boolean masks to select subsets of the data\n",
    "mask_a = program == \"A\"\n",
    "mask_b = program == \"B\"\n",
    "mask_c = program == \"C\"\n",
    "mask_novice = experience == \"Novice\"\n",
    "mask_experienced = experience == \"Experienced\"\n",
    "\n",
    "# Perform the two-way ANOVA\n",
    "F, p_program = stats.f_oneway(time[mask_a], time[mask_b], time[mask_c])\n",
    "F, p_experience = stats.f_oneway(time[mask_novice], time[mask_experienced])\n",
    "F, p_interaction = stats.f_oneway(time[mask_a & mask_novice], time[mask_a & mask_experienced],\n",
    "                                  time[mask_b & mask_novice], time[mask_b & mask_experienced],\n",
    "                                  time[mask_c & mask_novice], time[mask_c & mask_experienced])\n",
    "\n",
    "print(\"Program F-statistic:\", F)\n",
    "print(\"Program p-value:\", p_program)\n",
    "print(\"Experience F-statistic:\", F)\n",
    "print(\"Experience p-value:\", p_experience)\n",
    "print(\"Interaction F-statistic:\", F)\n",
    "print(\"Interaction p-value:\", p_interaction)\n"
   ]
  },
  {
   "cell_type": "markdown",
   "id": "af1c4778",
   "metadata": {},
   "source": [
    "### Q11. An educational researcher is interested in whether a new teaching method improves student test scores. They randomly assign 100 students to either the control group (traditional teaching method) or the experimental group (new teaching method) and administer a test at the end of the semester. Conduct a two-sample t-test using Python to determine if there are any significant differences in test scores between the two groups. If the results a.re significant, follow up with a post-hoc test to determine which group(s) differ significantly from each other\n"
   ]
  },
  {
   "cell_type": "code",
   "execution_count": 5,
   "id": "7be26ec5",
   "metadata": {},
   "outputs": [
    {
     "name": "stdout",
     "output_type": "stream",
     "text": [
      "t-statistic: -4.584315463985094\n",
      "p-value: 8.07052200864601e-06\n",
      "  Multiple Comparison of Means - Tukey HSD, FWER=0.05   \n",
      "========================================================\n",
      " group1    group2    meandiff p-adj lower  upper  reject\n",
      "--------------------------------------------------------\n",
      "control experimental   5.9221   0.0 3.3746 8.4696   True\n",
      "--------------------------------------------------------\n"
     ]
    }
   ],
   "source": [
    "import numpy as np\n",
    "from scipy import stats\n",
    "import statsmodels.api as sm\n",
    "\n",
    "# Generate random test scores for the control and experimental groups\n",
    "np.random.seed(1)\n",
    "control_scores = np.random.normal(loc=70, scale=10, size=100)\n",
    "experimental_scores = np.random.normal(loc=75, scale=10, size=100)\n",
    "\n",
    "# Perform a two-sample t-test\n",
    "t, p = stats.ttest_ind(control_scores, experimental_scores, equal_var=False)\n",
    "print(\"t-statistic:\", t)\n",
    "print(\"p-value:\", p)\n",
    "\n",
    "# Follow up with a post-hoc test if the results are significant\n",
    "if p < 0.05:\n",
    "    posthoc = sm.stats.multicomp.pairwise_tukeyhsd(np.concatenate([control_scores, experimental_scores]), \n",
    "                                                   np.concatenate([np.repeat('control', 100), np.repeat('experimental', 100)]))\n",
    "    print(posthoc)\n"
   ]
  },
  {
   "cell_type": "markdown",
   "id": "8143c2ba",
   "metadata": {},
   "source": [
    "### Q12. A researcher wants to know if there are any significant differences in the average daily sales of three retail stores: Store A, Store B, and Store C. They randomly select 30 days and record the sales for each store on those days. Conduct a repeated measures ANOVA using Python to determine if there are any significant differences in sales between the three stores. If the results are significant, follow up with a post-hoc test to determine which store(s) differ significantly from each other."
   ]
  },
  {
   "cell_type": "code",
   "execution_count": 6,
   "id": "8b6c8ede",
   "metadata": {},
   "outputs": [
    {
     "name": "stdout",
     "output_type": "stream",
     "text": [
      "(90, 3)\n",
      "                sum_sq    df          F        PR(>F)\n",
      "Intercept  2641.807439   1.0  97.392477  1.064196e-15\n",
      "Store       651.467589   2.0  12.008453  2.588673e-05\n",
      "Day          34.380020   1.0   1.267449  2.634521e-01\n",
      "Store:Day    30.164382   2.0   0.556018  5.755843e-01\n",
      "Residual   2278.531472  84.0        NaN           NaN\n",
      "Multiple Comparison of Means - Tukey HSD, FWER=0.05\n",
      "===================================================\n",
      "group1 group2 meandiff p-adj  lower   upper  reject\n",
      "---------------------------------------------------\n",
      "     A      B   4.5626 0.0027  1.384  7.7411   True\n",
      "     A      C  10.4723    0.0 7.2938 13.6508   True\n",
      "     B      C   5.9097 0.0001 2.7312  9.0882   True\n",
      "---------------------------------------------------\n"
     ]
    }
   ],
   "source": [
    "import pandas as pd\n",
    "import numpy as np\n",
    "import statsmodels.api as sm\n",
    "from statsmodels.formula.api import ols\n",
    "from statsmodels.stats.anova import AnovaRM\n",
    "from statsmodels.stats.multicomp import MultiComparison\n",
    "\n",
    "# Generate the sales data for three stores\n",
    "store_a_sales = np.random.normal(loc=20, scale=5, size=30)\n",
    "store_b_sales = np.random.normal(loc=25, scale=4, size=30)\n",
    "store_c_sales = np.random.normal(loc=30, scale=6, size=30)\n",
    "\n",
    "# Concatenate the sales data for all three stores\n",
    "sales = np.concatenate((store_a_sales, store_b_sales, store_c_sales))\n",
    "\n",
    "# Create a pandas dataframe with the sales data\n",
    "data = pd.DataFrame({\n",
    "    'Store': np.repeat(['A', 'B', 'C'], 30),\n",
    "    'Day': np.tile(range(30), 3),\n",
    "    'Sales': sales\n",
    "})\n",
    "\n",
    "# Check the length of the array and adjust it if necessary\n",
    "print(data.shape)\n",
    "\n",
    "# Conduct the repeated measures ANOVA\n",
    "model = ols('Sales ~ Store + Day + Store:Day', data).fit()\n",
    "print(sm.stats.anova_lm(model, typ=3))\n",
    "\n",
    "# Follow up with a post-hoc test if the results are significant\n",
    "p = sm.stats.anova_lm(model, typ=3)['PR(>F)'][0]\n",
    "if p < 0.05:\n",
    "    mc = MultiComparison(data['Sales'], data['Store'])\n",
    "    result = mc.tukeyhsd()\n",
    "    print(result.summary())\n"
   ]
  },
  {
   "cell_type": "code",
   "execution_count": null,
   "id": "daae6dec",
   "metadata": {},
   "outputs": [],
   "source": []
  }
 ],
 "metadata": {
  "kernelspec": {
   "display_name": "Python 3 (ipykernel)",
   "language": "python",
   "name": "python3"
  },
  "language_info": {
   "codemirror_mode": {
    "name": "ipython",
    "version": 3
   },
   "file_extension": ".py",
   "mimetype": "text/x-python",
   "name": "python",
   "nbconvert_exporter": "python",
   "pygments_lexer": "ipython3",
   "version": "3.9.13"
  }
 },
 "nbformat": 4,
 "nbformat_minor": 5
}
