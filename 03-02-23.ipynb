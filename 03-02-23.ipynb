{
 "cells": [
  {
   "cell_type": "markdown",
   "id": "1efc8a89-d547-41b3-ad2d-391ff2d8eb07",
   "metadata": {},
   "source": [
    "Q1. Which keyword is used to create a function? Create a function to return a list of odd numbers in the range of 1 to 25."
   ]
  },
  {
   "cell_type": "code",
   "execution_count": 2,
   "id": "feba7c38-5494-4007-92f9-1792393e8317",
   "metadata": {},
   "outputs": [
    {
     "data": {
      "text/plain": [
       "[1, 3, 5, 7, 9, 11, 13, 15, 17, 19, 21, 23]"
      ]
     },
     "execution_count": 2,
     "metadata": {},
     "output_type": "execute_result"
    }
   ],
   "source": [
    "# >>'def' keyword is used to create\n",
    "\n",
    "def oddList():\n",
    "    '''Return Odd Number'''\n",
    "    lastnumber = 25\n",
    "    list1 = [i for i in range(1,lastnumber) if i%2 != 0]\n",
    "    return list1\n",
    "oddList()     "
   ]
  },
  {
   "cell_type": "markdown",
   "id": "c08729b9-6076-4b75-bf84-7b661fb4aee8",
   "metadata": {},
   "source": [
    "Q2. Why *args and **kwargs is used in some functions? Create a function each for *args and **kwargs\n",
    "to demonstrate their use."
   ]
  },
  {
   "cell_type": "code",
   "execution_count": 22,
   "id": "c30b8738-8173-4acd-bdee-67c1b16f7086",
   "metadata": {},
   "outputs": [
    {
     "data": {
      "text/plain": [
       "(4,\n",
       " [dict_keys(['k1', 'k2']),\n",
       "  dict_values(['first', 'second']),\n",
       "  ([1, 2, 5, 6], ['a', 'b', 'c', 'd'])])"
      ]
     },
     "execution_count": 22,
     "metadata": {},
     "output_type": "execute_result"
    }
   ],
   "source": [
    "#  '*args' is used to use unlimited argument of a function, it return a tuple\n",
    "# '**kwargs' is used for unlimited key-value  of a function, it return a dictionary\n",
    "# ar\n",
    "arg = [1,2,5,6]\n",
    "arg1 = ['a','b','c','d']\n",
    "kargs = {'k1':'first', 'k2':'second'}\n",
    "def testargs(*args):\n",
    "    '''length checkup args'''\n",
    "    l = len(args[0])\n",
    "    # print(args)\n",
    "    return l\n",
    "def testKrgs(**krgs):\n",
    "    '''simply return key and value separately'''\n",
    "    k = kargs.keys()\n",
    "    w = kargs.values()\n",
    "    kw = arg, arg1\n",
    "    \n",
    "    return [k,w, kw]\n",
    "a = testargs(arg)\n",
    "b = testKrgs()\n",
    "a,b"
   ]
  },
  {
   "cell_type": "markdown",
   "id": "81c283b6-5cbe-44fa-8516-a362ffe227ce",
   "metadata": {},
   "source": [
    "Q3. What is an iterator in python? Name the method used to initialise the iterator object and the method\n",
    "used for iteration. Use these methods to print the first five elements of the given list [2, 4, 6, 8, 10, 12, 14,\n",
    "16, 18, 20]."
   ]
  },
  {
   "cell_type": "code",
   "execution_count": 23,
   "id": "bb7616fa-53dd-4d0b-94f7-12eda3ee9049",
   "metadata": {},
   "outputs": [
    {
     "name": "stdout",
     "output_type": "stream",
     "text": [
      "2\n",
      "4\n",
      "6\n",
      "8\n",
      "10\n"
     ]
    }
   ],
   "source": [
    "# iterator is a function that iterate from first to last of amy itearable object\n",
    "list1 =  [2, 4, 6, 8, 10, 12, 14, 16, 18, 20]\n",
    "n = iter(list1)\n",
    "for i in range(5):\n",
    "    print(next(n))\n"
   ]
  },
  {
   "cell_type": "markdown",
   "id": "aa1e0b4f-ef62-48c4-a2b2-49ed3d02e34b",
   "metadata": {},
   "source": [
    "Q4. What is a generator function in python? Why yield keyword is used? Give an example of a generator\n",
    "function."
   ]
  },
  {
   "cell_type": "code",
   "execution_count": 3,
   "id": "d7a6123d-7263-4d11-9e88-7f213226952b",
   "metadata": {},
   "outputs": [
    {
     "name": "stdout",
     "output_type": "stream",
     "text": [
      "0\n",
      "1\n",
      "2\n",
      "4\n",
      "8\n",
      "16\n",
      "32\n",
      "64\n",
      "128\n",
      "256\n"
     ]
    }
   ],
   "source": [
    "# It helps to pass a generate value  one by one.\n",
    "# It Helps to halt programme further calling \n",
    "\n",
    "def gener():\n",
    "    a, b = 0, 1\n",
    "    while True:\n",
    "        yield a\n",
    "        a = b\n",
    "        b = a+b\n",
    "gen = gener()\n",
    "    \n",
    "for i in range(10):\n",
    "    print(next(gen))\n"
   ]
  },
  {
   "cell_type": "markdown",
   "id": "3690203a-b22b-42ba-8717-c2c8f2a0c111",
   "metadata": {},
   "source": [
    "Q5. Create a generator function for prime numbers less than 1000. Use the next() method to print the\n",
    "first 20 prime numbers."
   ]
  },
  {
   "cell_type": "code",
   "execution_count": 7,
   "id": "9183b47b-59d3-4273-9355-a1d951afad4a",
   "metadata": {},
   "outputs": [
    {
     "name": "stdout",
     "output_type": "stream",
     "text": [
      "1\n",
      "2\n",
      "3\n",
      "4\n",
      "5\n",
      "6\n",
      "7\n",
      "8\n",
      "9\n",
      "10\n",
      "11\n",
      "12\n",
      "13\n",
      "14\n",
      "15\n",
      "16\n",
      "17\n",
      "18\n",
      "19\n",
      "20\n"
     ]
    }
   ],
   "source": [
    "def num_generator():\n",
    "    a = 1\n",
    "    while a < 1000:\n",
    "        yield a\n",
    "        a += 1\n",
    "gen = num_generator()\n",
    "    \n",
    "for i in range(20):\n",
    "    print(next(gen))"
   ]
  },
  {
   "cell_type": "markdown",
   "id": "7240e652-2e3d-4d08-bd5b-91a540b2c598",
   "metadata": {},
   "source": [
    "Q6. Write a python program to print the first 10 Fibonacci numbers using a while loop."
   ]
  },
  {
   "cell_type": "code",
   "execution_count": 28,
   "id": "4bc9887f-2f86-4283-b64b-4c8308dbb63c",
   "metadata": {},
   "outputs": [
    {
     "name": "stdout",
     "output_type": "stream",
     "text": [
      "[0, 1, 1, 2, 3, 5, 8, 13, 21, 34, 55]\n"
     ]
    }
   ],
   "source": [
    "first = 10\n",
    "second = 0\n",
    "third = 1\n",
    "list1 = []\n",
    "while len(list1) <= first:\n",
    "    list1.append(second)\n",
    "    forth = second + third\n",
    "    second = third\n",
    "    third = forth\n",
    "    \n",
    "print(list1)"
   ]
  },
  {
   "cell_type": "markdown",
   "id": "d7a5f6d9-4123-4ddb-a1c9-ff83d038cab0",
   "metadata": {},
   "source": [
    "Q7. Write a List Comprehension to iterate through the given string: ‘pwskills’.\n",
    "Expected output: ['p', 'w', 's', 'k', 'i', 'l', 'l', 's']"
   ]
  },
  {
   "cell_type": "code",
   "execution_count": 33,
   "id": "01e579ff-c9ec-465c-b7bd-68215124edb9",
   "metadata": {},
   "outputs": [
    {
     "name": "stdout",
     "output_type": "stream",
     "text": [
      "['p', 'w', 's', 'k', 'i', 'l', 'l', 's']\n"
     ]
    }
   ],
   "source": [
    "s = 'pwskills'\n",
    "t = [i for i in s]\n",
    "print(list(t))"
   ]
  },
  {
   "cell_type": "markdown",
   "id": "f9f97f84-a67a-4853-aa13-f98bfa82fd15",
   "metadata": {},
   "source": [
    "Q8. Write a python program to check whether a given number is Palindrome or not using a while loop."
   ]
  },
  {
   "cell_type": "code",
   "execution_count": 19,
   "id": "3c5563b9-7451-484c-8353-f11bc2de2add",
   "metadata": {},
   "outputs": [
    {
     "name": "stdout",
     "output_type": "stream",
     "text": [
      "It is Palindrom\n"
     ]
    }
   ],
   "source": [
    "nu = 1111\n",
    "\n",
    "t = [i for i in str(nu)]\n",
    "while len(t)>1:\n",
    "    l = t.pop(0)\n",
    "    r = t.pop()\n",
    "    if l == r:\n",
    "        pass\n",
    "    else:\n",
    "        print(\"Please Check the Number\")\n",
    "        break\n",
    "else:\n",
    "    print(\"It is Palindrom\")\n",
    "    # print(t, l)"
   ]
  },
  {
   "cell_type": "markdown",
   "id": "e54b05a6-b20a-4167-9c2a-83c56c7a15e9",
   "metadata": {},
   "source": [
    "Q9. Write a code to print odd numbers from 1 to 100 using list comprehension."
   ]
  },
  {
   "cell_type": "code",
   "execution_count": 21,
   "id": "7c357895-3ad0-44e2-aed7-d648f24263a7",
   "metadata": {},
   "outputs": [
    {
     "name": "stdout",
     "output_type": "stream",
     "text": [
      "[1, 3, 5, 7, 9, 11, 13, 15, 17, 19, 21, 23, 25, 27, 29, 31, 33, 35, 37, 39, 41, 43, 45, 47, 49, 51, 53, 55, 57, 59, 61, 63, 65, 67, 69, 71, 73, 75, 77, 79, 81, 83, 85, 87, 89, 91, 93, 95, 97, 99]\n"
     ]
    }
   ],
   "source": [
    "l = [i for i in range(1,100) if i%2 != 0]\n",
    "print(l)"
   ]
  },
  {
   "cell_type": "code",
   "execution_count": 32,
   "id": "9c8de914-86b3-4715-a0e0-7c575f40caf7",
   "metadata": {},
   "outputs": [
    {
     "name": "stdout",
     "output_type": "stream",
     "text": [
      "s\n",
      "u\n",
      "d\n"
     ]
    }
   ],
   "source": []
  },
  {
   "cell_type": "code",
   "execution_count": null,
   "id": "bc0952f3-7e96-46d8-b10b-b0ff5e99be23",
   "metadata": {},
   "outputs": [],
   "source": []
  }
 ],
 "metadata": {
  "kernelspec": {
   "display_name": "Python 3 (ipykernel)",
   "language": "python",
   "name": "python3"
  },
  "language_info": {
   "codemirror_mode": {
    "name": "ipython",
    "version": 3
   },
   "file_extension": ".py",
   "mimetype": "text/x-python",
   "name": "python",
   "nbconvert_exporter": "python",
   "pygments_lexer": "ipython3",
   "version": "3.10.8"
  }
 },
 "nbformat": 4,
 "nbformat_minor": 5
}
