{
 "cells": [
  {
   "cell_type": "markdown",
   "id": "33a28977-9250-4c44-a256-5fcacef93840",
   "metadata": {},
   "source": [
    "Q1. Explain with an example each when to use a for loop and a while loop."
   ]
  },
  {
   "cell_type": "code",
   "execution_count": 1,
   "id": "70075ff2-1375-45b2-898f-89c0ec00ae5a",
   "metadata": {},
   "outputs": [
    {
     "name": "stdout",
     "output_type": "stream",
     "text": [
      "1\n",
      "5\n",
      "loop\n",
      "not\n",
      "0\n",
      "1\n",
      "2\n",
      "3\n",
      "4\n"
     ]
    }
   ],
   "source": [
    "# for loop no check condition before start\n",
    "f = [1, 5, 'loop', 'not']\n",
    "for i in f:\n",
    "    print(i)\n",
    "    \n",
    "# while loop chck first condition is true or false\n",
    "condition = 5\n",
    "case = 0\n",
    "while case < 5:\n",
    "    print(case)\n",
    "    case+=1"
   ]
  },
  {
   "cell_type": "markdown",
   "id": "90b7bb24-b76c-4a85-829e-27b4ed94fa0c",
   "metadata": {},
   "source": [
    "Q2. Write a python program to print the sum and product of the first 10 natural numbers using for\n",
    "and while loop."
   ]
  },
  {
   "cell_type": "code",
   "execution_count": 2,
   "id": "21ad443d-b5cf-41e4-8347-6caaa0321809",
   "metadata": {},
   "outputs": [
    {
     "name": "stdout",
     "output_type": "stream",
     "text": [
      "0\n",
      "1\n",
      "2\n",
      "3\n",
      "4\n",
      "5\n",
      "6\n",
      "7\n",
      "8\n",
      "9\n",
      "10\n"
     ]
    }
   ],
   "source": [
    "num = 10\n",
    "start = 0\n",
    "while start <= num:\n",
    "    if type(start) == int:\n",
    "        print(start)\n",
    "        start+=1"
   ]
  },
  {
   "cell_type": "markdown",
   "id": "ed25e568-fcf8-4b3f-9cc3-1e25539e6005",
   "metadata": {},
   "source": [
    "Q3. Create a python program to compute the electricity bill for a household.\n",
    "The per-unit charges in rupees are as follows: For the first 100 units, the user will be charged Rs. 4.5 per\n",
    "unit, for the next 100 units, the user will be charged Rs. 6 per unit, and for the next 100 units, the user will\n",
    "be charged Rs. 10 per unit, After 300 units and above the user will be charged Rs. 20 per unit."
   ]
  },
  {
   "cell_type": "code",
   "execution_count": 3,
   "id": "9356c224-47ec-41a6-b3b9-9dad533bb6e0",
   "metadata": {},
   "outputs": [
    {
     "name": "stdin",
     "output_type": "stream",
     "text": [
      "PLese Enter Your unit 310\n"
     ]
    },
    {
     "name": "stdout",
     "output_type": "stream",
     "text": [
      " Your total bill amount is : Rs. 2250.0\n"
     ]
    }
   ],
   "source": [
    "\n",
    "unit = float(input(\"PLese Enter Your unit\"))\n",
    "\n",
    "amount = 0\n",
    "counting = 0\n",
    "\n",
    "while counting < unit:\n",
    "    if counting <100:\n",
    "        amount += (100*4.5)\n",
    "        counting +=100\n",
    "        # print(amount)\n",
    "        # print(unit)\n",
    "        \n",
    "    elif counting < 200:\n",
    "        amount += (100*6)\n",
    "        counting += 100\n",
    "        # print(amount)\n",
    "        # print(unit)\n",
    "    \n",
    "    elif counting < 300:\n",
    "        amount += (100*10)\n",
    "        counting += 100\n",
    "        # print(amount)\n",
    "        # print(unit)\n",
    "        \n",
    "    elif counting > 200:\n",
    "        # print(\"3rd phase\") \n",
    "        u = unit - counting\n",
    "        amount += (u*20)\n",
    "        counting +=u\n",
    "        # print(amount)\n",
    "        \n",
    "        \n",
    "print(f\" Your total bill amount is : Rs. {amount}\")"
   ]
  },
  {
   "cell_type": "markdown",
   "id": "a228bf71-99f4-4a01-a502-c4617645f430",
   "metadata": {},
   "source": [
    "/////////////////////////////////////////////"
   ]
  },
  {
   "cell_type": "markdown",
   "id": "ebf1da8f-d61b-415c-98f7-f877cf407a83",
   "metadata": {},
   "source": [
    "Q4. Create a list of numbers from 1 to 100. Use for loop and while loop to calculate the cube of each\n",
    "number and if the cube of that number is divisible by 4 or 5 then append that number in a list and print\n",
    "that list."
   ]
  },
  {
   "cell_type": "code",
   "execution_count": 25,
   "id": "275bf5db-d768-4aa9-8427-efbd94c5d1ea",
   "metadata": {},
   "outputs": [
    {
     "name": "stdout",
     "output_type": "stream",
     "text": [
      "[8, 64, 125, 216, 512, 1000]\n"
     ]
    }
   ],
   "source": [
    "firstList = []\n",
    "secondList= []\n",
    "for f in range(1, 10+1):\n",
    "    firstList.append(f)\n",
    "# print(firstList)\n",
    "while len(firstList) > 0:\n",
    "    cube = firstList[-1]**3\n",
    "    if cube%4 == 0 or cube%5 == 0:\n",
    "\n",
    "        secondList.append(cube)\n",
    "    firstList.pop()\n",
    "    # print(firstList, cube)\n",
    "print(secondList[::-1])"
   ]
  },
  {
   "cell_type": "markdown",
   "id": "22cdda88-3d41-4564-b979-f28013ec9aa8",
   "metadata": {},
   "source": [
    "Q5. Write a program to filter count vowels in the below-given string."
   ]
  },
  {
   "cell_type": "code",
   "execution_count": 35,
   "id": "654f51e0-ed25-406d-9d95-78de71c30e79",
   "metadata": {},
   "outputs": [
    {
     "name": "stdout",
     "output_type": "stream",
     "text": [
      "11\n"
     ]
    }
   ],
   "source": [
    "string = \"I want to become a data scientist\"\n",
    "vowels = ['a', 'e', 'i', 'o', 'u']\n",
    "new = []\n",
    "for i in string:\n",
    "    if i in vowels:\n",
    "        new.append(i)\n",
    "# print(string.count(vowels[0]))\n",
    "print(len(new))"
   ]
  },
  {
   "cell_type": "code",
   "execution_count": null,
   "id": "8903c6be-3f3e-4efa-938a-120f68f98fd1",
   "metadata": {},
   "outputs": [],
   "source": []
  }
 ],
 "metadata": {
  "kernelspec": {
   "display_name": "Python 3 (ipykernel)",
   "language": "python",
   "name": "python3"
  },
  "language_info": {
   "codemirror_mode": {
    "name": "ipython",
    "version": 3
   },
   "file_extension": ".py",
   "mimetype": "text/x-python",
   "name": "python",
   "nbconvert_exporter": "python",
   "pygments_lexer": "ipython3",
   "version": "3.10.8"
  }
 },
 "nbformat": 4,
 "nbformat_minor": 5
}
