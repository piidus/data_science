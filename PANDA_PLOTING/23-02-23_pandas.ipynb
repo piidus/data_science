{
 "cells": [
  {
   "cell_type": "code",
   "execution_count": 1,
   "id": "97d241e2-856d-48fb-9267-04264b876ff7",
   "metadata": {},
   "outputs": [],
   "source": [
    "# pip install --upgrade pandas"
   ]
  },
  {
   "cell_type": "markdown",
   "id": "12d49274-330a-4835-8213-e092e898fafb",
   "metadata": {},
   "source": [
    "Q1. Create a Pandas Series that contains the following data: 4, 8, 15, 16, 23, and 42. Then, print the series."
   ]
  },
  {
   "cell_type": "code",
   "execution_count": 2,
   "id": "58bc761f-5cf6-4bd4-a34e-f32ee5729b8c",
   "metadata": {},
   "outputs": [],
   "source": [
    "import pandas as pd\n",
    "ser = [4, 8, 15, 16, 23, 42,]"
   ]
  },
  {
   "cell_type": "code",
   "execution_count": 3,
   "id": "45eafa43-f502-44d9-9b48-ceac01be87bf",
   "metadata": {},
   "outputs": [],
   "source": [
    "df = pd.DataFrame(ser)"
   ]
  },
  {
   "cell_type": "code",
   "execution_count": 4,
   "id": "b3be2f2b-aaf9-425a-94c1-d37687560e88",
   "metadata": {},
   "outputs": [
    {
     "data": {
      "text/plain": [
       "0     4\n",
       "1     8\n",
       "2    15\n",
       "3    16\n",
       "4    23\n",
       "5    42\n",
       "Name: 0, dtype: int64"
      ]
     },
     "execution_count": 4,
     "metadata": {},
     "output_type": "execute_result"
    }
   ],
   "source": [
    "ser = df[0]\n",
    "ser"
   ]
  },
  {
   "cell_type": "code",
   "execution_count": 5,
   "id": "00e6df67-39a8-4b2f-9522-0ca8f991f214",
   "metadata": {},
   "outputs": [
    {
     "name": "stdout",
     "output_type": "stream",
     "text": [
      "<class 'pandas.core.series.Series'>\n"
     ]
    }
   ],
   "source": [
    "print(type(ser))"
   ]
  },
  {
   "cell_type": "markdown",
   "id": "0bbd4831-8556-4cf2-95c3-d08bf14288fd",
   "metadata": {},
   "source": [
    "_____________"
   ]
  },
  {
   "cell_type": "markdown",
   "id": "a04e023a-9a48-48c4-8608-9938f44e03f9",
   "metadata": {},
   "source": [
    "Q2. Create a variable of list type containing 10 elements in it, and apply pandas.Series function on the\n",
    "variable print it."
   ]
  },
  {
   "cell_type": "code",
   "execution_count": 6,
   "id": "dd31c098-4a3d-4bfc-8c38-0a3bb07a9401",
   "metadata": {},
   "outputs": [
    {
     "name": "stdout",
     "output_type": "stream",
     "text": [
      "0     1\n",
      "1     2\n",
      "2     3\n",
      "3     4\n",
      "4     5\n",
      "5     6\n",
      "6     7\n",
      "7     8\n",
      "8     9\n",
      "9    10\n",
      "Name: 0, dtype: int64 <class 'pandas.core.series.Series'>\n"
     ]
    }
   ],
   "source": [
    "l1 = [i for i in range(1, 11)]\n",
    "l2 = pd.DataFrame(l1)\n",
    "print(l2[0], type(l2[0]))"
   ]
  },
  {
   "cell_type": "markdown",
   "id": "696524ec-bae2-4dad-bc31-b28f73164126",
   "metadata": {},
   "source": [
    "___________"
   ]
  },
  {
   "cell_type": "markdown",
   "id": "b0779b56-a488-42f5-8475-97a9f57b3ba9",
   "metadata": {},
   "source": [
    "###  Q3. Create a Pandas DataFrame that contains the following data:"
   ]
  },
  {
   "cell_type": "code",
   "execution_count": 7,
   "id": "5e1d410d-7ae6-4025-872d-1bf0b62997b4",
   "metadata": {},
   "outputs": [],
   "source": [
    "tab1 = {'Name' : ['Alice', 'Bob', 'Claire'], 'Age' : [25, 30, 27], 'Gender': ['Female', 'Male', 'Female']}"
   ]
  },
  {
   "cell_type": "code",
   "execution_count": 8,
   "id": "e40f42ec-2606-41a2-9afa-a36f5cb02aa9",
   "metadata": {},
   "outputs": [
    {
     "name": "stdout",
     "output_type": "stream",
     "text": [
      "        Age  Gender\n",
      "Name               \n",
      "Alice    25  Female\n",
      "Bob      30    Male\n",
      "Claire   27  Female\n"
     ]
    }
   ],
   "source": [
    "df = pd.DataFrame(tab1).set_index('Name')\n",
    "print(df)"
   ]
  },
  {
   "cell_type": "markdown",
   "id": "53fd5195-1789-4692-a689-0976e1e5caa2",
   "metadata": {},
   "source": [
    "_____________"
   ]
  },
  {
   "cell_type": "markdown",
   "id": "f9f35ea6-c429-4030-b0b1-dfb1e2a03116",
   "metadata": {},
   "source": [
    "### Q4. What is ‘DataFrame’ in pandas and how is it different from pandas.series? Explain with an example."
   ]
  },
  {
   "cell_type": "markdown",
   "id": "41e8a2f5-65f3-4265-9ee6-62a99f09fa11",
   "metadata": {},
   "source": [
    ">A Pandas DataFrame is a 2 dimensional data structure, like a 2 dimensional array, or a table with rows and columns.\n",
    "\n",
    ">DataFrame or Data structure also contains labeled axes (rows and columns). Arithmetic operations align on both row and column labels. Can be thought of as a dict-like container for Series objects.\n",
    ">Series is a colum of dataframe"
   ]
  },
  {
   "cell_type": "code",
   "execution_count": 9,
   "id": "dc4d5e59-4a0b-4dcf-99c3-312e7705d50d",
   "metadata": {},
   "outputs": [
    {
     "name": "stdout",
     "output_type": "stream",
     "text": [
      "   Series1  Series2\n",
      "0      420       50\n",
      "1      380       40\n",
      "2      390       45 \n",
      " \n",
      " 0    420\n",
      "1    380\n",
      "2    390\n",
      "Name: Series1, dtype: int64\n"
     ]
    }
   ],
   "source": [
    "data = {\n",
    "  \"Series1\": [420, 380, 390],\n",
    "  \"Series2\": [50, 40, 45]\n",
    "}\n",
    "# df is a dataframe\n",
    "df = pd.DataFrame(data)\n",
    "# ser is series\n",
    "ser = df['Series1']\n",
    "print(df, '\\n','\\n', ser)"
   ]
  },
  {
   "cell_type": "markdown",
   "id": "40b2efbd-5181-45c3-8ae2-3e23c0ec9fc7",
   "metadata": {},
   "source": [
    "________"
   ]
  },
  {
   "cell_type": "markdown",
   "id": "9062135d-9ae2-4bb1-b0a5-f4d225f8c6a2",
   "metadata": {},
   "source": [
    "### Q5. What are some common functions you can use to manipulate data in a Pandas DataFrame? Can you give an example of when you might use one of these functions?"
   ]
  },
  {
   "cell_type": "markdown",
   "id": "f075aa1c-fb14-474e-bb41-3e782b5ee9c9",
   "metadata": {},
   "source": [
    "> insert column, join, merge, slicing etc"
   ]
  },
  {
   "cell_type": "code",
   "execution_count": 10,
   "id": "ac5c1811-64a2-49cc-8666-08a17e4c9fd4",
   "metadata": {},
   "outputs": [
    {
     "data": {
      "text/html": [
       "<div>\n",
       "<style scoped>\n",
       "    .dataframe tbody tr th:only-of-type {\n",
       "        vertical-align: middle;\n",
       "    }\n",
       "\n",
       "    .dataframe tbody tr th {\n",
       "        vertical-align: top;\n",
       "    }\n",
       "\n",
       "    .dataframe thead th {\n",
       "        text-align: right;\n",
       "    }\n",
       "</style>\n",
       "<table border=\"1\" class=\"dataframe\">\n",
       "  <thead>\n",
       "    <tr style=\"text-align: right;\">\n",
       "      <th></th>\n",
       "      <th>Series1</th>\n",
       "      <th>Series2</th>\n",
       "      <th>name</th>\n",
       "    </tr>\n",
       "  </thead>\n",
       "  <tbody>\n",
       "    <tr>\n",
       "      <th>0</th>\n",
       "      <td>420</td>\n",
       "      <td>50</td>\n",
       "      <td>1</td>\n",
       "    </tr>\n",
       "    <tr>\n",
       "      <th>1</th>\n",
       "      <td>380</td>\n",
       "      <td>40</td>\n",
       "      <td>2</td>\n",
       "    </tr>\n",
       "    <tr>\n",
       "      <th>2</th>\n",
       "      <td>390</td>\n",
       "      <td>45</td>\n",
       "      <td>3</td>\n",
       "    </tr>\n",
       "  </tbody>\n",
       "</table>\n",
       "</div>"
      ],
      "text/plain": [
       "   Series1  Series2  name\n",
       "0      420       50     1\n",
       "1      380       40     2\n",
       "2      390       45     3"
      ]
     },
     "execution_count": 10,
     "metadata": {},
     "output_type": "execute_result"
    }
   ],
   "source": [
    "# Insert Column in a dataframe\n",
    "df['name']=[1,2,3]\n",
    "df"
   ]
  },
  {
   "cell_type": "markdown",
   "id": "e2dca7b7-0371-47e5-8eeb-304123e91746",
   "metadata": {},
   "source": [
    "_________"
   ]
  },
  {
   "cell_type": "markdown",
   "id": "e144da39-4bbf-424c-af29-ae913f0084f7",
   "metadata": {},
   "source": [
    "### Q6. Which of the following is mutable in nature Series, DataFrame, Panel?"
   ]
  },
  {
   "cell_type": "markdown",
   "id": "e7a70e4c-58fa-41bf-9619-93acee078d95",
   "metadata": {},
   "source": [
    "pandas stands for panel data, a reference to the tabular format. It adopts significant parts of NumPy’s idiomatic style of array-based computing. While pandas adopts many coding idioms from NumPy, the biggest difference is that pandas is designed for working with tabular, heterogeneous data. NumPy, by contrast, is best suited for working with homogeneous numerical array data.\n",
    "\n",
    "The key to learning pandas is to understand its data structures. A data structure is a collection of data values and defines the relationship between the data, and the operations that can be performed on the data. There are three main data structures in pandas:\n",
    "\n",
    "Series — 1D\n",
    "DataFrame — 2D\n",
    "Panel — 3D"
   ]
  },
  {
   "cell_type": "markdown",
   "id": "091a5edd-fc6d-4660-9589-4a5622c6631a",
   "metadata": {
    "tags": []
   },
   "source": [
    "\n",
    "\n",
    "\n",
    "Q7. Create a DataFrame using multiple Series. Explain with an example."
   ]
  },
  {
   "cell_type": "code",
   "execution_count": 21,
   "id": "0b37e709-37d7-40dc-a459-7e01d0aaac36",
   "metadata": {},
   "outputs": [
    {
     "name": "stdout",
     "output_type": "stream",
     "text": [
      "  letter  number\n",
      "0      a       3\n",
      "1      b       1\n",
      "2      c       2\n",
      "3      d       5\n",
      "4      e       6\n",
      "5      f       7\n",
      "6      g       8\n",
      "7      h      10\n",
      "8      i      12\n",
      "9      j      13\n",
      "<class 'pandas.core.frame.DataFrame'>\n",
      "0    a\n",
      "1    b\n",
      "2    c\n",
      "3    d\n",
      "4    e\n",
      "5    f\n",
      "6    g\n",
      "7    h\n",
      "8    i\n",
      "9    j\n",
      "Name: letter, dtype: object\n",
      "<class 'pandas.core.series.Series'>\n"
     ]
    }
   ],
   "source": [
    "import random, string\n",
    "s1 = []\n",
    "s2 = []\n",
    "\n",
    "for i in range(10):\n",
    "    s1.append(string.ascii_letters[i])\n",
    "    s2.append(random.randint(i, i+5))\n",
    "\n",
    "df = pd.DataFrame({'letter':s1, 'number':s2})\n",
    "# Total Data Frame\n",
    "print(df)\n",
    "print(type(df))\n",
    "# Series\n",
    "print(df['letter'])\n",
    "print(type(df['letter']))"
   ]
  },
  {
   "cell_type": "code",
   "execution_count": 12,
   "id": "56dfeb6e-2796-4bea-915c-d6eca7af5f39",
   "metadata": {},
   "outputs": [
    {
     "name": "stdout",
     "output_type": "stream",
     "text": [
      "a\n",
      "b\n",
      "c\n",
      "d\n",
      "e\n",
      "f\n",
      "g\n",
      "h\n",
      "i\n",
      "j\n",
      "k\n",
      "l\n",
      "m\n",
      "n\n",
      "o\n",
      "p\n",
      "q\n",
      "r\n",
      "s\n",
      "t\n",
      "u\n",
      "v\n",
      "w\n",
      "x\n",
      "y\n",
      "z\n",
      "A\n",
      "B\n",
      "C\n",
      "D\n",
      "E\n",
      "F\n",
      "G\n",
      "H\n",
      "I\n",
      "J\n",
      "K\n",
      "L\n",
      "M\n",
      "N\n",
      "O\n",
      "P\n",
      "Q\n",
      "R\n",
      "S\n",
      "T\n",
      "U\n",
      "V\n",
      "W\n",
      "X\n",
      "Y\n",
      "Z\n"
     ]
    }
   ],
   "source": [
    "t = string.ascii_letters\n",
    "for i in t:\n",
    "    print(i)"
   ]
  },
  {
   "cell_type": "code",
   "execution_count": null,
   "id": "e8ca55d1-fc3b-4c38-a58b-5feeddd33ddd",
   "metadata": {},
   "outputs": [],
   "source": []
  }
 ],
 "metadata": {
  "kernelspec": {
   "display_name": "Python 3 (ipykernel)",
   "language": "python",
   "name": "python3"
  },
  "language_info": {
   "codemirror_mode": {
    "name": "ipython",
    "version": 3
   },
   "file_extension": ".py",
   "mimetype": "text/x-python",
   "name": "python",
   "nbconvert_exporter": "python",
   "pygments_lexer": "ipython3",
   "version": "3.10.8"
  }
 },
 "nbformat": 4,
 "nbformat_minor": 5
}
