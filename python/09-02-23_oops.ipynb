{
 "cells": [
  {
   "cell_type": "markdown",
   "id": "a38b1a5d-9b77-43e0-adca-ed9f38297a16",
   "metadata": {},
   "source": []
  },
  {
   "cell_type": "code",
   "execution_count": 1,
   "id": "e3f5e0ef-2b30-4e92-86b0-c78f2b340075",
   "metadata": {},
   "outputs": [],
   "source": [
    "'''Q1, Create a vehicle class with an init method having instance variables as name_of_vehicle, max_speed and average_of_vehicle.'''\n",
    "\n",
    "\n",
    "class Vehicle:\n",
    "    '''Vehicle name = string, max_speed =  int, average_speed =  int'''\n",
    "    \n",
    "    def __init__(self, Vehicle_name, max_speed, average_speed):        \n",
    "        self.name_of_vehicle = str(Vehicle_name)\n",
    "        self.max_speed = int(max_speed)\n",
    "        self.average_of_vehicle = int(average_speed)"
   ]
  },
  {
   "cell_type": "code",
   "execution_count": 2,
   "id": "bced76c8-7849-41a6-8c62-7e444c199302",
   "metadata": {},
   "outputs": [
    {
     "name": "stdout",
     "output_type": "stream",
     "text": [
      "Name of Car : Nano  \n",
      "Number of Seat : 4\n"
     ]
    }
   ],
   "source": [
    "'''Q2. Create a child class car from the vehicle class created in Que 1, which will inherit the vehicle class.\n",
    "Create a method named seating_capacity which takes capacity as an argument and returns the name of\n",
    "the vehicle and its seating capacity.'''\n",
    "\n",
    "class Name_Seat(Vehicle):\n",
    "    \n",
    "    def print_seat(self, seat):\n",
    "        ''' seat in intiger'''\n",
    "        self.seat = seat\n",
    "        \n",
    "        return print(f\"Name of Car : {self.name_of_vehicle}  \\nNumber of Seat : {self.seat}\")\n",
    "    \n",
    "nano = Name_Seat('Nano', 60, 30)\n",
    "nano_seat = nano.print_seat(4)"
   ]
  },
  {
   "cell_type": "code",
   "execution_count": 12,
   "id": "46603308-4d22-4c8a-b3f0-92330f3faaf4",
   "metadata": {},
   "outputs": [
    {
     "name": "stdout",
     "output_type": "stream",
     "text": [
      "5\n",
      "35\n"
     ]
    }
   ],
   "source": [
    "'''Q3. What is multiple inheritance? Write a python code to demonstrate multiple inheritance.'''\n",
    "'''\n",
    " Ans : When a Class inherit more than one Class begaviour, it called multiple inheritance.\n",
    " Example is given below.\n",
    "'''\n",
    "\n",
    "class Add:\n",
    "    '''Example 1 \n",
    "    it return some numbers Total sum'''\n",
    "    def adding(self, *num):\n",
    "        self.num_list = list(num)\n",
    "        s = 0\n",
    "        for i in self.num_list:\n",
    "            s+=i\n",
    "        return s\n",
    "    \n",
    "class Multi:\n",
    "    '''Example 2\n",
    "    it return some numbers Substraction'''\n",
    "    def multi(self, *num):\n",
    "        self.num_list = list(num)\n",
    "        s = 1\n",
    "        for i in self.num_list:\n",
    "            s*=i\n",
    "        return s\n",
    "\n",
    "    \n",
    "class Mathmatics(Add, Multi):\n",
    "    pass\n",
    "        \n",
    "\n",
    "multiple_inhe = Mathmatics()\n",
    "mul_add = multiple_inhe.adding(2,3)\n",
    "mul_multipli = multiple_inhe.multi(5,7)\n",
    "\n",
    "print(mul_add)\n",
    "print(mul_multipli)"
   ]
  },
  {
   "cell_type": "markdown",
   "id": "f953dc28-184c-4104-ba5f-ad8f671d6d67",
   "metadata": {},
   "source": [
    "_____________________"
   ]
  },
  {
   "cell_type": "code",
   "execution_count": 43,
   "id": "a3c69d84-15bc-48ca-8b03-77b66714efac",
   "metadata": {},
   "outputs": [],
   "source": [
    "'''\n",
    "Q4. What are getter and setter in python? Create a class and \n",
    "create a getter and a setter method in this class.\n",
    "\n",
    "Ans : \n",
    "'''\n",
    "\n",
    "class Year_of_made:\n",
    "    \n",
    "    def __init__(self, year=32):\n",
    "        self.__year = year\n",
    "        \n",
    "    # Expose the private property\n",
    "    @property\n",
    "    def expose_year(self):\n",
    "        return self.__year\n",
    "    \n",
    "        \n",
    "    # make the getter method\n",
    "    @expose_year.getter\n",
    "    def get_year(self):\n",
    "        return self.expose_year\n",
    "    \n",
    "    # make the setter method\n",
    "    @expose_year.setter\n",
    "    def set_year(self, a):\n",
    "        self.__year = a\n"
   ]
  },
  {
   "cell_type": "code",
   "execution_count": 44,
   "id": "02bf9264-dca2-4a96-9050-d156d12ba0d4",
   "metadata": {},
   "outputs": [],
   "source": [
    "year_obj = Year_of_made()"
   ]
  },
  {
   "cell_type": "code",
   "execution_count": 45,
   "id": "47a058e9-4e79-47c5-83ec-eaf17bb5baf6",
   "metadata": {},
   "outputs": [],
   "source": [
    "# year_obj.__year"
   ]
  },
  {
   "cell_type": "code",
   "execution_count": 46,
   "id": "4800252d-811f-4a37-9893-ad49ba130dd3",
   "metadata": {},
   "outputs": [
    {
     "data": {
      "text/plain": [
       "32"
      ]
     },
     "execution_count": 46,
     "metadata": {},
     "output_type": "execute_result"
    }
   ],
   "source": [
    "year_obj.expose_year"
   ]
  },
  {
   "cell_type": "code",
   "execution_count": 47,
   "id": "508d0358-0d9b-46ad-9986-bacbd233d71d",
   "metadata": {},
   "outputs": [
    {
     "name": "stdout",
     "output_type": "stream",
     "text": [
      "32\n"
     ]
    }
   ],
   "source": [
    "# Before using setter\n",
    "print(year_obj.get_year)"
   ]
  },
  {
   "cell_type": "code",
   "execution_count": 49,
   "id": "2f93e334-ad57-453f-8a6c-82df63d6e5b7",
   "metadata": {},
   "outputs": [
    {
     "data": {
      "text/plain": [
       "2019"
      ]
     },
     "execution_count": 49,
     "metadata": {},
     "output_type": "execute_result"
    }
   ],
   "source": [
    "# # After using setter\n",
    "year_obj.set_year = 2019\n",
    "year_obj.expose_year"
   ]
  },
  {
   "cell_type": "markdown",
   "id": "24ae132c-52b8-40ee-8fc8-e2de236aa8a0",
   "metadata": {},
   "source": [
    "______________________________"
   ]
  },
  {
   "cell_type": "markdown",
   "id": "589c903a-b764-42a6-8f16-b3d7bbe6bd8e",
   "metadata": {},
   "source": [
    "'''Q5.What is method overriding in python? Write a python code to demonstrate method overriding.'''"
   ]
  },
  {
   "cell_type": "code",
   "execution_count": 51,
   "id": "5c264fc0-cfee-491d-be86-d92e9f5bdbf8",
   "metadata": {},
   "outputs": [
    {
     "data": {
      "text/plain": [
       "'\\n    Ans : In method overriding,  we overright __init__ method of a class\\n'"
      ]
     },
     "execution_count": 51,
     "metadata": {},
     "output_type": "execute_result"
    }
   ],
   "source": [
    "'''\n",
    "    Ans : In method overriding,  we overright __init__ method of a class and its variable\n",
    "    with help of class method, so we can call the variable or method without making its own object.\n",
    "'''"
   ]
  },
  {
   "cell_type": "code",
   "execution_count": 59,
   "id": "bbcc1441-0b33-4822-a29a-333f01de0fcc",
   "metadata": {},
   "outputs": [],
   "source": [
    "import time\n",
    "class User3: \n",
    "#     this is class variable\n",
    "    mobile_no = 9038307812\n",
    "    def __init__(self, name, user_id):\n",
    "        self.name = name\n",
    "        self.id = user_id\n",
    "        self.score = time.time()\n",
    "        \n",
    "        \n",
    "    @classmethod\n",
    "    def change_num(cls, mobile):\n",
    "        User3.mobile_no = mobile\n",
    "        \n",
    "    @classmethod\n",
    "    def detail(cls, name, user_id):\n",
    "        return cls(name, user_id)\n",
    "        \n",
    "    def user_details(self):\n",
    "        print('name : ', self.name, 'id : ',self.id, 'mob:', User3.mobile_no)\n",
    "    "
   ]
  },
  {
   "cell_type": "code",
   "execution_count": 60,
   "id": "b9e1007a-ab37-4468-bc27-1d7aca851e21",
   "metadata": {},
   "outputs": [
    {
     "name": "stdout",
     "output_type": "stream",
     "text": [
      "name :  Tufan id :  3 mob: 9038307812\n"
     ]
    }
   ],
   "source": [
    "t = User3.detail('Tufan', 3)\n",
    "t.user_details()"
   ]
  },
  {
   "cell_type": "code",
   "execution_count": 61,
   "id": "d07095c4-d167-4af4-ad86-6315b75dcc80",
   "metadata": {},
   "outputs": [],
   "source": [
    "def business(cls, company_name):\n",
    "    print('Company: ', company_name)"
   ]
  },
  {
   "cell_type": "code",
   "execution_count": 62,
   "id": "d05cfe35-6840-4cf0-9342-924fee23446e",
   "metadata": {},
   "outputs": [],
   "source": [
    "User3.busin = classmethod(business)"
   ]
  },
  {
   "cell_type": "code",
   "execution_count": 63,
   "id": "2c2f0746-8c09-43f3-ba8e-7996b00d4af1",
   "metadata": {},
   "outputs": [
    {
     "name": "stdout",
     "output_type": "stream",
     "text": [
      "Company:  basu\n"
     ]
    }
   ],
   "source": [
    "User3.busin('basu')"
   ]
  },
  {
   "cell_type": "code",
   "execution_count": null,
   "id": "0e49f3e7-6f22-4de5-b47e-9da4c11159a6",
   "metadata": {},
   "outputs": [],
   "source": []
  }
 ],
 "metadata": {
  "kernelspec": {
   "display_name": "Python 3 (ipykernel)",
   "language": "python",
   "name": "python3"
  },
  "language_info": {
   "codemirror_mode": {
    "name": "ipython",
    "version": 3
   },
   "file_extension": ".py",
   "mimetype": "text/x-python",
   "name": "python",
   "nbconvert_exporter": "python",
   "pygments_lexer": "ipython3",
   "version": "3.10.8"
  },
  "widgets": {
   "application/vnd.jupyter.widget-state+json": {
    "state": {},
    "version_major": 2,
    "version_minor": 0
   }
  }
 },
 "nbformat": 4,
 "nbformat_minor": 5
}
