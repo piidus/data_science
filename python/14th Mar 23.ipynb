{
 "cells": [
  {
   "cell_type": "markdown",
   "id": "088efe8a",
   "metadata": {},
   "source": [
    "### Q1. Write a Python function that takes in two arrays of data and calculates the F-value for a variance ratio test. The function should return the F-value and the corresponding p-value for the test."
   ]
  },
  {
   "cell_type": "code",
   "execution_count": 1,
   "id": "70b9dbda",
   "metadata": {},
   "outputs": [],
   "source": [
    "import numpy as np\n",
    "from scipy.stats import f\n",
    "\n",
    "def variance_ratio_test(x, y):\n",
    "    n_x = len(x)\n",
    "    n_y = len(y)\n",
    "    var_x = np.var(x, ddof=1)\n",
    "    var_y = np.var(y, ddof=1)\n",
    "    f_value = var_x / var_y\n",
    "    p_value = f.cdf(f_value, n_x - 1, n_y - 1)\n",
    "    p_value = min(p_value, 1 - p_value) * 2 # two-tailed p-value\n",
    "    return f_value, p_value"
   ]
  },
  {
   "cell_type": "code",
   "execution_count": 2,
   "id": "38c58b76",
   "metadata": {},
   "outputs": [
    {
     "name": "stdout",
     "output_type": "stream",
     "text": [
      "F-value: 0.25\n",
      "P-value: 0.2080\n"
     ]
    }
   ],
   "source": [
    "x = [1, 2, 3, 4, 5]\n",
    "y = [2, 4, 6, 8, 10]\n",
    "f_value, p_value = variance_ratio_test(x, y)\n",
    "print(f\"F-value: {f_value:.2f}\")\n",
    "print(f\"P-value: {p_value:.4f}\")\n"
   ]
  },
  {
   "cell_type": "markdown",
   "id": "2acaf4f0",
   "metadata": {},
   "source": [
    "### 2. Given a significance level of 0.05 and the degrees of freedom for the numerator and denominator of an F-distribution, write a Python function that returns the critical F-value for a two-tailed test."
   ]
  },
  {
   "cell_type": "code",
   "execution_count": 2,
   "id": "cbe37e57",
   "metadata": {},
   "outputs": [
    {
     "name": "stdout",
     "output_type": "stream",
     "text": [
      "T-statistic: -10.89\n",
      "P-value: 0.0000\n"
     ]
    }
   ],
   "source": [
    "import numpy as np\n",
    "import scipy.stats as stats\n",
    "\n",
    "# Set the random seed for reproducibility\n",
    "np.random.seed(42)\n",
    "\n",
    "# Generate two random samples with known means and standard deviations\n",
    "sample1 = np.random.normal(loc=5, scale=2, size=100)\n",
    "sample2 = np.random.normal(loc=8, scale=2.5, size=100)\n",
    "\n",
    "# Perform a two-sample t-test assuming unequal variances\n",
    "t_stat, p_val = stats.ttest_ind(sample1, sample2, equal_var=False)\n",
    "\n",
    "# Print the results\n",
    "print(f\"T-statistic: {t_stat:.2f}\")\n",
    "print(f\"P-value: {p_val:.4f}\")\n"
   ]
  },
  {
   "cell_type": "markdown",
   "id": "715531b9",
   "metadata": {},
   "source": [
    "### Q3. Write a Python program that generates random samples from two normal distributions with known variances and uses an F-test to determine if the variances are equal. The program should output the F- value, degrees of freedom, and p-value for the test."
   ]
  },
  {
   "cell_type": "code",
   "execution_count": 3,
   "id": "d73ca907",
   "metadata": {},
   "outputs": [
    {
     "name": "stdout",
     "output_type": "stream",
     "text": [
      "F-value: 0.5564866196656871\n",
      "Degrees of freedom numerator: 49\n",
      "Degrees of freedom denominator: 49\n",
      "p-value: 0.9786532588205227\n"
     ]
    }
   ],
   "source": [
    "import numpy as np\n",
    "from scipy.stats import f\n",
    "\n",
    "# Set the seed for reproducibility\n",
    "np.random.seed(123)\n",
    "\n",
    "# Generate two samples from normal distributions with known variances\n",
    "sample1 = np.random.normal(loc=0, scale=1, size=50)\n",
    "sample2 = np.random.normal(loc=0, scale=1.5, size=50)\n",
    "\n",
    "# Calculate the variances of the samples\n",
    "var1 = np.var(sample1, ddof=1)\n",
    "var2 = np.var(sample2, ddof=1)\n",
    "\n",
    "# Calculate the F-value for the variance ratio test\n",
    "F = var1/var2\n",
    "\n",
    "# Calculate the degrees of freedom for the F-distribution\n",
    "dfn = len(sample1) - 1\n",
    "dfd = len(sample2) - 1\n",
    "\n",
    "# Calculate the p-value for the F-test\n",
    "p_value = f.sf(F, dfn, dfd)\n",
    "\n",
    "# Output the results\n",
    "print(\"F-value:\", F)\n",
    "print(\"Degrees of freedom numerator:\", dfn)\n",
    "print(\"Degrees of freedom denominator:\", dfd)\n",
    "print(\"p-value:\", p_value)\n"
   ]
  },
  {
   "cell_type": "markdown",
   "id": "5efdfe50",
   "metadata": {},
   "source": [
    "### Q4.The variances of two populations are known to be 10 and 15. A sample of 12 observations is taken from each population. Conduct an F-test at the 5% significance level to determine if the variances are significantly different."
   ]
  },
  {
   "cell_type": "code",
   "execution_count": 4,
   "id": "18ae66f4",
   "metadata": {},
   "outputs": [
    {
     "name": "stdout",
     "output_type": "stream",
     "text": [
      "There is not enough evidence to conclude that the variances are different with F = 0.78, df1 = 11, df2 = 11, and p = 0.6892.\n"
     ]
    }
   ],
   "source": [
    "import numpy as np\n",
    "from scipy.stats import f\n",
    "\n",
    "# Set the significance level\n",
    "alpha = 0.05\n",
    "\n",
    "# Set the population variances and sample sizes\n",
    "var1 = 10\n",
    "var2 = 15\n",
    "n1 = 12\n",
    "n2 = 12\n",
    "\n",
    "# Generate random samples from the populations\n",
    "np.random.seed(123)\n",
    "sample1 = np.random.normal(loc=0, scale=np.sqrt(var1), size=n1)\n",
    "sample2 = np.random.normal(loc=0, scale=np.sqrt(var2), size=n2)\n",
    "\n",
    "# Calculate the sample variances and the F-statistic\n",
    "s1 = np.var(sample1, ddof=1)\n",
    "s2 = np.var(sample2, ddof=1)\n",
    "F = s1 / s2\n",
    "\n",
    "# Calculate the degrees of freedom for the F-distribution\n",
    "df1 = n1 - 1\n",
    "df2 = n2 - 1\n",
    "\n",
    "# Calculate the p-value for the F-test\n",
    "p = 2 * min(f.cdf(F, df1, df2), 1 - f.cdf(F, df1, df2))\n",
    "\n",
    "# Compare the p-value with the significance level and draw a conclusion\n",
    "if p < alpha:\n",
    "    print(f\"The variances are significantly different with F = {F:.2f}, df1 = {df1}, df2 = {df2}, and p = {p:.4f}.\")\n",
    "else:\n",
    "    print(f\"There is not enough evidence to conclude that the variances are different with F = {F:.2f}, df1 = {df1}, df2 = {df2}, and p = {p:.4f}.\")\n"
   ]
  },
  {
   "cell_type": "markdown",
   "id": "ebb12221",
   "metadata": {},
   "source": [
    "### Q5. A manufacturer claims that the variance of the diameter of a certain product is 0.005. A sample of 25 products is taken, and the sample variance is found to be 0.006. Conduct an F-test at the 1% significance level to determine if the claim is justified."
   ]
  },
  {
   "cell_type": "markdown",
   "id": "a4bf7ac0",
   "metadata": {},
   "source": [
    "To test the manufacturer's claim, we can use an F-test.\n",
    "\n",
    "Null hypothesis: The variance of the diameter of the product is 0.005.\n",
    "Alternative hypothesis: The variance of the diameter of the product is not 0.005.\n",
    "\n",
    "We can use the F-distribution to calculate the p-value for the test.\n",
    "\n",
    "First, we calculate the F-statistic as:\n",
    "\n",
    "F = s^2 / σ^2\n",
    "\n",
    "where s^2 is the sample variance and σ^2 is the hypothesized variance.\n",
    "\n",
    "F = 0.006 / 0.005\n",
    "F = 1.2\n",
    "\n",
    "Next, we calculate the degrees of freedom:\n",
    "\n",
    "df1 = n - 1 = 25 - 1 = 24\n",
    "df2 = ∞ (since the population variance is known)\n",
    "\n",
    "Using the F-distribution with df1 = 24 and df2 = ∞, we can calculate the p-value for the test. We want a two-tailed test, since the alternative hypothesis is not equal to the null hypothesis.\n",
    "\n",
    "At the 1% significance level, the critical F-value is 0.228.\n",
    "\n",
    "Since our calculated F-value (1.2) is greater than the critical F-value (0.228), we reject the null hypothesis.\n",
    "\n",
    "The p-value for the test is:\n",
    "\n",
    "p-value = 2 * P(F > 1.2) = 2 * (1 - F.cdf(1.2, 24, np.inf)) ≈ 0.312\n",
    "\n",
    "Since the p-value is greater than the significance level of 0.01, we fail to reject the null hypothesis.\n",
    "\n",
    "Therefore, we cannot conclude that the variance of the diameter of the product is significantly different from 0.005."
   ]
  },
  {
   "cell_type": "code",
   "execution_count": 6,
   "id": "1c23cae0",
   "metadata": {},
   "outputs": [
    {
     "name": "stdout",
     "output_type": "stream",
     "text": [
      "Fail to reject null hypothesis\n",
      "F-value:  1.2\n",
      "p-value:  0.3293654682817244\n"
     ]
    }
   ],
   "source": [
    "import scipy.stats as stats\n",
    "\n",
    "# Null hypothesis: variance of population = 0.005\n",
    "# Alternative hypothesis: variance of population > 0.005\n",
    "alpha = 0.01\n",
    "n = 25\n",
    "sample_var = 0.006\n",
    "pop_var = 0.005\n",
    "\n",
    "# Calculate the F statistic\n",
    "F = sample_var / pop_var\n",
    "\n",
    "# Calculate the p-value\n",
    "p_value = 1 - stats.f.cdf(F, n-1, n-1)\n",
    "\n",
    "# Compare p-value to significance level\n",
    "if p_value < alpha:\n",
    "    print(\"Reject null hypothesis\")\n",
    "else:\n",
    "    print(\"Fail to reject null hypothesis\")\n",
    "    \n",
    "print(\"F-value: \", F)\n",
    "print(\"p-value: \", p_value)\n"
   ]
  },
  {
   "cell_type": "markdown",
   "id": "4fc05e88",
   "metadata": {},
   "source": [
    "### Q6. Write a Python function that takes in the degrees of freedom for the numerator and denominator of an F-distribution and calculates the mean and variance of the distribution. The function should return the mean and variance as a tuple."
   ]
  },
  {
   "cell_type": "code",
   "execution_count": 8,
   "id": "ec1ab4a1",
   "metadata": {},
   "outputs": [
    {
     "data": {
      "text/plain": [
       "(1.25, 1.3541666666666667)"
      ]
     },
     "execution_count": 8,
     "metadata": {},
     "output_type": "execute_result"
    }
   ],
   "source": [
    "import math\n",
    "\n",
    "def f_distribution_mean_var(df_n, df_d):\n",
    "    \"\"\"\n",
    "    Calculates the mean and variance of an F-distribution.\n",
    "\n",
    "    Args:\n",
    "    df_n (int): degrees of freedom for the numerator\n",
    "    df_d (int): degrees of freedom for the denominator\n",
    "\n",
    "    Returns:\n",
    "    tuple: a tuple containing the mean and variance of the F-distribution\n",
    "    \"\"\"\n",
    "    if df_n <= 0 or df_d <= 0:\n",
    "        raise ValueError('Degrees of freedom must be positive.')\n",
    "\n",
    "    mean = df_d / (df_d - 2)\n",
    "    var = (2 * (df_d ** 2) * (df_n + df_d - 2)) / ((df_n * (df_d - 2) ** 2 * (df_d - 4)))\n",
    "\n",
    "    return mean, var\n",
    "\n",
    "f_distribution_mean_var(5, 10)"
   ]
  },
  {
   "cell_type": "markdown",
   "id": "ae11d5b0",
   "metadata": {},
   "source": [
    "### Q7. A random sample of 10 measurements is taken from a normal population with unknown variance. The sample variance is found to be 25. Another random sample of 15 measurements is taken from another normal population with unknown variance, and the sample variance is found to be 20. Conduct an F-test at the 10% significance level to determine if the variances are significantly different."
   ]
  },
  {
   "cell_type": "code",
   "execution_count": 9,
   "id": "fadc9f12",
   "metadata": {},
   "outputs": [
    {
     "name": "stdout",
     "output_type": "stream",
     "text": [
      "The variances are not significantly different (fail to reject null hypothesis)\n",
      "F-value: 1.25\n",
      "p-value: 1.3167805617414046\n"
     ]
    }
   ],
   "source": [
    "import numpy as np\n",
    "from scipy.stats import f\n",
    "\n",
    "# Define the sample variances and sample sizes\n",
    "s1 = 25\n",
    "n1 = 10\n",
    "s2 = 20\n",
    "n2 = 15\n",
    "\n",
    "# Calculate the test statistic\n",
    "F = s1 / s2\n",
    "\n",
    "# Calculate the p-value for a two-tailed test\n",
    "p = 2 * f.cdf(F, n1-1, n2-1)\n",
    "\n",
    "# Compare the p-value to the significance level\n",
    "alpha = 0.1\n",
    "if p < alpha:\n",
    "    print(\"The variances are significantly different (reject null hypothesis)\")\n",
    "else:\n",
    "    print(\"The variances are not significantly different (fail to reject null hypothesis)\")\n",
    "\n",
    "# Print the F-value and p-value\n",
    "print(\"F-value:\", F)\n",
    "print(\"p-value:\", p)\n"
   ]
  },
  {
   "cell_type": "markdown",
   "id": "2d632985",
   "metadata": {},
   "source": [
    "### Q8. The following data represent the waiting times in minutes at two different restaurants on a Saturday night: Restaurant A: 24, 25, 28, 23, 22, 20, 27; Restaurant B: 31, 33, 35, 30, 32, 36. Conduct an F-test at the 5% significance level to determine if the variances are significantly different. "
   ]
  },
  {
   "cell_type": "code",
   "execution_count": 10,
   "id": "adecc2b4",
   "metadata": {},
   "outputs": [
    {
     "name": "stdout",
     "output_type": "stream",
     "text": [
      "The variances are not significantly different (fail to reject null hypothesis)\n",
      "F-value: 1.4551907719609583\n",
      "p-value: 0.6512592126031258\n"
     ]
    }
   ],
   "source": [
    "import numpy as np\n",
    "from scipy.stats import f\n",
    "\n",
    "# Define the waiting time data for the two restaurants\n",
    "restaurant_a = np.array([24, 25, 28, 23, 22, 20, 27])\n",
    "restaurant_b = np.array([31, 33, 35, 30, 32, 36])\n",
    "\n",
    "# Calculate the sample variances\n",
    "var_a = np.var(restaurant_a, ddof=1)\n",
    "var_b = np.var(restaurant_b, ddof=1)\n",
    "\n",
    "# Calculate the F-value and p-value for the test\n",
    "f_value = var_a / var_b\n",
    "p_value = f.cdf(f_value, len(restaurant_a)-1, len(restaurant_b)-1)\n",
    "\n",
    "# Determine if the variances are significantly different\n",
    "alpha = 0.05\n",
    "if p_value < alpha/2 or p_value > 1 - alpha/2:\n",
    "    print(\"The variances are significantly different (reject null hypothesis)\")\n",
    "else:\n",
    "    print(\"The variances are not significantly different (fail to reject null hypothesis)\")\n",
    "    \n",
    "# Print the results\n",
    "print(\"F-value:\", f_value)\n",
    "print(\"p-value:\", p_value)\n"
   ]
  },
  {
   "cell_type": "markdown",
   "id": "4615a13b",
   "metadata": {},
   "source": [
    "### Q9. The following data represent the test scores of two groups of students: Group A: 80, 85, 90, 92, 87, 83;  Group B: 75, 78, 82, 79, 81, 84. Conduct an F-test at the 1% significance level to determine if the variances are significantly different."
   ]
  },
  {
   "cell_type": "code",
   "execution_count": 11,
   "id": "8c7032c0",
   "metadata": {},
   "outputs": [
    {
     "name": "stdout",
     "output_type": "stream",
     "text": [
      "F-statistic: 8.0401\n",
      "p-value: 0.0177\n"
     ]
    }
   ],
   "source": [
    "import numpy as np\n",
    "from scipy.stats import f_oneway\n",
    "\n",
    "# Define the data\n",
    "group_a = np.array([80, 85, 90, 92, 87, 83])\n",
    "group_b = np.array([75, 78, 82, 79, 81, 84])\n",
    "\n",
    "# Calculate the variances\n",
    "var_a = np.var(group_a, ddof=1)\n",
    "var_b = np.var(group_b, ddof=1)\n",
    "\n",
    "# Perform the F-test\n",
    "f_stat, p_val = f_oneway(group_a, group_b)\n",
    "\n",
    "# Print the results\n",
    "print(\"F-statistic: {:.4f}\".format(f_stat))\n",
    "print(\"p-value: {:.4f}\".format(p_val))\n"
   ]
  },
  {
   "cell_type": "markdown",
   "id": "53fb1e87",
   "metadata": {},
   "source": []
  }
 ],
 "metadata": {
  "kernelspec": {
   "display_name": "Python 3 (ipykernel)",
   "language": "python",
   "name": "python3"
  },
  "language_info": {
   "codemirror_mode": {
    "name": "ipython",
    "version": 3
   },
   "file_extension": ".py",
   "mimetype": "text/x-python",
   "name": "python",
   "nbconvert_exporter": "python",
   "pygments_lexer": "ipython3",
   "version": "3.9.13"
  }
 },
 "nbformat": 4,
 "nbformat_minor": 5
}
