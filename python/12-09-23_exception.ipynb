{
 "cells": [
  {
   "cell_type": "markdown",
   "id": "45ff11ad-f3f6-4ba9-9bce-91332b1f2c2b",
   "metadata": {},
   "source": [
    "'''Q1. What is an Exception in python? Write the difference  between Exceptions and a syntax errors  '''"
   ]
  },
  {
   "cell_type": "markdown",
   "id": "1868a09d-476c-42f2-86f5-1a7104bf772f",
   "metadata": {},
   "source": [
    "'''\n",
    "Ans: An Exception is an error that happens during the execution of a program. Whenever there is an error.\n",
    "\n",
    "    Errors cannot be handled, while Python exceptions can be handled at the run time. \n",
    "    An error can be a syntax (parsing) error, while there can be many types of exceptions \n",
    "    that could occur during the execution and are not unconditionally inoperable.\n",
    "'''"
   ]
  },
  {
   "cell_type": "markdown",
   "id": "105d88ec-42c9-4776-9e0c-270a5b06ce63",
   "metadata": {},
   "source": [
    "________________________________"
   ]
  },
  {
   "cell_type": "markdown",
   "id": "a911784e-6090-4033-b69c-35c30bc31d8f",
   "metadata": {},
   "source": [
    "Q2. What happens when an exception is not handled? Explain with an example "
   ]
  },
  {
   "cell_type": "markdown",
   "id": "af474d9b-7e95-49fe-a78d-5a20a7d02774",
   "metadata": {},
   "source": [
    "If exception is not handled then next code could not run."
   ]
  },
  {
   "cell_type": "code",
   "execution_count": 2,
   "id": "b059958f-8583-47ae-a9c8-3e59145612a3",
   "metadata": {},
   "outputs": [
    {
     "ename": "FileNotFoundError",
     "evalue": "[Errno 2] No such file or directory: 'test.txt'",
     "output_type": "error",
     "traceback": [
      "\u001b[0;31m---------------------------------------------------------------------------\u001b[0m",
      "\u001b[0;31mFileNotFoundError\u001b[0m                         Traceback (most recent call last)",
      "Cell \u001b[0;32mIn[2], line 1\u001b[0m\n\u001b[0;32m----> 1\u001b[0m \u001b[38;5;28;01mwith\u001b[39;00m \u001b[38;5;28;43mopen\u001b[39;49m\u001b[43m(\u001b[49m\u001b[38;5;124;43m'\u001b[39;49m\u001b[38;5;124;43mtest.txt\u001b[39;49m\u001b[38;5;124;43m'\u001b[39;49m\u001b[43m,\u001b[49m\u001b[43m \u001b[49m\u001b[38;5;124;43m'\u001b[39;49m\u001b[38;5;124;43mr\u001b[39;49m\u001b[38;5;124;43m'\u001b[39;49m\u001b[43m)\u001b[49m \u001b[38;5;28;01mas\u001b[39;00m f:\n\u001b[1;32m      2\u001b[0m     f\u001b[38;5;241m.\u001b[39mwrite(\u001b[38;5;124m'\u001b[39m\u001b[38;5;124mI am writing a error code\u001b[39m\u001b[38;5;124m'\u001b[39m)\n",
      "File \u001b[0;32m/opt/conda/lib/python3.10/site-packages/IPython/core/interactiveshell.py:282\u001b[0m, in \u001b[0;36m_modified_open\u001b[0;34m(file, *args, **kwargs)\u001b[0m\n\u001b[1;32m    275\u001b[0m \u001b[38;5;28;01mif\u001b[39;00m file \u001b[38;5;129;01min\u001b[39;00m {\u001b[38;5;241m0\u001b[39m, \u001b[38;5;241m1\u001b[39m, \u001b[38;5;241m2\u001b[39m}:\n\u001b[1;32m    276\u001b[0m     \u001b[38;5;28;01mraise\u001b[39;00m \u001b[38;5;167;01mValueError\u001b[39;00m(\n\u001b[1;32m    277\u001b[0m         \u001b[38;5;124mf\u001b[39m\u001b[38;5;124m\"\u001b[39m\u001b[38;5;124mIPython won\u001b[39m\u001b[38;5;124m'\u001b[39m\u001b[38;5;124mt let you open fd=\u001b[39m\u001b[38;5;132;01m{\u001b[39;00mfile\u001b[38;5;132;01m}\u001b[39;00m\u001b[38;5;124m by default \u001b[39m\u001b[38;5;124m\"\u001b[39m\n\u001b[1;32m    278\u001b[0m         \u001b[38;5;124m\"\u001b[39m\u001b[38;5;124mas it is likely to crash IPython. If you know what you are doing, \u001b[39m\u001b[38;5;124m\"\u001b[39m\n\u001b[1;32m    279\u001b[0m         \u001b[38;5;124m\"\u001b[39m\u001b[38;5;124myou can use builtins\u001b[39m\u001b[38;5;124m'\u001b[39m\u001b[38;5;124m open.\u001b[39m\u001b[38;5;124m\"\u001b[39m\n\u001b[1;32m    280\u001b[0m     )\n\u001b[0;32m--> 282\u001b[0m \u001b[38;5;28;01mreturn\u001b[39;00m \u001b[43mio_open\u001b[49m\u001b[43m(\u001b[49m\u001b[43mfile\u001b[49m\u001b[43m,\u001b[49m\u001b[43m \u001b[49m\u001b[38;5;241;43m*\u001b[39;49m\u001b[43margs\u001b[49m\u001b[43m,\u001b[49m\u001b[43m \u001b[49m\u001b[38;5;241;43m*\u001b[39;49m\u001b[38;5;241;43m*\u001b[39;49m\u001b[43mkwargs\u001b[49m\u001b[43m)\u001b[49m\n",
      "\u001b[0;31mFileNotFoundError\u001b[0m: [Errno 2] No such file or directory: 'test.txt'"
     ]
    }
   ],
   "source": [
    "with open('test.txt', 'r') as f:\n",
    "    f.write('I am writing a error code')"
   ]
  },
  {
   "cell_type": "code",
   "execution_count": 4,
   "id": "63c9a787-90f8-42e3-84bd-0f794a581bb0",
   "metadata": {},
   "outputs": [
    {
     "name": "stdout",
     "output_type": "stream",
     "text": [
      "[Errno 2] No such file or directory: 'test.txt'\n",
      "It is an example of error handling\n"
     ]
    }
   ],
   "source": [
    "try :\n",
    "    with open('test.txt', 'r') as f:\n",
    "        f.write('I am writing a error code')\n",
    "except Exception as e :\n",
    "    print(e)\n",
    "finally:\n",
    "    print(\"It is an example of error handling\")"
   ]
  },
  {
   "cell_type": "markdown",
   "id": "3cf19143-9736-48e8-b97b-7738a3cd5318",
   "metadata": {},
   "source": [
    "_________________________________"
   ]
  },
  {
   "cell_type": "markdown",
   "id": "ca628ffd-b574-4aaf-8d7e-b8dda65be572",
   "metadata": {},
   "source": [
    "Q3. Which Python statements are used to catch and handle exceptions? Explain with an example"
   ]
  },
  {
   "cell_type": "code",
   "execution_count": 5,
   "id": "a968db38-1282-43f0-9f9b-b53ac7be9de1",
   "metadata": {},
   "outputs": [
    {
     "name": "stdout",
     "output_type": "stream",
     "text": [
      "[Errno 2] No such file or directory: 'test.txt'\n"
     ]
    }
   ],
   "source": [
    "# 'Exception'  USED TO CATCH AND HANDLE EXCEPTION\n",
    "\n",
    "try :\n",
    "    with open('test.txt', 'r') as f:\n",
    "        f.write('I am writing a error code')\n",
    "except Exception as e :\n",
    "    print(e)"
   ]
  },
  {
   "cell_type": "markdown",
   "id": "a5235d68-6bf6-4da0-b937-7147ddcd91c9",
   "metadata": {},
   "source": [
    "____________________"
   ]
  },
  {
   "cell_type": "markdown",
   "id": "21f21d2d-5fa9-4f94-8d40-df8098b1f82f",
   "metadata": {},
   "source": [
    "Q4. Explain with an example\n",
    "\n",
    "    1 try and else\n",
    "    \n",
    "    2 finally \n",
    "    \n",
    "    3 raise"
   ]
  },
  {
   "cell_type": "code",
   "execution_count": 38,
   "id": "3299eac8-0fa1-40a9-9151-eabbf264aa22",
   "metadata": {},
   "outputs": [
    {
     "name": "stdin",
     "output_type": "stream",
     "text": [
      "Input First No. : a1/A\n"
     ]
    },
    {
     "name": "stdout",
     "output_type": "stream",
     "text": [
      "Valid Password\n",
      "Your Result\n",
      "Have a Great Day\n"
     ]
    }
   ],
   "source": [
    "import string\n",
    "class validate(Exception):\n",
    "    \n",
    "    def __init__(self , msg) : \n",
    "        self.msg = msg\n",
    "\n",
    "def validate(data):\n",
    "    if len(data)>3:\n",
    "        '''The length of the password should be 3 characters long.'''\n",
    "        special_char = list(i for i in data if i in string.punctuation)\n",
    "        '''list of special charter in passworrd'''\n",
    "        number_list = list(i for i in data if i in string.digits)\n",
    "        '''list of digit in passworrd'''\n",
    "        upper_list =  list(i for i in data if i in string.ascii_uppercase)\n",
    "        '''list of UpperCase Letter in passworrd'''\n",
    "        lower_list =  list(i for i in data if i in string.ascii_lowercase)\n",
    "        '''list of Lower Case charter in passworrd'''\n",
    "        \n",
    "        if len(special_char)>= 1 and len(number_list)>0 and len(upper_list)>=1 and len(lower_list)>=1:\n",
    "            print('Valid Password')\n",
    "        # raise Error\n",
    "        else:\n",
    "            raise(\"Invalid Password\")\n",
    "  \n",
    "    else :   \n",
    "        # raise Error\n",
    "        raise('Atleast 1 lower Case, 1 Upper Case 1 Number and 1 Special Charter')\n",
    "\n",
    "try:\n",
    "    first = str(input('Input First No. :'))\n",
    "    \n",
    "    validate(first)\n",
    "except validate as e :\n",
    "    print(e)\n",
    "# Else Block\n",
    "else : print('Your Password is valid')\n",
    "# Fainally Block\n",
    "finally:\n",
    "    print('Have a Great Day')"
   ]
  },
  {
   "cell_type": "markdown",
   "id": "8ec1fc25-a16d-4dac-a22a-a270e96fff42",
   "metadata": {},
   "source": [
    "_____________________"
   ]
  },
  {
   "cell_type": "markdown",
   "id": "086d2fd2-9716-457c-aeb7-447e30d25cc2",
   "metadata": {},
   "source": [
    "Q5. What are Custom Exceptions in python? Why do we need Custom Exceptions? Explain with an example"
   ]
  },
  {
   "cell_type": "code",
   "execution_count": 9,
   "id": "55c8abaa-b468-45b2-ba9a-d6528706813c",
   "metadata": {},
   "outputs": [
    {
     "name": "stdin",
     "output_type": "stream",
     "text": [
      "enter your age 5\n"
     ]
    },
    {
     "name": "stdout",
     "output_type": "stream",
     "text": [
      "Your are not Eligible for job \n",
      "Have a Great Day\n"
     ]
    }
   ],
   "source": [
    "# It helps to track some condition, programatically correct but, \n",
    "# if it violate the rule then we can raise the problem.\n",
    "\n",
    "class validateage(Exception):\n",
    "    \n",
    "    def __init__(self , msg) : \n",
    "        self.msg = msg\n",
    "\n",
    "# Example of Custom Exception\n",
    "def validaetage(age) : \n",
    "    if age < 18 :\n",
    "        raise validateage(\"Your are not Eligible for job \" )\n",
    "    elif age > 60 : \n",
    "        raise validateage(\"Your are too late for this job \" )\n",
    "    else :\n",
    "        print(\"You can apply for the job\" )\n",
    "        \n",
    "\n",
    "try :\n",
    "    age = int(input(\"enter your age\" ))\n",
    "    validaetage(age)\n",
    "except validateage as e :\n",
    "    print(e)\n",
    "finally:\n",
    "    print('Have a Great Day')"
   ]
  },
  {
   "cell_type": "markdown",
   "id": "9e91415d-4ac4-4554-ad18-51b330231528",
   "metadata": {},
   "source": [
    "__________________________________"
   ]
  },
  {
   "cell_type": "markdown",
   "id": "98741ac4-3b0b-4cbb-b1b3-20e1098f6b00",
   "metadata": {},
   "source": [
    " Q6. Create  a custom exception class. Use this class to handle an exception. "
   ]
  },
  {
   "cell_type": "code",
   "execution_count": null,
   "id": "dfc03c92-6b2f-45d3-aebb-25c41dccd4b8",
   "metadata": {},
   "outputs": [],
   "source": [
    "# This 'validage' is a custom class\n",
    "\n",
    "class validateage(Exception):\n",
    "    \n",
    "    def __init__(self , msg) : \n",
    "        self.msg = msg\n",
    "\n",
    "# Example of Custom Exception\n",
    "def validaetage(age) : \n",
    "    if age < 18 :\n",
    "        raise validateage(\"Your are not Eligible for job \" )\n",
    "    elif age > 60 : \n",
    "        raise validateage(\"Your are too late for this job \" )\n",
    "    else :\n",
    "        print(\"You can apply for the job\" )\n",
    "        \n",
    "\n",
    "try :\n",
    "    age = int(input(\"enter your age\" ))\n",
    "    validaetage(age)\n",
    "except validateage as e :\n",
    "    print(e)\n",
    "finally:\n",
    "    print('Have a Great Day')"
   ]
  },
  {
   "cell_type": "code",
   "execution_count": null,
   "id": "18ba0bf2-a785-4c56-bb04-561da0141b5d",
   "metadata": {},
   "outputs": [],
   "source": []
  }
 ],
 "metadata": {
  "kernelspec": {
   "display_name": "Python 3 (ipykernel)",
   "language": "python",
   "name": "python3"
  },
  "language_info": {
   "codemirror_mode": {
    "name": "ipython",
    "version": 3
   },
   "file_extension": ".py",
   "mimetype": "text/x-python",
   "name": "python",
   "nbconvert_exporter": "python",
   "pygments_lexer": "ipython3",
   "version": "3.10.8"
  }
 },
 "nbformat": 4,
 "nbformat_minor": 5
}
