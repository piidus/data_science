{
 "cells": [
  {
   "cell_type": "markdown",
   "id": "7a0f4fa5-dc22-4d05-ab0a-a1b22dcd66cb",
   "metadata": {},
   "source": [
    "Q1. Explain why we have to use the Exception class while creating a Custom Exception.\n",
    "\n",
    "Note: Here Exception class refers to the base class for all the exceptions."
   ]
  },
  {
   "cell_type": "code",
   "execution_count": 1,
   "id": "f36085a5-388e-421a-a4cf-978f026b0128",
   "metadata": {},
   "outputs": [
    {
     "data": {
      "text/plain": [
       "'\\nAns :: Some errors are Progamatically right, but wrong in logical, so we create Custom Exception.\\n'"
      ]
     },
     "execution_count": 1,
     "metadata": {},
     "output_type": "execute_result"
    }
   ],
   "source": [
    "'''\n",
    "Ans :: Some errors are Progamatically right, but wrong in logical, so we create Custom Exception.\n",
    "'''"
   ]
  },
  {
   "cell_type": "markdown",
   "id": "825bf58a-7da4-4320-9a37-a59c923fba61",
   "metadata": {},
   "source": [
    "_____"
   ]
  },
  {
   "cell_type": "markdown",
   "id": "d28504f3-2a31-4652-9b91-5dae29bedc0e",
   "metadata": {},
   "source": [
    "Q2. Write a python program to print Python Exception Hierarchy."
   ]
  },
  {
   "cell_type": "code",
   "execution_count": 6,
   "id": "a0f47055-635b-4242-b758-49981ceb33e9",
   "metadata": {},
   "outputs": [
    {
     "name": "stdin",
     "output_type": "stream",
     "text": [
      " 10\n"
     ]
    }
   ],
   "source": [
    "import logging\n",
    "logging.basicConfig(filename='error.log', level= logging.DEBUG, format='%(asctime)s %(name)s %(levelname)s %(message)s')\n",
    "def error_handling():\n",
    "    num1, num2 = [i for i in input()]\n",
    "    num = num1/num2\n",
    "    return num\n",
    "try:\n",
    "    error_handling()\n",
    "except Exception as e:\n",
    "    logging.error('Error for Debug : {0}'.format(e))\n",
    "finally:\n",
    "    logging.shutdown()"
   ]
  },
  {
   "cell_type": "code",
   "execution_count": 7,
   "id": "fc9da7bf-9bde-46ca-8ce9-24e4c7433305",
   "metadata": {},
   "outputs": [],
   "source": [
    "import os\n",
    "os.remove('error.log')"
   ]
  },
  {
   "cell_type": "markdown",
   "id": "e752928c-7d97-4bf3-ac78-62880828d43b",
   "metadata": {},
   "source": [
    "___"
   ]
  },
  {
   "cell_type": "markdown",
   "id": "afbf3a76-641b-46c7-a7cd-fe808e38fbb1",
   "metadata": {},
   "source": [
    "Q3. What errors are defined in the ArithmeticError class? Explain any two with an example."
   ]
  },
  {
   "cell_type": "code",
   "execution_count": 8,
   "id": "59c175e1-3c27-4f81-9906-1139d7ee20ca",
   "metadata": {},
   "outputs": [
    {
     "data": {
      "text/plain": [
       "'ArithmeticError class has mainly 3 types of error, e.g.: \\n        1 FloatingPointError\\n        2 OverflowError\\n        3 ZeroDivisionError\\n      '"
      ]
     },
     "execution_count": 8,
     "metadata": {},
     "output_type": "execute_result"
    }
   ],
   "source": [
    "'''ArithmeticError class has mainly 3 types of error, e.g.: \n",
    "        1 FloatingPointError\n",
    "        2 OverflowError\n",
    "        3 ZeroDivisionError\n",
    "      '''"
   ]
  },
  {
   "cell_type": "code",
   "execution_count": 9,
   "id": "8dfcbdb3-cf1e-4883-ac8d-44be4c3cf610",
   "metadata": {},
   "outputs": [
    {
     "name": "stdout",
     "output_type": "stream",
     "text": [
      "The exponential value is\n",
      "After overflow math range error\n"
     ]
    }
   ],
   "source": [
    "# Overflow Error :\n",
    "import math\n",
    "\n",
    "try:\n",
    "    print(\"The exponential value is\")\n",
    "    print(math.exp(1000))\n",
    "    \n",
    "except OverflowError as e:\n",
    "    print(\"After overflow\", e)"
   ]
  },
  {
   "cell_type": "code",
   "execution_count": 10,
   "id": "19ba24b2-518b-4da0-9375-a725da9e8636",
   "metadata": {},
   "outputs": [
    {
     "name": "stdout",
     "output_type": "stream",
     "text": [
      "The zerodivisible Error\n",
      "After overflow division by zero\n"
     ]
    }
   ],
   "source": [
    "# Zerodivisible Error\n",
    "try:\n",
    "    print(\"The zerodivisible Error\")\n",
    "    print(5/0)\n",
    "    \n",
    "except ZeroDivisionError as e:\n",
    "    print(\"After overflow\", e)"
   ]
  },
  {
   "cell_type": "markdown",
   "id": "ea4eadfe-dbef-43b3-ab59-c7a21ad62770",
   "metadata": {},
   "source": [
    "_____"
   ]
  },
  {
   "cell_type": "markdown",
   "id": "1a5b6537-b07e-477e-8058-75222c7c8049",
   "metadata": {},
   "source": [
    "Q4. Why LookupError class is used? Explain with an example KeyError and IndexError."
   ]
  },
  {
   "cell_type": "markdown",
   "id": "a7ea7ab1-4aab-4cbb-9e3f-b96e94215492",
   "metadata": {},
   "source": [
    "'''\n",
    "The LookupError exception in Python used for raised when an index or a key is not found\n",
    "in a sequence or dictionary respectively.\n",
    "\n",
    "You can use LookupError exception class to handle both IndexError and KeyError exception classes.\n",
    "e.g. :-\n",
    " 1 IndexError\n",
    " 2 KeyError\n",
    " '''"
   ]
  },
  {
   "cell_type": "code",
   "execution_count": 11,
   "id": "9da061fa-0e61-4acf-8d0a-ae3050381c3f",
   "metadata": {},
   "outputs": [
    {
     "name": "stdout",
     "output_type": "stream",
     "text": [
      "error is list index out of range\n"
     ]
    }
   ],
   "source": [
    "# Index Error: -\n",
    "x = [1, 2, 3, 4]\n",
    "try:\n",
    "    print(x[10])\n",
    "except LookupError as e:\n",
    "    print('error is', e)"
   ]
  },
  {
   "cell_type": "code",
   "execution_count": 13,
   "id": "5def5ea3-de4b-4ddc-a234-c22ebf3fea4f",
   "metadata": {},
   "outputs": [
    {
     "ename": "KeyboardInterrupt",
     "evalue": "Interrupted by user",
     "output_type": "error",
     "traceback": [
      "\u001b[0;31m---------------------------------------------------------------------------\u001b[0m",
      "\u001b[0;31mKeyboardInterrupt\u001b[0m                         Traceback (most recent call last)",
      "Cell \u001b[0;32mIn[13], line 3\u001b[0m\n\u001b[1;32m      1\u001b[0m \u001b[38;5;66;03m# Key Error: -\u001b[39;00m\n\u001b[1;32m      2\u001b[0m student_details \u001b[38;5;241m=\u001b[39m {\u001b[38;5;124m'\u001b[39m\u001b[38;5;124mname\u001b[39m\u001b[38;5;124m'\u001b[39m: \u001b[38;5;124m'\u001b[39m\u001b[38;5;124mSudip Basu\u001b[39m\u001b[38;5;124m'\u001b[39m, \u001b[38;5;124m'\u001b[39m\u001b[38;5;124mage\u001b[39m\u001b[38;5;124m'\u001b[39m: \u001b[38;5;241m36\u001b[39m, \u001b[38;5;124m'\u001b[39m\u001b[38;5;124minstitute\u001b[39m\u001b[38;5;124m'\u001b[39m : \u001b[38;5;124m'\u001b[39m\u001b[38;5;124mPWSKILLS\u001b[39m\u001b[38;5;124m'\u001b[39m, \u001b[38;5;124m'\u001b[39m\u001b[38;5;124mlanguage\u001b[39m\u001b[38;5;124m'\u001b[39m: \u001b[38;5;124m'\u001b[39m\u001b[38;5;124mPython\u001b[39m\u001b[38;5;124m'\u001b[39m}\n\u001b[0;32m----> 3\u001b[0m user_input \u001b[38;5;241m=\u001b[39m \u001b[38;5;28;43minput\u001b[39;49m\u001b[43m(\u001b[49m\u001b[38;5;124;43m'\u001b[39;49m\u001b[38;5;124;43mWhat do you want to learn about Student==> \u001b[39;49m\u001b[38;5;124;43m'\u001b[39;49m\u001b[43m)\u001b[49m\n\u001b[1;32m      5\u001b[0m \u001b[38;5;28;01mtry\u001b[39;00m:\n\u001b[1;32m      6\u001b[0m     \u001b[38;5;28mprint\u001b[39m(\u001b[38;5;124mf\u001b[39m\u001b[38;5;124m'\u001b[39m\u001b[38;5;132;01m{\u001b[39;00muser_input\u001b[38;5;132;01m}\u001b[39;00m\u001b[38;5;124m is \u001b[39m\u001b[38;5;132;01m{\u001b[39;00mstudent_details[user_input]\u001b[38;5;132;01m}\u001b[39;00m\u001b[38;5;124m'\u001b[39m)\n",
      "File \u001b[0;32m/opt/conda/lib/python3.10/site-packages/ipykernel/kernelbase.py:1175\u001b[0m, in \u001b[0;36mKernel.raw_input\u001b[0;34m(self, prompt)\u001b[0m\n\u001b[1;32m   1171\u001b[0m \u001b[38;5;28;01mif\u001b[39;00m \u001b[38;5;129;01mnot\u001b[39;00m \u001b[38;5;28mself\u001b[39m\u001b[38;5;241m.\u001b[39m_allow_stdin:\n\u001b[1;32m   1172\u001b[0m     \u001b[38;5;28;01mraise\u001b[39;00m StdinNotImplementedError(\n\u001b[1;32m   1173\u001b[0m         \u001b[38;5;124m\"\u001b[39m\u001b[38;5;124mraw_input was called, but this frontend does not support input requests.\u001b[39m\u001b[38;5;124m\"\u001b[39m\n\u001b[1;32m   1174\u001b[0m     )\n\u001b[0;32m-> 1175\u001b[0m \u001b[38;5;28;01mreturn\u001b[39;00m \u001b[38;5;28;43mself\u001b[39;49m\u001b[38;5;241;43m.\u001b[39;49m\u001b[43m_input_request\u001b[49m\u001b[43m(\u001b[49m\n\u001b[1;32m   1176\u001b[0m \u001b[43m    \u001b[49m\u001b[38;5;28;43mstr\u001b[39;49m\u001b[43m(\u001b[49m\u001b[43mprompt\u001b[49m\u001b[43m)\u001b[49m\u001b[43m,\u001b[49m\n\u001b[1;32m   1177\u001b[0m \u001b[43m    \u001b[49m\u001b[38;5;28;43mself\u001b[39;49m\u001b[38;5;241;43m.\u001b[39;49m\u001b[43m_parent_ident\u001b[49m\u001b[43m[\u001b[49m\u001b[38;5;124;43m\"\u001b[39;49m\u001b[38;5;124;43mshell\u001b[39;49m\u001b[38;5;124;43m\"\u001b[39;49m\u001b[43m]\u001b[49m\u001b[43m,\u001b[49m\n\u001b[1;32m   1178\u001b[0m \u001b[43m    \u001b[49m\u001b[38;5;28;43mself\u001b[39;49m\u001b[38;5;241;43m.\u001b[39;49m\u001b[43mget_parent\u001b[49m\u001b[43m(\u001b[49m\u001b[38;5;124;43m\"\u001b[39;49m\u001b[38;5;124;43mshell\u001b[39;49m\u001b[38;5;124;43m\"\u001b[39;49m\u001b[43m)\u001b[49m\u001b[43m,\u001b[49m\n\u001b[1;32m   1179\u001b[0m \u001b[43m    \u001b[49m\u001b[43mpassword\u001b[49m\u001b[38;5;241;43m=\u001b[39;49m\u001b[38;5;28;43;01mFalse\u001b[39;49;00m\u001b[43m,\u001b[49m\n\u001b[1;32m   1180\u001b[0m \u001b[43m\u001b[49m\u001b[43m)\u001b[49m\n",
      "File \u001b[0;32m/opt/conda/lib/python3.10/site-packages/ipykernel/kernelbase.py:1217\u001b[0m, in \u001b[0;36mKernel._input_request\u001b[0;34m(self, prompt, ident, parent, password)\u001b[0m\n\u001b[1;32m   1214\u001b[0m             \u001b[38;5;28;01mbreak\u001b[39;00m\n\u001b[1;32m   1215\u001b[0m \u001b[38;5;28;01mexcept\u001b[39;00m \u001b[38;5;167;01mKeyboardInterrupt\u001b[39;00m:\n\u001b[1;32m   1216\u001b[0m     \u001b[38;5;66;03m# re-raise KeyboardInterrupt, to truncate traceback\u001b[39;00m\n\u001b[0;32m-> 1217\u001b[0m     \u001b[38;5;28;01mraise\u001b[39;00m \u001b[38;5;167;01mKeyboardInterrupt\u001b[39;00m(\u001b[38;5;124m\"\u001b[39m\u001b[38;5;124mInterrupted by user\u001b[39m\u001b[38;5;124m\"\u001b[39m) \u001b[38;5;28;01mfrom\u001b[39;00m \u001b[38;5;28mNone\u001b[39m\n\u001b[1;32m   1218\u001b[0m \u001b[38;5;28;01mexcept\u001b[39;00m \u001b[38;5;167;01mException\u001b[39;00m:\n\u001b[1;32m   1219\u001b[0m     \u001b[38;5;28mself\u001b[39m\u001b[38;5;241m.\u001b[39mlog\u001b[38;5;241m.\u001b[39mwarning(\u001b[38;5;124m\"\u001b[39m\u001b[38;5;124mInvalid Message:\u001b[39m\u001b[38;5;124m\"\u001b[39m, exc_info\u001b[38;5;241m=\u001b[39m\u001b[38;5;28;01mTrue\u001b[39;00m)\n",
      "\u001b[0;31mKeyboardInterrupt\u001b[0m: Interrupted by user"
     ]
    }
   ],
   "source": [
    "\n",
    "# Key Error: -\n",
    "student_details = {'name': 'Sudip Basu', 'age': 36, 'institute' : 'PWSKILLS', 'language': 'Python'}\n",
    "user_input = input('What do you want to learn about Student==> ')\n",
    "\n",
    "try:\n",
    "    print(f'{user_input} is {student_details[user_input]}')\n",
    "except LookupError as e:\n",
    "    print('error is', e)"
   ]
  },
  {
   "cell_type": "markdown",
   "id": "5513e7aa-dc42-41b9-b042-e6459bfe61c8",
   "metadata": {},
   "source": [
    "___________"
   ]
  },
  {
   "cell_type": "markdown",
   "id": "ef229199-5d8b-4c58-be61-f877c8632924",
   "metadata": {},
   "source": [
    "Q5. Explain ImportError. What is ModuleNotFoundError?"
   ]
  },
  {
   "cell_type": "code",
   "execution_count": 18,
   "id": "9514dac2-2d94-4c26-85ff-835e936f6962",
   "metadata": {},
   "outputs": [
    {
     "name": "stdout",
     "output_type": "stream",
     "text": [
      "error is No module named 'xyz'\n"
     ]
    }
   ],
   "source": [
    "#  Import Error is raise whem import module not found\n",
    "\n",
    "try:\n",
    "    import xyz\n",
    "    print('Import is correct')\n",
    "except ImportError as e:\n",
    "    print('error is', e)"
   ]
  },
  {
   "cell_type": "markdown",
   "id": "955c41de-3c78-44bc-b1f4-6b17605a2744",
   "metadata": {},
   "source": [
    "____________"
   ]
  },
  {
   "cell_type": "markdown",
   "id": "c393ac3e-890f-48d2-a661-1ea498d1e923",
   "metadata": {},
   "source": [
    "Q6. List down some best practices for exception handling in python."
   ]
  },
  {
   "cell_type": "code",
   "execution_count": null,
   "id": "aaede598-11d7-4d4e-a861-8046fa261703",
   "metadata": {},
   "outputs": [
    {
     "name": "stdout",
     "output_type": "stream",
     "text": [
      "Welcome to Calculator\n",
      "\n",
      "    \n",
      " _____         _               _         _               \n",
      "/  __ \\       | |             | |       | |              \n",
      "| /  \\/  __ _ | |  ___  _   _ | |  __ _ | |_  ___   _ __ \n",
      "| |     / _` || | / __|| | | || | / _` || __|/ _ \\ | '__|\n",
      "| \\__/\\| (_| || || (__ | |_| || || (_| || |_| (_) || |   \n",
      " \\____/ \\__,_||_| \\___| \\__,_||_| \\__,_| \\__|\\___/ |_|   \n",
      "                                                         \n",
      "   \n"
     ]
    }
   ],
   "source": [
    "# Calculator Function\n",
    "try:\n",
    "    import logging\n",
    "    # set basic configuration\n",
    "    logging.basicConfig(filename='test_log3.log', level= logging.DEBUG, format='%(asctime)s %(name)s %(levelname)s %(message)s')\n",
    "except Exception as e :\n",
    "    print('Your Error :', e )\n",
    "\n",
    "final_result = 0\n",
    "first_input = ''\n",
    "symbol_input = ''\n",
    "second_input = 0\n",
    "sub_total = 0\n",
    "\n",
    "def sumation(num1, num2):\n",
    "    logging.debug('sumation {0}+{1}'.format(num1, num2))    \n",
    "    return num1 + num2\n",
    "# sumation(s)\n",
    "def substraction(num1, num2): \n",
    "    logging.debug('substraction {0}-{1}'.format(num1, num2))    \n",
    "    return num1 - num2\n",
    "# substraction(s)\n",
    "def multiplication(num1, num2): \n",
    "    logging.debug('multiplication {0}*{1}'.format(num1, num2))    \n",
    "    return num1 * num2\n",
    "# multiplication(s)\n",
    "\n",
    "def division(num1, num2):  \n",
    "    logging.debug('division {0}/{1}'.format(num1, num2))   \n",
    "    return num1 / num2\n",
    "# division(s)\n",
    "\n",
    "def percentage(num1, num2):\n",
    "    final = ((num1-num2)/num1)*100\n",
    "    return final\n",
    "# Percentage\n",
    "\n",
    "def input_symbol(client_input):\n",
    "    global sub_total, calculation\n",
    "    if client_input == '+' :\n",
    "        second_input = float(input( ' enter your next number :'))\n",
    "        sub_total = sumation(first_input, second_input)\n",
    "        logging.info('in input_global: sum')\n",
    "    elif client_input == '-' :\n",
    "        second_input = float(input( ' enter your next number :'))\n",
    "        sub_total = substraction(first_input, second_input)\n",
    "        logging.info('in input_global: substraction')\n",
    "    elif client_input == '*' :\n",
    "        second_input = float(input( ' enter your next number : '))\n",
    "        sub_total = multiplication(first_input, second_input)\n",
    "        logging.info('in input_global: multi')\n",
    "    elif client_input == '/' :\n",
    "        second_input = float(input( ' enter your next number : '))\n",
    "        try:\n",
    "            sub_total = division(first_input, second_input)\n",
    "        except ZeroDivisionError as e:\n",
    "            logging.warning('in input_global: zero error {0}'.format(e))\n",
    "        except FloatingPointError as e:\n",
    "            logging.warning('in input_global: floating error {0}'.format(e))\n",
    "        logging.info('in input_global: division')\n",
    "    elif client_input == '%' :\n",
    "        second_input = float(input( ' enter your next number : '))\n",
    "        sub_total = percentage(first_input, second_input)\n",
    "        logging.info('in input_global: percentage')\n",
    "        \n",
    "    elif client_input == '=':\n",
    "        print('subtotal')\n",
    "    \n",
    "    elif client_input == ' ':\n",
    "        final_result = sub_total\n",
    "        print(final_result)\n",
    "        calculation = False\n",
    "        # To Stop log file\n",
    "        logging.shutdown()\n",
    "    else :\n",
    "        pass\n",
    "        \n",
    "\n",
    "\n",
    "\n",
    "try :\n",
    "    print('''Welcome to Calculator''')\n",
    "    calculation = True\n",
    "    while calculation:\n",
    "        if first_input == '':\n",
    "            # First Time Value Handle\n",
    "            first_input = float(input(\"Enter Your First Digit : \"))\n",
    "        else:\n",
    "            client_input = input(\"Your Formula : \")\n",
    "            \n",
    "            input_symbol(client_input)\n",
    "            print(sub_total)\n",
    "except Exception as e:\n",
    "    logging.error('Error in calculation')\n",
    "else:\n",
    "    print('Have a great day')\n",
    "finally:\n",
    "    logging.shutdown()"
   ]
  },
  {
   "cell_type": "code",
   "execution_count": null,
   "id": "5c0c4e79-dcc0-440a-ba3b-cd5867a7ce0b",
   "metadata": {},
   "outputs": [],
   "source": []
  },
  {
   "cell_type": "code",
   "execution_count": null,
   "id": "d722e455-eeca-41be-a5f1-c67d752d8ffa",
   "metadata": {},
   "outputs": [],
   "source": []
  }
 ],
 "metadata": {
  "kernelspec": {
   "display_name": "Python 3 (ipykernel)",
   "language": "python",
   "name": "python3"
  },
  "language_info": {
   "codemirror_mode": {
    "name": "ipython",
    "version": 3
   },
   "file_extension": ".py",
   "mimetype": "text/x-python",
   "name": "python",
   "nbconvert_exporter": "python",
   "pygments_lexer": "ipython3",
   "version": "3.10.8"
  }
 },
 "nbformat": 4,
 "nbformat_minor": 5
}
