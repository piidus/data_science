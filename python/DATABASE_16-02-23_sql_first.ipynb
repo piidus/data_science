{
 "cells": [
  {
   "cell_type": "markdown",
   "id": "e9021250-d5f0-4468-a1e2-b5b3c3654d61",
   "metadata": {},
   "source": [
    "### Q1. What is a database? Differentiate between SQL and NoSQL databases."
   ]
  },
  {
   "cell_type": "markdown",
   "id": "aa8b3eca-2151-49d7-a690-a09f2991dc60",
   "metadata": {},
   "source": [
    "Ans : In computing, a database is an organized collection of data stored and accessed electronically. Small databases can be stored on a file system, while large databases are hosted on computer clusters or cloud storage. \n",
    "\n",
    "> Type – \n",
    ">>SQL databases are primarily called as Relational Databases (RDBMS); whereas NoSQL database are primarily called as non-relational or distributed database. \n",
    "\n",
    ">Structure – \n",
    ">>SQL databases are table-based on the other hand NoSQL databases are either key-value pairs, document-based, graph databases or wide-column stores. This makes relational SQL databases a better option for applications that require multi-row transactions such as an accounting system or for legacy systems that were built for a relational structure. \n",
    "\n",
    ">Language – \n",
    ">>SQL databases defines and manipulates data based structured query language (SQL). \n",
    "A NoSQL database has dynamic schema for unstructured data. Data is stored in many ways which means it can be document-oriented, column-oriented, graph-based or organized as a KeyValue store. \n",
    "\n",
    ">Scalability – \n",
    ">>In almost all situations SQL databases are vertically scalable. This means that you can increase the load on a single server by increasing things like RAM, CPU or SSD. But on the other hand NoSQL databases are horizontally scalable. This means that you handle more traffic by sharding, or adding more servers in your NoSQL database. \n"
   ]
  },
  {
   "cell_type": "markdown",
   "id": "1b909524-6ef6-4087-b3fc-526561ff1c98",
   "metadata": {},
   "source": [
    "_____________"
   ]
  },
  {
   "cell_type": "markdown",
   "id": "2a6772eb-9da2-4185-8916-e4286051f605",
   "metadata": {},
   "source": [
    "### Q2. What is DDL? Explain why CREATE, DROP, ALTER, and TRUNCATE are used with an example."
   ]
  },
  {
   "cell_type": "markdown",
   "id": "ba985b82-ddff-4061-9c49-ab4e38d4470e",
   "metadata": {},
   "source": [
    ">Data definition language (DDL) describes the portion of SQL that creates, alters, and deletes database objects. These database objects include schemas, tables, views, sequences, catalogs, indexes, variables, masks, permissions, and aliases.\n",
    "\n",
    ">CREATE\n",
    ">>The CREATE TABLE command creates a new table in the database.\n",
    "\n",
    ">>>CREATE TABLE 'DBNAME'.TableName ( PersonID int, LastName varchar(255), Pin int())\n",
    "\n",
    ">DROP\n",
    ">> Delete a table\n",
    ">>>DROP TABLE 'DBNAME'.TableName\n",
    "\n",
    ">ALTER\n",
    ">>To add or Remove specific Column in Table\n",
    ">>>alter Table DBNAME.TABLENAME add COLUM_NAME TYPE\n",
    "\n",
    ">TRUNCATE\n",
    ">> To Remove all data from a Table\n",
    ">>>Truncate Table DBNAME.TABLENAME"
   ]
  },
  {
   "cell_type": "markdown",
   "id": "a6280152-9cc4-40fb-a80a-2fa7f14bd871",
   "metadata": {},
   "source": [
    "_________"
   ]
  },
  {
   "cell_type": "markdown",
   "id": "1d3ab076-8db3-4a2c-b695-97a2eef2eea8",
   "metadata": {},
   "source": [
    "### Q3. What is DML? Explain INSERT, UPDATE, and DELETE with an example."
   ]
  },
  {
   "cell_type": "markdown",
   "id": "ca02bf5e-5f63-4636-ac34-64241ea7d444",
   "metadata": {},
   "source": [
    ">DML(Data Manipulation Language): \n",
    ">>The SQL commands that deals with the manipulation of data present in the database belong to DML or Data Manipulation Language.\n",
    "\n",
    ">INSERT\n",
    ">>Insert Data to a Table\n",
    ">>>Insert into DBNAME.TableName values('5','Sudiip Basu','55.15','student')\n",
    ">>>>VALUES MUST BE IN SINGLE INVERTED COMMA\n",
    "\n",
    ">UPDATE\n",
    ">>UPDATE VALUES UPON SOME CONDITION\n",
    ">>>\"UPDATE  DBNAME.TableName SET column = '9' WHERE COLUMN_NAME = VALUE_IN_DB\"\n",
    "\n",
    ">DELETE\n",
    ">>Delete row\n",
    ">>>DELETE FROM DBNAME.TableName WHERE column_name = value"
   ]
  },
  {
   "cell_type": "markdown",
   "id": "e3c1b999-8284-4206-924c-3dd963fc53a0",
   "metadata": {},
   "source": [
    "_________"
   ]
  },
  {
   "cell_type": "markdown",
   "id": "c021dd7c-8152-4a95-a598-2e9585279c39",
   "metadata": {},
   "source": [
    "### Q4. What is DQL? Explain SELECT with an example."
   ]
  },
  {
   "cell_type": "markdown",
   "id": "5805fcf5-6a94-489a-a81b-7d155e26bbf2",
   "metadata": {},
   "source": [
    ">DQL stands for Data Query Language\n",
    ">>SELECT > is a keyword to perform a query .\n",
    ">>>select column_name from DBNAME.TableName"
   ]
  },
  {
   "cell_type": "markdown",
   "id": "283373ca-a530-4779-8446-bbe756f4333d",
   "metadata": {},
   "source": [
    "_______________"
   ]
  },
  {
   "cell_type": "markdown",
   "id": "763ff7f9-3904-4f66-9f68-c87d9c359d04",
   "metadata": {},
   "source": [
    "### Q5. Explain Primary Key and Foreign Key."
   ]
  },
  {
   "cell_type": "markdown",
   "id": "17c73c26-e29b-4c74-aeab-3d5a6ad86e74",
   "metadata": {},
   "source": [
    ">Primary key ::  A primary key is used to ensure that data in the specific column is unique. A column cannot have NULL values. It is either an existing table column or a column that is specifically generated by the database according to a defined sequence. \n",
    ">Foreign Key :: A foreign key is a column or group of columns in a relational database table that provides a link between data in two tables. It is a column (or columns) that references a column (most often the primary key) of another table. "
   ]
  },
  {
   "cell_type": "markdown",
   "id": "321e06fa-3099-45e8-8bb2-ed70607acd3f",
   "metadata": {},
   "source": [
    "__________"
   ]
  },
  {
   "cell_type": "markdown",
   "id": "6b38cc4c-6b95-4583-b014-51a863a6a797",
   "metadata": {},
   "source": [
    "### Q6. Write a python code to connect MySQL to python. Explain the cursor() and execute() method."
   ]
  },
  {
   "cell_type": "raw",
   "id": "0da0cd93-b573-481e-a824-aee5808799f5",
   "metadata": {},
   "source": [
    "import mysql.connector\n",
    "# import mysql.connector\n",
    "#create user 'user'@'%' identified by 'password'\n",
    "mydb = mysql.connector.connect(\n",
    "  host=\"localhost\",\n",
    "  user=\"abc\",\n",
    "  password=\"password\"\n",
    ")\n",
    "print(mydb)\n",
    "mycursor = mydb.cursor()"
   ]
  },
  {
   "cell_type": "markdown",
   "id": "166136c6-d90e-42c7-9f28-80af57c4f390",
   "metadata": {},
   "source": [
    "________"
   ]
  },
  {
   "cell_type": "markdown",
   "id": "6d952c9e-211b-4cb5-a8dc-d4b40e19b672",
   "metadata": {},
   "source": [
    "### Q7. Give the order of execution of SQL clauses in an SQL query."
   ]
  },
  {
   "cell_type": "markdown",
   "id": "bfdbe451-167d-46f3-be71-3b47127851f3",
   "metadata": {},
   "source": [
    "Order of Execution\n",
    "SQL queries adhere to a specific order when evaluating clauses, similar to how mathematical operations adhere to PEMDAS or BIDMAS.\n",
    "\n",
    "From the eyes of the user, queries begin from the first clause and end at the last clause. However, queries aren’t actually read from top to bottom when carried out.\n",
    "\n",
    "The order in which the clauses in queries are executed is as follows:\n",
    "\n",
    "1. FROM/JOIN: The FROM and/or JOIN clauses are executed first to determine the data of interest.\n",
    "\n",
    "2. WHERE: The WHERE clause is executed to filter out records that do not meet the constraints.\n",
    "\n",
    "3. GROUP BY: The GROUP BY clause is executed to group the data based on the values in one or more columns.\n",
    "\n",
    "4. HAVING: The HAVING clause is executed to remove the created grouped records that don’t meet the constraints.\n",
    "\n",
    "5. SELECT: The SELECT clause is executed to derive all desired columns and expressions.\n",
    "\n",
    "6. ORDER BY: The ORDER BY clause is executed to sort the derived values in ascending or descending order.\n",
    "\n",
    "7. LIMIT/OFFSET: Finally, the LIMIT and/or OFFSET clauses are executed to keep or skip a specified number of rows.\n",
    "\n",
    "\n",
    "\n",
    "\n",
    "\n"
   ]
  },
  {
   "cell_type": "code",
   "execution_count": null,
   "id": "a49e5d7f-b2ad-4d82-9fbd-25a15e991ab3",
   "metadata": {},
   "outputs": [],
   "source": []
  }
 ],
 "metadata": {
  "kernelspec": {
   "display_name": "Python 3 (ipykernel)",
   "language": "python",
   "name": "python3"
  },
  "language_info": {
   "codemirror_mode": {
    "name": "ipython",
    "version": 3
   },
   "file_extension": ".py",
   "mimetype": "text/x-python",
   "name": "python",
   "nbconvert_exporter": "python",
   "pygments_lexer": "ipython3",
   "version": "3.10.8"
  }
 },
 "nbformat": 4,
 "nbformat_minor": 5
}
