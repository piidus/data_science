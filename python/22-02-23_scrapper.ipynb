{
 "cells": [
  {
   "cell_type": "markdown",
   "id": "16c81a96-3d3a-4faf-b2ac-fa5f46c6cba6",
   "metadata": {},
   "source": [
    "Go to this given URL and solve the following questions\n",
    "URL: https://www.youtube.com/@PW-Foundation/videos\n",
    "\n",
    "Q2. Write a python program to extract the URL of the video thumbnails of the first five videos.\n",
    "Q3. Write a python program to extract the title of the first five videos.\n",
    "Q4. Write a python program to extract the number of views of the first five videos.\n",
    "Q5. Write a python program to extract the time of posting of video for the first five videos.\n"
   ]
  },
  {
   "cell_type": "markdown",
   "id": "37810a71-f57e-4fb9-a5fc-68bb847319f2",
   "metadata": {},
   "source": [
    "### Q1. Write a python program to extract the video URL of the first five videos."
   ]
  },
  {
   "cell_type": "code",
   "execution_count": 16,
   "id": "f3a64748-1821-482a-a4e8-7999175f4afe",
   "metadata": {},
   "outputs": [],
   "source": [
    "import requests\n",
    "from bs4 import BeautifulSoup as bs\n",
    "from urllib.request import urlopen \n",
    "import pandas\n",
    "URL = \"https://www.youtube.com/@PW-Foundation/videos\"\n",
    "import json"
   ]
  },
  {
   "cell_type": "code",
   "execution_count": 17,
   "id": "34099b6e-2198-4459-8195-8fd5a27a1a40",
   "metadata": {},
   "outputs": [],
   "source": [
    "# pip install lxml\n",
    "# pip install html5lib"
   ]
  },
  {
   "cell_type": "code",
   "execution_count": 18,
   "id": "31c2f2d3-b345-4d24-a5da-0139653d1180",
   "metadata": {},
   "outputs": [],
   "source": [
    "main_url = urlopen(URL)"
   ]
  },
  {
   "cell_type": "code",
   "execution_count": 19,
   "id": "cbbec863-f6e2-4e80-b03b-bacc8c49c8ae",
   "metadata": {},
   "outputs": [],
   "source": [
    "# with open(main_url) as f:\n",
    "#     f.read()"
   ]
  },
  {
   "cell_type": "code",
   "execution_count": 20,
   "id": "57dfece5-f196-4780-b521-08492221bdee",
   "metadata": {},
   "outputs": [],
   "source": [
    "main_html = bs(main_url, \"html.parser\")\n",
    "# main_html = main_html.prettify()"
   ]
  },
  {
   "cell_type": "code",
   "execution_count": 21,
   "id": "0273c832-fe3a-4af7-bc3c-7e3d678d65d4",
   "metadata": {},
   "outputs": [],
   "source": [
    "res = requests.get(URL)\n",
    "# t = res.content\n",
    "# t1 = t.decode()\n",
    "# with open(t1, \"r\") as f:\n",
    "#     f.read()"
   ]
  },
  {
   "cell_type": "code",
   "execution_count": null,
   "id": "87f549d3-35f4-40fa-818e-6117e0bab98a",
   "metadata": {},
   "outputs": [],
   "source": []
  },
  {
   "cell_type": "code",
   "execution_count": 22,
   "id": "2e9eb329-fc27-44b1-9b0a-3f0c5d3b66f9",
   "metadata": {},
   "outputs": [
    {
     "name": "stdout",
     "output_type": "stream",
     "text": [
      "287\n"
     ]
    }
   ],
   "source": [
    "main = bs(res.text, 'html.parser')\n",
    "sub_man = main.find_all('content'=='richItemRenderer')\n",
    "print(len(sub_man))\n"
   ]
  },
  {
   "cell_type": "code",
   "execution_count": null,
   "id": "a1755fd6-ea08-4d60-825c-2b7acdaa9429",
   "metadata": {},
   "outputs": [],
   "source": [
    "books = main.find_all(\n",
    "        'li', attrs={'class':\n",
    "                'col-xs-6 col-sm-4 col-md-3 col-lg-3'})"
   ]
  },
  {
   "cell_type": "code",
   "execution_count": 23,
   "id": "37411822-4016-4068-8cd5-0f2759481923",
   "metadata": {},
   "outputs": [],
   "source": [
    "# Serializing json\n",
    "# json_object = json.dumps(sub_man.p, indent=4)\n",
    "\n",
    "# Writing to sample.json\n",
    "# with open(\"sample.json\", \"w\") as outfile:\n",
    "#     outfile.write(json_object)"
   ]
  },
  {
   "cell_type": "code",
   "execution_count": 41,
   "id": "feda7a1a-dbac-49c5-ad84-d9b2e13ba30c",
   "metadata": {},
   "outputs": [],
   "source": [
    "data = main.prettify()\n",
    "data_json = json.dumps(data, skipkeys=True)\n",
    "# data_json"
   ]
  },
  {
   "cell_type": "code",
   "execution_count": 35,
   "id": "c67be139-4206-49b7-b77c-87adb9620bbc",
   "metadata": {},
   "outputs": [],
   "source": [
    "with open('junk.json', 'w') as f:    \n",
    "    f.write(data_json)"
   ]
  },
  {
   "cell_type": "code",
   "execution_count": 45,
   "id": "1bb7ea83-95cd-4171-b7f8-9cb0415c4e89",
   "metadata": {},
   "outputs": [
    {
     "data": {
      "text/plain": [
       "'UCiGyWN6DEbnj2alu7iapuKQ'"
      ]
     },
     "execution_count": 45,
     "metadata": {},
     "output_type": "execute_result"
    }
   ],
   "source": [
    "st = 'https://www.youtube.com/channel/UCiGyWN6DEbnj2alu7iapuKQ'\n",
    "st.split('/')[-1]"
   ]
  },
  {
   "cell_type": "code",
   "execution_count": null,
   "id": "a62be3ff-7dfb-4894-a616-79eb0223530a",
   "metadata": {},
   "outputs": [],
   "source": []
  },
  {
   "cell_type": "code",
   "execution_count": 42,
   "id": "081f7b96-541d-495a-8b86-d42ee84017ba",
   "metadata": {},
   "outputs": [
    {
     "name": "stdout",
     "output_type": "stream",
     "text": [
      "<class '_io.TextIOWrapper'>\n"
     ]
    },
    {
     "ename": "UnsupportedOperation",
     "evalue": "not readable",
     "output_type": "error",
     "traceback": [
      "\u001b[0;31m---------------------------------------------------------------------------\u001b[0m",
      "\u001b[0;31mUnsupportedOperation\u001b[0m                      Traceback (most recent call last)",
      "Cell \u001b[0;32mIn[42], line 5\u001b[0m\n\u001b[1;32m      3\u001b[0m file1 \u001b[38;5;241m=\u001b[39m \u001b[38;5;28mopen\u001b[39m(\u001b[38;5;124m'\u001b[39m\u001b[38;5;124mjunk1.txt\u001b[39m\u001b[38;5;124m'\u001b[39m, \u001b[38;5;124m'\u001b[39m\u001b[38;5;124mw\u001b[39m\u001b[38;5;124m'\u001b[39m)\n\u001b[1;32m      4\u001b[0m \u001b[38;5;28mprint\u001b[39m(\u001b[38;5;28mtype\u001b[39m(file1))\n\u001b[0;32m----> 5\u001b[0m inputFilelines \u001b[38;5;241m=\u001b[39m \u001b[43mfile\u001b[49m\u001b[38;5;241;43m.\u001b[39;49m\u001b[43mread\u001b[49m\u001b[43m(\u001b[49m\u001b[43m)\u001b[49m\n\u001b[1;32m      6\u001b[0m \u001b[38;5;28mprint\u001b[39m(\u001b[38;5;28mlen\u001b[39m(inputFilelines))\n\u001b[1;32m      7\u001b[0m file\u001b[38;5;241m.\u001b[39mclose()\n",
      "\u001b[0;31mUnsupportedOperation\u001b[0m: not readable"
     ]
    }
   ],
   "source": [
    "# with open(\"junk1.txt\", 'r') as f:\n",
    "#     print((f.read()))\n",
    "file1 = open('junk1.txt', 'w')\n",
    "print(type(file1))\n",
    "inputFilelines = file.read()\n",
    "print(len(inputFilelines))\n",
    "file.close()"
   ]
  },
  {
   "cell_type": "code",
   "execution_count": null,
   "id": "8edb900e-61c3-4e61-bd5e-ec61b8c3bee1",
   "metadata": {},
   "outputs": [],
   "source": []
  },
  {
   "cell_type": "code",
   "execution_count": null,
   "id": "474b2d33-30ab-44f8-85f1-26137c22646e",
   "metadata": {},
   "outputs": [],
   "source": []
  },
  {
   "cell_type": "code",
   "execution_count": null,
   "id": "4eef3dd6-41b8-471b-8b18-9dcddab218d6",
   "metadata": {},
   "outputs": [],
   "source": []
  },
  {
   "cell_type": "code",
   "execution_count": null,
   "id": "a91b1702-2c9c-4d2e-aabf-d7b278e85a9b",
   "metadata": {},
   "outputs": [],
   "source": []
  },
  {
   "cell_type": "code",
   "execution_count": null,
   "id": "2f391aa1-987b-4f3f-a3b0-3feeea753812",
   "metadata": {},
   "outputs": [],
   "source": [
    "bigbox = main.findAll(\"div\", \"id\"==\"contents\")\n",
    "json.dumps(main_url)"
   ]
  },
  {
   "cell_type": "code",
   "execution_count": null,
   "id": "c9a37e37-b885-4d64-a016-62cee4109bd8",
   "metadata": {},
   "outputs": [],
   "source": []
  },
  {
   "cell_type": "code",
   "execution_count": null,
   "id": "7a0f9e6b-bc24-4b60-b749-246c66b8f080",
   "metadata": {},
   "outputs": [],
   "source": [
    "print(bigbox['ytd-rich-grid-row')"
   ]
  },
  {
   "cell_type": "code",
   "execution_count": null,
   "id": "a6386377-735c-466c-88e5-0b034a6f1cb4",
   "metadata": {},
   "outputs": [],
   "source": [
    "sub"
   ]
  },
  {
   "cell_type": "code",
   "execution_count": null,
   "id": "84307ad3-b438-4706-a302-cf62311fc78c",
   "metadata": {},
   "outputs": [],
   "source": [
    "main.a"
   ]
  },
  {
   "cell_type": "code",
   "execution_count": null,
   "id": "6fae5de6-517a-4909-93ef-70405db729b4",
   "metadata": {},
   "outputs": [],
   "source": [
    "main_html.a['rel']"
   ]
  },
  {
   "cell_type": "code",
   "execution_count": null,
   "id": "c6aa1fda-6988-4ea7-bafe-71bdf6cae4b7",
   "metadata": {},
   "outputs": [],
   "source": [
    "# main_html.findAll('a')"
   ]
  },
  {
   "cell_type": "code",
   "execution_count": null,
   "id": "ff01242f-a671-4aaa-b4f2-b89702293888",
   "metadata": {},
   "outputs": [],
   "source": [
    "import requests\n",
    "from bs4 import BeautifulSoup\n",
    "\n",
    "url = 'https://www.youtube.com/@PW-Foundation/videos'\n",
    "\n",
    "response = requests.get(url)\n",
    "soup = BeautifulSoup(response.content, 'html.parser')\n",
    "with open(soup, 'r') as f:\n",
    "    f.read()"
   ]
  },
  {
   "cell_type": "code",
   "execution_count": null,
   "id": "ef845b4f-88b2-49d0-9510-80c828f53c4a",
   "metadata": {},
   "outputs": [],
   "source": []
  },
  {
   "cell_type": "code",
   "execution_count": null,
   "id": "ae40c280-d120-43db-9c98-626b2d582b67",
   "metadata": {},
   "outputs": [],
   "source": []
  },
  {
   "cell_type": "code",
   "execution_count": null,
   "id": "50c4c975-6eb4-4021-a220-92a787fae22f",
   "metadata": {},
   "outputs": [],
   "source": [
    "print(main_html)"
   ]
  },
  {
   "cell_type": "code",
   "execution_count": null,
   "id": "1a00260e-44ec-4249-ad23-450493aa87d5",
   "metadata": {},
   "outputs": [],
   "source": [
    "import requests\n",
    "from bs4 import BeautifulSoup\n",
    "\n",
    "url = 'https://www.youtube.com/@PW-Foundation/videos'\n",
    "\n",
    "response = requests.get(url)\n",
    "soup = BeautifulSoup(response.content, 'html.parser')\n",
    "\n",
    "thumbnails = soup.find_all('img', {'class': 'style-scope ytd-thumbnail'})\n",
    "\n",
    "for thumbnail in thumbnails:\n",
    "    thumbnail_url = thumbnail['src']\n",
    "    print(thumbnail_url)\n",
    "    # Download the thumbnail image using requests or urllib\n"
   ]
  },
  {
   "cell_type": "code",
   "execution_count": null,
   "id": "e28e4967-729c-4322-afb4-a7cbf815df49",
   "metadata": {},
   "outputs": [],
   "source": [
    "import requests\n",
    "from bs4 import BeautifulSoup\n",
    "\n",
    "url = 'https://www.youtube.com/@PW-Foundation/videos'"
   ]
  },
  {
   "cell_type": "code",
   "execution_count": null,
   "id": "2a9cd78b-cffc-48c8-98b4-d5157f4f095c",
   "metadata": {},
   "outputs": [],
   "source": [
    "response = requests.get(url)\n",
    "soup = BeautifulSoup(response.content, 'html.parser')"
   ]
  },
  {
   "cell_type": "code",
   "execution_count": null,
   "id": "d12d48b0-ebdd-4abf-86b1-99aa31ee5269",
   "metadata": {},
   "outputs": [],
   "source": [
    "soup.find_all('a', {'class': 'yt-simple-endpoint style-scope ytd-grid-video-renderer'})"
   ]
  },
  {
   "cell_type": "code",
   "execution_count": null,
   "id": "462d13a8-a63e-48c0-adb0-f0ec7cb59cae",
   "metadata": {},
   "outputs": [],
   "source": [
    "\n",
    "\n",
    "\n",
    "\n",
    "video_titles = []\n",
    "\n",
    "for i, video in enumerate(soup.find_all('a', {'class': 'yt-simple-endpoint style-scope ytd-grid-video-renderer'})):\n",
    "    if i >= 5:\n",
    "        break\n",
    "    video_title = video['title']\n",
    "    video_titles.append(video_title)\n",
    "\n",
    "print(video_titles)\n"
   ]
  },
  {
   "cell_type": "code",
   "execution_count": null,
   "id": "418e9306-1224-4e1e-9997-7f38312acb4b",
   "metadata": {},
   "outputs": [],
   "source": [
    "import requests\n",
    "from bs4 import BeautifulSoup\n",
    "\n",
    "url = 'https://www.youtube.com/c/PW-Foundation/videos'\n",
    "\n",
    "response = requests.get(url)\n",
    "soup = BeautifulSoup(response.content, 'html.parser')\n",
    "\n",
    "video_titles = []\n",
    "\n",
    "for i, video in enumerate(soup.find_all('a', {'class': 'yt-simple-endpoint style-scope ytd-grid-video-renderer'})):\n",
    "    if i >= 5:\n",
    "        break\n",
    "    video_title = video.find('span', {'class': 'style-scope ytd-grid-video-renderer'}).text.strip()\n",
    "    print(video_title)\n",
    "    video_titles.append(video_title)\n",
    "\n",
    "print(video_titles)\n"
   ]
  },
  {
   "cell_type": "code",
   "execution_count": null,
   "id": "1e5cfef4-c173-4420-88a2-3855876e65b4",
   "metadata": {},
   "outputs": [],
   "source": [
    "import requests\n",
    "from bs4 import BeautifulSoup\n",
    "\n",
    "url = 'https://www.youtube.com/c/PW-Foundation/videos'\n",
    "\n",
    "response = requests.get(url)\n",
    "soup = BeautifulSoup(response.content, 'html.parser')\n",
    "\n",
    "video_info = []\n",
    "\n",
    "# Find all <div> elements with the class \"ytd-rich-grid-media\"\n",
    "for thumbnail in soup.find_all('div', {'class': 'ytd-rich-grid-media'}):\n",
    "    # Within each thumbnail, find the <img> element representing the thumbnail image\n",
    "    thumbnail_img = thumbnail.find('img', {'class': 'style-scope yt-img-shadow'})['src']\n",
    "    # Within each thumbnail, find the <a> element representing the video link\n",
    "    video_link = thumbnail.find('a', {'class': 'yt-simple-endpoint style-scope ytd-grid-video-renderer'})['href']\n",
    "    # Within each thumbnail, find the <yt-formatted-string> element representing the video title\n",
    "    video_title = thumbnail.find('yt-formatted-string', {'class': 'style-scope ytd-grid-video-renderer'}).text\n",
    "    video_info.append({'thumbnail': thumbnail_img, 'link': video_link, 'title': video_title})\n",
    "\n",
    "print(video_info)\n"
   ]
  },
  {
   "cell_type": "code",
   "execution_count": null,
   "id": "30962467-8233-4fca-a8e4-b384c9c1e190",
   "metadata": {},
   "outputs": [],
   "source": []
  }
 ],
 "metadata": {
  "kernelspec": {
   "display_name": "Python 3 (ipykernel)",
   "language": "python",
   "name": "python3"
  },
  "language_info": {
   "codemirror_mode": {
    "name": "ipython",
    "version": 3
   },
   "file_extension": ".py",
   "mimetype": "text/x-python",
   "name": "python",
   "nbconvert_exporter": "python",
   "pygments_lexer": "ipython3",
   "version": "3.10.8"
  }
 },
 "nbformat": 4,
 "nbformat_minor": 5
}
