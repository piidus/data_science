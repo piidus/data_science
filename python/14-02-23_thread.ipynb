{
 "cells": [
  {
   "cell_type": "markdown",
   "id": "35dbc2a6-7911-4dc2-b2e2-3bc6b6cf72d6",
   "metadata": {},
   "source": [
    "q1. What is multithreading in python? why is it used? Name the module used to handle threads in python"
   ]
  },
  {
   "cell_type": "markdown",
   "id": "95a4c49c-8f4e-45a0-98a7-71eca3407503",
   "metadata": {},
   "source": [
    "'''\n",
    "Ans : A thread is an entity within a process that can be scheduled for execution. Multithreading is \n",
    "defined as the ability of a processor to execute multiple threads concurrently.\n",
    "\n",
    "    It used to run multiple program concerently which are may be share same variable value.\n",
    "    \n",
    "    \"threading\" module used to handle multithreading.\n",
    "'''"
   ]
  },
  {
   "cell_type": "markdown",
   "id": "6d696a27-daa5-4d29-a30b-445e822e55a9",
   "metadata": {},
   "source": [
    "________"
   ]
  },
  {
   "cell_type": "markdown",
   "id": "ecf17b9b-7dfd-4da6-b9a1-2fce52ca9bc3",
   "metadata": {},
   "source": [
    "q2. Why threading module used? write the use of the following functions\n",
    "\n",
    "     activeCount()\n",
    "     currentThread()\n",
    "     enumerate()"
   ]
  },
  {
   "cell_type": "markdown",
   "id": "14801e74-a714-4fad-a24d-187d198b084d",
   "metadata": {},
   "source": [
    "'''\n",
    "threading.activeCount() : used for Total Number of threads.\n",
    "\n",
    "threading.currentThread() : return for current thread name.\n",
    "\n",
    "threading.enumerate()  : return list of all active threads name\n",
    "'''"
   ]
  },
  {
   "cell_type": "markdown",
   "id": "891cd2f7-86d2-403f-9ab6-d6fa75fb8b14",
   "metadata": {},
   "source": [
    "___"
   ]
  },
  {
   "cell_type": "markdown",
   "id": "8ed0d948-309e-409e-b66b-e86022cf05dd",
   "metadata": {},
   "source": [
    "3. Explain the following functions\n",
    "\n",
    "     run(),     start(),    join(),      isAlive()"
   ]
  },
  {
   "cell_type": "markdown",
   "id": "3f29fe44-b8b1-477d-8885-9b77458ef1f7",
   "metadata": {},
   "source": [
    "run() is used for call a programme in a thread.\n",
    "\n",
    "start() is used for start a  programme, but it raise runtime error.\n",
    "\n",
    "isAlive() is used for checking the thread is alive or not.\n"
   ]
  },
  {
   "cell_type": "markdown",
   "id": "0387b630-f52b-43a3-b0fe-04345c4698fb",
   "metadata": {},
   "source": [
    "_____________"
   ]
  },
  {
   "cell_type": "markdown",
   "id": "ffe21bfb-7713-4a0b-9ec4-b5f273181bec",
   "metadata": {},
   "source": [
    "4. Write a python program to create two threads. Thread one must print the list of squares and thread\n",
    "two must print the list of cubes"
   ]
  },
  {
   "cell_type": "code",
   "execution_count": 2,
   "id": "dbcc7c93-0158-4ea6-a9db-b37242404b90",
   "metadata": {},
   "outputs": [
    {
     "name": "stdout",
     "output_type": "stream",
     "text": [
      "This is Square Result : 1\n",
      "This is Square Result : 4\n",
      "This is Square Result : 9\n",
      "This is Square Result : 16\n"
     ]
    },
    {
     "ename": "KeyboardInterrupt",
     "evalue": "",
     "output_type": "error",
     "traceback": [
      "\u001b[0;31m---------------------------------------------------------------------------\u001b[0m",
      "\u001b[0;31mKeyboardInterrupt\u001b[0m                         Traceback (most recent call last)",
      "Cell \u001b[0;32mIn[2], line 63\u001b[0m\n\u001b[1;32m     60\u001b[0m         \u001b[38;5;66;03m# time.sleep(3)\u001b[39;00m\n\u001b[1;32m     61\u001b[0m         task2\u001b[38;5;241m.\u001b[39mstart()\n\u001b[0;32m---> 63\u001b[0m         \u001b[43mtask1\u001b[49m\u001b[38;5;241;43m.\u001b[39;49m\u001b[43mjoin\u001b[49m\u001b[43m(\u001b[49m\u001b[43m)\u001b[49m\n\u001b[1;32m     64\u001b[0m         task1\u001b[38;5;241m.\u001b[39mjoin()\n\u001b[1;32m     65\u001b[0m \u001b[38;5;28;01mexcept\u001b[39;00m \u001b[38;5;167;01mException\u001b[39;00m \u001b[38;5;28;01mas\u001b[39;00m e:\n",
      "File \u001b[0;32m/opt/conda/lib/python3.10/threading.py:1096\u001b[0m, in \u001b[0;36mThread.join\u001b[0;34m(self, timeout)\u001b[0m\n\u001b[1;32m   1093\u001b[0m     \u001b[38;5;28;01mraise\u001b[39;00m \u001b[38;5;167;01mRuntimeError\u001b[39;00m(\u001b[38;5;124m\"\u001b[39m\u001b[38;5;124mcannot join current thread\u001b[39m\u001b[38;5;124m\"\u001b[39m)\n\u001b[1;32m   1095\u001b[0m \u001b[38;5;28;01mif\u001b[39;00m timeout \u001b[38;5;129;01mis\u001b[39;00m \u001b[38;5;28;01mNone\u001b[39;00m:\n\u001b[0;32m-> 1096\u001b[0m     \u001b[38;5;28;43mself\u001b[39;49m\u001b[38;5;241;43m.\u001b[39;49m\u001b[43m_wait_for_tstate_lock\u001b[49m\u001b[43m(\u001b[49m\u001b[43m)\u001b[49m\n\u001b[1;32m   1097\u001b[0m \u001b[38;5;28;01melse\u001b[39;00m:\n\u001b[1;32m   1098\u001b[0m     \u001b[38;5;66;03m# the behavior of a negative timeout isn't documented, but\u001b[39;00m\n\u001b[1;32m   1099\u001b[0m     \u001b[38;5;66;03m# historically .join(timeout=x) for x<0 has acted as if timeout=0\u001b[39;00m\n\u001b[1;32m   1100\u001b[0m     \u001b[38;5;28mself\u001b[39m\u001b[38;5;241m.\u001b[39m_wait_for_tstate_lock(timeout\u001b[38;5;241m=\u001b[39m\u001b[38;5;28mmax\u001b[39m(timeout, \u001b[38;5;241m0\u001b[39m))\n",
      "File \u001b[0;32m/opt/conda/lib/python3.10/threading.py:1116\u001b[0m, in \u001b[0;36mThread._wait_for_tstate_lock\u001b[0;34m(self, block, timeout)\u001b[0m\n\u001b[1;32m   1113\u001b[0m     \u001b[38;5;28;01mreturn\u001b[39;00m\n\u001b[1;32m   1115\u001b[0m \u001b[38;5;28;01mtry\u001b[39;00m:\n\u001b[0;32m-> 1116\u001b[0m     \u001b[38;5;28;01mif\u001b[39;00m \u001b[43mlock\u001b[49m\u001b[38;5;241;43m.\u001b[39;49m\u001b[43macquire\u001b[49m\u001b[43m(\u001b[49m\u001b[43mblock\u001b[49m\u001b[43m,\u001b[49m\u001b[43m \u001b[49m\u001b[43mtimeout\u001b[49m\u001b[43m)\u001b[49m:\n\u001b[1;32m   1117\u001b[0m         lock\u001b[38;5;241m.\u001b[39mrelease()\n\u001b[1;32m   1118\u001b[0m         \u001b[38;5;28mself\u001b[39m\u001b[38;5;241m.\u001b[39m_stop()\n",
      "\u001b[0;31mKeyboardInterrupt\u001b[0m: "
     ]
    },
    {
     "name": "stdout",
     "output_type": "stream",
     "text": [
      "This is Square Result : 25\n",
      "This is Square Result : 36\n",
      "This is Square Result : 49\n",
      "This is Square Result : 64\n",
      "This is Square Result : 81\n",
      "This is Square Result : 100\n",
      "List of square no of 11 : [1, 4, 9, 16, 25, 36, 49, 64, 81, 100]\n",
      "This is Cube Result :  1\n",
      "This is Cube Result :  4\n",
      "This is Cube Result :  9\n",
      "This is Cube Result :  16\n",
      "This is Cube Result :  25\n",
      "This is Cube Result :  36\n",
      "This is Cube Result :  49\n",
      "This is Cube Result :  64\n",
      "This is Cube Result :  81\n",
      "This is Cube Result :  100\n",
      "List of cube no of 11 : [1, 4, 9, 16, 25, 36, 49, 64, 81, 100]\n"
     ]
    }
   ],
   "source": [
    "# Write a python program to create two threads. Thread one must print the list of squares and thread\n",
    "# two must print the list of cubes\n",
    "\n",
    "# Importing multithreading and time module.\n",
    "import threading, time\n",
    "\n",
    "# start point section\n",
    "sub_square = 1\n",
    "sub_cube = 1 \n",
    "# set time for running\n",
    "running_time = 1\n",
    "current_minute = 0\n",
    "# calculate running upto\n",
    "next_min = int(time.asctime().split(':')[-2]) + running_time\n",
    "\n",
    "lock = threading.Lock()\n",
    "\n",
    "# squares()\n",
    "# cubes()\n",
    "try:\n",
    "    while current_minute < next_min and  next_min != 0 :\n",
    "        '''meet run time and check it is hour change time'''\n",
    "        current_minute = int(time.asctime().split(':')[-2])\n",
    "\n",
    "        # print('\\n', current_minute, next_min)\n",
    "\n",
    "        def squares():\n",
    "            global sub_square \n",
    "            # for complete then go to next programme\n",
    "            lock.acquire()\n",
    "            list1= []\n",
    "            for i in range(10):               \n",
    "                sub1 = pow(sub_square, 2)\n",
    "                sub_square += 1\n",
    "                list1.append(sub1)\n",
    "                print('This is Square Result :',sub1)\n",
    "                time.sleep(1)\n",
    "            print(f\"List of square no of {sub_square} : {list1}\")\n",
    "            lock.release()\n",
    "\n",
    "\n",
    "        def cubes():\n",
    "            global sub_cube \n",
    "            list2 = []\n",
    "            # for complete then go to next programme\n",
    "            lock.acquire()\n",
    "            for i in range(10):   \n",
    "                sub2 = pow(sub_cube, 2)\n",
    "                sub_cube += 1\n",
    "                list2.append(sub2)\n",
    "                print('This is Cube Result : ',sub2)\n",
    "                time.sleep(1)\n",
    "            print(f\"List of cube no of {sub_cube} : {list2}\")\n",
    "            lock.release()\n",
    "\n",
    "        task1 = threading.Thread(target=squares)\n",
    "        task2 = threading.Thread(target=cubes)\n",
    "\n",
    "        task1.start()\n",
    "        # time.sleep(3)\n",
    "        task2.start()\n",
    "\n",
    "        task1.join()\n",
    "        task1.join()\n",
    "except Exception as e:\n",
    "    print(e)"
   ]
  },
  {
   "cell_type": "markdown",
   "id": "7c404eed-79aa-492a-a0da-44a16fabe20e",
   "metadata": {},
   "source": [
    "# This is programme run only 1 minute"
   ]
  },
  {
   "cell_type": "markdown",
   "id": "46e586e5-641a-4bd4-a962-6f91ef5ae3b9",
   "metadata": {},
   "source": [
    "__________________________"
   ]
  },
  {
   "cell_type": "markdown",
   "id": "35822ae0-3929-4122-8b72-f177ef98a7dc",
   "metadata": {},
   "source": [
    "5. State advantages and disadvantages of multithreading"
   ]
  },
  {
   "cell_type": "markdown",
   "id": "6109e19b-b8d7-4d2e-b62d-5d0eac5fba11",
   "metadata": {},
   "source": [
    "ans : advantage : it help run multiple programme concurrently,\n",
    "\n",
    "    disadvantage : but it quite complex, it raise runtime error, overflow error"
   ]
  },
  {
   "cell_type": "markdown",
   "id": "dab055d5-0114-4aa4-b03d-abad3b44e192",
   "metadata": {},
   "source": [
    "6. Explain deadlocks and race conditions."
   ]
  },
  {
   "cell_type": "code",
   "execution_count": null,
   "id": "7d65c2f7-aad6-48e1-b258-d46133f8aeb7",
   "metadata": {},
   "outputs": [],
   "source": []
  }
 ],
 "metadata": {
  "kernelspec": {
   "display_name": "Python 3 (ipykernel)",
   "language": "python",
   "name": "python3"
  },
  "language_info": {
   "codemirror_mode": {
    "name": "ipython",
    "version": 3
   },
   "file_extension": ".py",
   "mimetype": "text/x-python",
   "name": "python",
   "nbconvert_exporter": "python",
   "pygments_lexer": "ipython3",
   "version": "3.10.8"
  }
 },
 "nbformat": 4,
 "nbformat_minor": 5
}
