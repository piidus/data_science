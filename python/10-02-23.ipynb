{
 "cells": [
  {
   "cell_type": "markdown",
   "id": "43fcdcab-61e7-4f9e-b5d9-20e2066e4788",
   "metadata": {},
   "source": [
    "DATE 10-FEB 2023: "
   ]
  },
  {
   "cell_type": "code",
   "execution_count": 1,
   "id": "25732a27-5355-4d79-94d5-736244bf325d",
   "metadata": {},
   "outputs": [
    {
     "data": {
      "text/plain": [
       "'Q1. Which function is used to open a file? What are the different modes of opening a file? \\nExplain each mode of file opening.\\nANS : open, with open\\n'"
      ]
     },
     "execution_count": 1,
     "metadata": {},
     "output_type": "execute_result"
    }
   ],
   "source": [
    "'''Q1. Which function is used to open a file? What are the different modes of opening a file? \n",
    "Explain each mode of file opening.\n",
    "ANS : open, with open\n",
    "'''"
   ]
  },
  {
   "cell_type": "code",
   "execution_count": 2,
   "id": "58150ba3-fe3a-4d98-abf1-0fea00855e60",
   "metadata": {},
   "outputs": [],
   "source": [
    "# write mode\n",
    "file_name = 'test.txt'\n",
    "w = open(file_name, 'w')\n",
    "w.write('This is my first file')\n",
    "w.close()"
   ]
  },
  {
   "cell_type": "code",
   "execution_count": 3,
   "id": "a9098557-b25e-4ad9-9f4b-2d6a8a6695e9",
   "metadata": {},
   "outputs": [
    {
     "name": "stdout",
     "output_type": "stream",
     "text": [
      "This is my first file\n"
     ]
    }
   ],
   "source": [
    "# read mode\n",
    "with open(file_name, 'r') as r:\n",
    "    t = r.readline()\n",
    "    print(t)"
   ]
  },
  {
   "cell_type": "code",
   "execution_count": 4,
   "id": "980826eb-2899-42aa-a1fd-5ed904a5e8a8",
   "metadata": {},
   "outputs": [],
   "source": [
    "# file open and write\n",
    "with open(file_name, 'a') as r:\n",
    "    r.write('This is appending mode')"
   ]
  },
  {
   "cell_type": "code",
   "execution_count": 5,
   "id": "9f4f55a2-eddb-4cd6-98a3-47c2a2708040",
   "metadata": {},
   "outputs": [],
   "source": [
    "# binary read mode\n",
    "with open(\"test_binary.bin\" , \"wb\" ) as f :\n",
    "    f.write(b\"\\x01\\1111\")"
   ]
  },
  {
   "cell_type": "code",
   "execution_count": 6,
   "id": "94b502bd-1f27-434c-abad-9c288e8418b8",
   "metadata": {},
   "outputs": [
    {
     "name": "stdout",
     "output_type": "stream",
     "text": [
      "b'\\x01I1'\n"
     ]
    }
   ],
   "source": [
    "with open(\"test_binary.bin\",\"rb\")as f :\n",
    "    print(f.read())"
   ]
  },
  {
   "cell_type": "markdown",
   "id": "c43a05f3-f418-433d-96f1-c28d58901e67",
   "metadata": {},
   "source": [
    "__________________"
   ]
  },
  {
   "cell_type": "code",
   "execution_count": 7,
   "id": "dbc2d708-1ad5-4045-8d0d-5a4036f31fcc",
   "metadata": {},
   "outputs": [
    {
     "data": {
      "text/plain": [
       "'\\nQ2. Why close() function is used? Why is it important to close a file?\\nans : to save the writing in the file\\n'"
      ]
     },
     "execution_count": 7,
     "metadata": {},
     "output_type": "execute_result"
    }
   ],
   "source": [
    "'''\n",
    "Q2. Why close() function is used? Why is it important to close a file?\n",
    "ans : to save the writing in the file\n",
    "'''"
   ]
  },
  {
   "cell_type": "markdown",
   "id": "adb91e73-b312-45d6-a37a-1ca5c4407d42",
   "metadata": {},
   "source": [
    "__________________________"
   ]
  },
  {
   "cell_type": "code",
   "execution_count": 8,
   "id": "fdc089d3-0654-4ef0-b837-2d094139c895",
   "metadata": {},
   "outputs": [],
   "source": [
    "'''Q3. Write a python program to create a text file. Write ‘I want to become a Data Scientist’\n",
    "in that file. Then close the file. Open this file and read the content of the file.'''\n",
    "t = open('test.txt', 'w')\n",
    "t.write('I want to become a Data Scientist')\n",
    "t.close()"
   ]
  },
  {
   "cell_type": "code",
   "execution_count": 9,
   "id": "09ac21e2-81c4-4464-b891-bfd5ae1e0ad9",
   "metadata": {},
   "outputs": [],
   "source": [
    "t = open('test.txt', 'r')\n",
    "t.readline()\n",
    "t.close()"
   ]
  },
  {
   "cell_type": "markdown",
   "id": "53fa725b-113b-43c3-b1a5-30a44a0cf405",
   "metadata": {},
   "source": [
    "________________"
   ]
  },
  {
   "cell_type": "markdown",
   "id": "9586f995-caf2-48bd-b798-a0639b9f6a99",
   "metadata": {},
   "source": [
    "Q4. Explain the following with python code: read(), readline() and readlines().\n"
   ]
  },
  {
   "cell_type": "code",
   "execution_count": 10,
   "id": "d2189500-b1b7-42b8-be73-78289a70f590",
   "metadata": {},
   "outputs": [
    {
     "data": {
      "text/plain": [
       "'It is a long established fact that a reader will be distracted by the readable\\ncontent of a page when looking at its layout. The point of using Lorem Ipsum is\\nthat it has a more-or-less normal distribution of letters, as opposed to using \\nContent here, content here\\n'"
      ]
     },
     "execution_count": 10,
     "metadata": {},
     "output_type": "execute_result"
    }
   ],
   "source": [
    "# read() in read mode it return all file at once\n",
    "t = open('test5.txt', 'w')\n",
    "t.write('It is a long established fact that a reader will be distracted by the readable\\n'\n",
    "        'content of a page when looking at its layout. The point of using Lorem Ipsum is\\n'\n",
    "        'that it has a more-or-less normal distribution of letters, as opposed to using \\n'\n",
    "        'Content here, content here\\n')\n",
    "t.close()\n",
    "t = open('test5.txt', 'r')\n",
    "t.read()"
   ]
  },
  {
   "cell_type": "code",
   "execution_count": 11,
   "id": "f92459ca-ce37-4e4d-ba1c-64e5b86348ee",
   "metadata": {},
   "outputs": [
    {
     "data": {
      "text/plain": [
       "'It is a lo'"
      ]
     },
     "execution_count": 11,
     "metadata": {},
     "output_type": "execute_result"
    }
   ],
   "source": [
    "#  in readline we can indexing line by line\n",
    "t = open('test5.txt', 'r')\n",
    "t.readline(10)"
   ]
  },
  {
   "cell_type": "code",
   "execution_count": 12,
   "id": "14f649ad-9f64-47b6-9f14-7abce18b98e0",
   "metadata": {},
   "outputs": [
    {
     "data": {
      "text/plain": [
       "['ng established fact that a reader will be distracted by the readable\\n']"
      ]
     },
     "execution_count": 12,
     "metadata": {},
     "output_type": "execute_result"
    }
   ],
   "source": [
    "# readlines used for total lines by default and numbering to select upto some line\n",
    "t.readlines(1)"
   ]
  },
  {
   "cell_type": "markdown",
   "id": "729bc0a9-7ab4-40a7-a96c-ea7e4907c480",
   "metadata": {},
   "source": [
    "_______________________________"
   ]
  },
  {
   "cell_type": "code",
   "execution_count": 13,
   "id": "06ccce71-dc92-4506-b0e5-b0ea4e847a3e",
   "metadata": {},
   "outputs": [
    {
     "data": {
      "text/plain": [
       "'Q5. Explain why with statement is used with open(). What is the advantage of using with statement and\\nopen() together?\\nans : with open is used for read/write but it save automatically, do not write close function again\\n'"
      ]
     },
     "execution_count": 13,
     "metadata": {},
     "output_type": "execute_result"
    }
   ],
   "source": [
    "'''Q5. Explain why with statement is used with open(). What is the advantage of using with statement and\n",
    "open() together?\n",
    "ans : with open is used for read/write but it save automatically, do not write close function again\n",
    "'''"
   ]
  },
  {
   "cell_type": "code",
   "execution_count": 14,
   "id": "84fc8d63-f654-4538-810e-48888649ccaf",
   "metadata": {},
   "outputs": [
    {
     "name": "stdout",
     "output_type": "stream",
     "text": [
      "It is a long established fact that a reader will be distracted by the readable\n",
      "\n",
      "content of a page when looking at its layout. The point of using Lorem Ipsum is\n",
      "\n",
      "that it has a more-or-less normal distribution of letters, as opposed to using \n",
      "\n",
      "Content here, content here\n",
      "\n"
     ]
    }
   ],
   "source": [
    "with open('test5.txt','r') as r:\n",
    "    t = r.readlines()\n",
    "    [print(i) for i in t]"
   ]
  },
  {
   "cell_type": "markdown",
   "id": "2d5b4e6e-c081-4e21-a81f-bf9aa560587c",
   "metadata": {},
   "source": [
    "___________________________________"
   ]
  },
  {
   "cell_type": "code",
   "execution_count": 15,
   "id": "f27608ab-792a-41e4-bb62-4dd9f0a5560e",
   "metadata": {},
   "outputs": [
    {
     "data": {
      "text/plain": [
       "'Q6. Explain the write() and writelines() functions. Give a suitable example.\\nans: in write function :- write once a line and\\n    writelines function :- write many lines with new line seperator\\n'"
      ]
     },
     "execution_count": 15,
     "metadata": {},
     "output_type": "execute_result"
    }
   ],
   "source": [
    "'''Q6. Explain the write() and writelines() functions. Give a suitable example.\n",
    "ans: in write function :- write once a line and\n",
    "    writelines function :- write many lines with new line seperator\n",
    "'''"
   ]
  },
  {
   "cell_type": "code",
   "execution_count": 16,
   "id": "02ef7de3-c3d3-4688-bfa8-19effc103ed5",
   "metadata": {},
   "outputs": [],
   "source": [
    "with open('test6.txt','a') as p:\n",
    "    p.write(\"This is my Line\")\n",
    "    "
   ]
  },
  {
   "cell_type": "code",
   "execution_count": 17,
   "id": "d74eade3-8949-4be2-b781-c127db020827",
   "metadata": {},
   "outputs": [
    {
     "name": "stdout",
     "output_type": "stream",
     "text": [
      "['This is my Linefirst\\n', 'second\\n', 'third\\n', 'This is my Line']\n"
     ]
    }
   ],
   "source": [
    "with open('test6.txt','r') as p:\n",
    "    # p.write(\"This is my Line\")\n",
    "    t = p.readlines()\n",
    "    print(t)"
   ]
  },
  {
   "cell_type": "code",
   "execution_count": 18,
   "id": "951a345c-5b1b-4d52-85b7-d45ccbec4be9",
   "metadata": {},
   "outputs": [],
   "source": [
    "with open('test6.txt','a') as p:\n",
    "    p.writelines(['first\\n', 'second\\n', 'third\\n'])"
   ]
  },
  {
   "cell_type": "code",
   "execution_count": 19,
   "id": "329c0dc0-659c-490f-b040-c7965a3dd828",
   "metadata": {},
   "outputs": [
    {
     "name": "stdout",
     "output_type": "stream",
     "text": [
      "['This is my Linefirst\\n', 'second\\n', 'third\\n', 'This is my Linefirst\\n', 'second\\n', 'third\\n']\n"
     ]
    }
   ],
   "source": [
    "with open('test6.txt','r') as p:\n",
    "    # p.write(\"This is my Line\")\n",
    "    t = p.readlines()\n",
    "    print(t)"
   ]
  },
  {
   "cell_type": "code",
   "execution_count": 20,
   "id": "30e80c49-b192-444c-94fe-ac8de12b1d55",
   "metadata": {},
   "outputs": [],
   "source": [
    "import os"
   ]
  },
  {
   "cell_type": "code",
   "execution_count": 21,
   "id": "de04670b-2539-45b0-8e40-f71270ba153c",
   "metadata": {},
   "outputs": [],
   "source": [
    "file_list = (['test_binary.bin', 'test.txt','test2.txt', 'test4.bin','test5.txt', 'test6.txt'])\n",
    "# for i in file_list:\n",
    "#     os.remove(i)"
   ]
  },
  {
   "cell_type": "code",
   "execution_count": null,
   "id": "88938bdb-5096-48ba-a581-7edd9a25279e",
   "metadata": {},
   "outputs": [],
   "source": []
  }
 ],
 "metadata": {
  "kernelspec": {
   "display_name": "Python 3 (ipykernel)",
   "language": "python",
   "name": "python3"
  },
  "language_info": {
   "codemirror_mode": {
    "name": "ipython",
    "version": 3
   },
   "file_extension": ".py",
   "mimetype": "text/x-python",
   "name": "python",
   "nbconvert_exporter": "python",
   "pygments_lexer": "ipython3",
   "version": "3.10.8"
  }
 },
 "nbformat": 4,
 "nbformat_minor": 5
}
