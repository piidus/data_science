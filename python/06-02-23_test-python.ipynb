{
 "cells": [
  {
   "cell_type": "markdown",
   "id": "ee4977ae-8868-42c4-9a88-a2ff76207ba8",
   "metadata": {},
   "source": [
    "Q1. Create a function which will take a list as an argument and return the product of all the numbers\n",
    "after creating a flat list.\n",
    "Use the below-given list as an argument for your function.\n",
    "list1 = [1,2,3,4, [44,55,66, True], False, (34,56,78,89,34), {1,2,3,3,2,1}, {1:34, \"key2\": [55, 67, 78, 89], 4: (45,\n",
    "22, 61, 34)}, [56, 'data science'], 'Machine Learning']\n",
    "Note: you must extract numeric keys and values of the dictionary also."
   ]
  },
  {
   "cell_type": "code",
   "execution_count": 1,
   "id": "6dd19498-ae23-4e96-8908-ebf672aa2650",
   "metadata": {},
   "outputs": [
    {
     "name": "stdout",
     "output_type": "stream",
     "text": [
      "[1, 2, 3, 4, 44, 55, 66, 34, 56, 78, 89, 34, 1, 2, 3, 100, 34, 55, 67, 78, 89, 4, 45, 22, 61, 34, 56]\n"
     ]
    }
   ],
   "source": [
    "list1 = [1,2,3,4, [44,55,66, True], False, (34,56,78,89,34), {1,2,3,3,2,1}, {100:34, \"key2\": [55, 67, 78, 89], 4: (45,22, 61, 34)}, [56, 'data science'], 'Machine Learning']\n",
    "final_list = []\n",
    "\n",
    "def add_list(ins):\n",
    "    '''add to list '''\n",
    "    for i in ins:\n",
    "            if type(i) == int:\n",
    "                final_list.append(i)\n",
    "    # list1.remove(ins)\n",
    "    \n",
    "while len(list1) > 0:\n",
    "    # print(len(list1))\n",
    "    ins = list1[0]\n",
    "    if type(ins)==list or type(ins)==tuple or type(ins)==set:\n",
    "        '''Check list, tuple, set'''\n",
    "        add_list(ins)\n",
    "        # print(ins)\n",
    "    elif type(ins) == int:\n",
    "        '''Check intiger'''\n",
    "        final_list.append(ins)\n",
    "    elif type(ins) == dict:\n",
    "        '''Check dict key and values'''\n",
    "        for key, value in ins.items():\n",
    "            '''seperate key and value'''\n",
    "            if type(key) in [int, float]:\n",
    "                final_list.append(key)\n",
    "            if type(value) in [int, float]:\n",
    "                final_list.append(value)\n",
    "            elif type(value) in [list, tuple]:\n",
    "                for i in value:\n",
    "                    if type(i) in [int, float]:\n",
    "                        final_list.append(i)\n",
    "        \n",
    "\n",
    "    \n",
    "        \n",
    "    list1.remove(ins)\n",
    "    # print(list1)\n",
    "       \n",
    "else:\n",
    "    print(final_list)"
   ]
  },
  {
   "cell_type": "markdown",
   "id": "0d47a469-7aae-4998-8530-579a34ee607e",
   "metadata": {},
   "source": [
    "."
   ]
  },
  {
   "cell_type": "markdown",
   "id": "25366949-d145-408c-8969-4ac4dec27437",
   "metadata": {},
   "source": [
    "____________________________________________"
   ]
  },
  {
   "cell_type": "markdown",
   "id": "00ad308f-a5a8-48e4-9cf3-66ec85c82777",
   "metadata": {},
   "source": [
    "Q2. Write a python program for encrypting a message sent to you by your friend. The logic of encryption\n",
    "should be such that, for a the output should be z. For b, the output should be y. For c, the output should\n",
    "be x respectively. Also, the whitespace should be replaced with a dollar sign. Keep the punctuation\n",
    "marks unchanged.\n",
    "\n",
    "Input Sentence: I want to become a Data Scientist.\n",
    "\n",
    "Encrypt the above input sentence using the program you just created.\n",
    "Note: Convert the given input sentence into lowercase before encrypting. The final output should be\n",
    "lowercase."
   ]
  },
  {
   "cell_type": "code",
   "execution_count": 43,
   "id": "debe6fb2-bec6-4670-b8dd-ace49c84d978",
   "metadata": {},
   "outputs": [
    {
     "name": "stdin",
     "output_type": "stream",
     "text": [
      "Please Enter Your Details  :  I want to become a Data Scientist.\n"
     ]
    },
    {
     "name": "stdout",
     "output_type": "stream",
     "text": [
      "r$dzmg$gl$yvxlnv$z$wzgz$hxrvmgrhg\n"
     ]
    }
   ],
   "source": [
    "import string\n",
    "li = [i for i in string.ascii_lowercase]\n",
    "# all small Case Letter\n",
    "li.insert(0,'$')\n",
    "#insert special character in first index for 0 - 0  = 0\n",
    "chek_data = (input('Please Enter Your Details  : ')).lower()\n",
    "# input value to string\n",
    "check_list = []\n",
    "for i in chek_data:\n",
    "    \n",
    "    if i == ' ':\n",
    "        '''the whitespace should be replaced with a dollar sign.'''\n",
    "        check_list.append(li[0])\n",
    "        \n",
    "    elif i not in li:\n",
    "        '''Checking the the charecter in list or not'''\n",
    "        continue\n",
    "    else:\n",
    "        index_number = li.index(i)\n",
    "        '''or a the output should be z. For b, the output should be y.\n",
    "        For c, the output should be x respectively'''\n",
    "        check_list.append(li[-index_number])\n",
    "    \n",
    "check_list = ''.join(check_list)\n",
    "print(check_list)\n",
    "# print((li))"
   ]
  },
  {
   "cell_type": "code",
   "execution_count": null,
   "id": "287b44ae-ab24-4ea9-b9e6-2b41a029b42a",
   "metadata": {},
   "outputs": [],
   "source": []
  }
 ],
 "metadata": {
  "kernelspec": {
   "display_name": "Python 3 (ipykernel)",
   "language": "python",
   "name": "python3"
  },
  "language_info": {
   "codemirror_mode": {
    "name": "ipython",
    "version": 3
   },
   "file_extension": ".py",
   "mimetype": "text/x-python",
   "name": "python",
   "nbconvert_exporter": "python",
   "pygments_lexer": "ipython3",
   "version": "3.10.8"
  },
  "widgets": {
   "application/vnd.jupyter.widget-state+json": {
    "state": {},
    "version_major": 2,
    "version_minor": 0
   }
  }
 },
 "nbformat": 4,
 "nbformat_minor": 5
}
