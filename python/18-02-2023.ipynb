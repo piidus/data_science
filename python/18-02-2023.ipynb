{
 "cells": [
  {
   "cell_type": "markdown",
   "id": "7c4c0db8-b3d7-4ec2-b29e-7e2f1c3dd07a",
   "metadata": {},
   "source": [
    "### Q1. What is an API? Give an example, where an API is used in real life."
   ]
  },
  {
   "cell_type": "markdown",
   "id": "a43e48cb-4f33-4997-86d8-f97261fce9cf",
   "metadata": {},
   "source": [
    ">An application programming interface (API) is a way for two or more computer programs to communicate with each other. It is a type of software interface, offering a service to other pieces of software. A document or standard that describes how to build or use such a connection or interface is called an API specification. A computer system that meets this standard is said to implement or expose an API. The term API may refer either to the specification or to the implementation.\n",
    ">>Example:\n",
    ">>> Google Log In, Paytm Money Transfer, Swiggy Online Order."
   ]
  },
  {
   "cell_type": "markdown",
   "id": "8ee4b254-9ee4-4e33-997d-01c0b30a138b",
   "metadata": {},
   "source": [
    "___________"
   ]
  },
  {
   "cell_type": "markdown",
   "id": "6bc3293d-004c-4ae4-a239-f0cd1fed0c13",
   "metadata": {},
   "source": [
    "### Q2. Give advantages and disadvantages of using API."
   ]
  },
  {
   "cell_type": "markdown",
   "id": "6033a169-b913-4ec8-8791-493a1ab0859d",
   "metadata": {},
   "source": [
    ">Advantage\n",
    ">>an integration:: An example of an integration is to push notifications from your product (such as CRM, Helpdesk) to a messaging tool such as Whatsapp. In this way, if your customer uses Whatsapp they can receive notifications without having to login directly to your system or check emails.\n",
    "\n",
    ">>new functionality ::  In the early days of Twitter, some of the most popular Twitter clients were produced by third parties using the Twitter API. Twitter and its users benefited from the new functionality that was undertaken by other companies.\n",
    "\n",
    ">Disadvantage\n",
    ">>Cost :: Providing an API is expensive in terms of development time, ongoing maintenance, providing API documentation on your website and providing support to users of your API.\n",
    "\n",
    ">>Security exposure :: Adding an API adds another attack surface to your website.\n",
    "\n",
    ">>Any One might not like the result or anyone may change business direction. It's not always easy to predict exactly how the API will be used. If your integration with a messaging system means that users login to that service less often, will there be an overall negative impact for you? Withdrawing an API can be painful for users if you decide that you need to do so. This is unusual but it can happen."
   ]
  },
  {
   "cell_type": "markdown",
   "id": "465b0be6-18b2-49d2-8180-e503c00b6ece",
   "metadata": {},
   "source": [
    "_____________"
   ]
  },
  {
   "cell_type": "markdown",
   "id": "50c13e6a-cf58-42ba-85fc-6d857117d412",
   "metadata": {},
   "source": [
    "### Q3. What is a Web API? Differentiate between API and Web API."
   ]
  },
  {
   "cell_type": "markdown",
   "id": "54c793a3-677d-4904-a70a-852980a335cd",
   "metadata": {},
   "source": [
    ">API Stands for An application programming interface. Their are many kind of API avialiable, but\n",
    ">Web API is one kind of api, Which Follow HTTP protocal."
   ]
  },
  {
   "cell_type": "markdown",
   "id": "6810f825-f274-48da-8d90-26aaafc44ca5",
   "metadata": {},
   "source": [
    "______________________"
   ]
  },
  {
   "cell_type": "markdown",
   "id": "2d57e5a6-1f97-4699-ba20-3ce383524cc7",
   "metadata": {},
   "source": [
    "### Q4. Explain REST and SOAP Architecture. Mention shortcomings of SOAP."
   ]
  },
  {
   "cell_type": "markdown",
   "id": "1ea25a02-4cfd-4ba8-a3bc-08b11f09ae56",
   "metadata": {},
   "source": [
    ">REST :\n",
    ">>An application is said to be RESTful if it follows 6 architectural guidelines. A RESTful application must have:\n",
    "\n",
    ">>A client-server architecture composed of clients, servers, and resources.\n",
    "\n",
    ">>Stateless client-server communication, meaning no client content is stored on the server between requests.\n",
    "\n",
    ">>Information about the session’s state is instead held with the client.\n",
    "\n",
    ">>Cacheable data to eliminate the need for some client-server interactions.\n",
    "\n",
    ">>A uniform interface between components so that information is transferred in a standardized form instead of specific to an application’s needs. This is described by Roy Fielding, the originator of REST, as “the central feature that distinguishes the REST architectural style from other network-based styles.”\n",
    "\n",
    ">>A layered system constraint, where client-server interactions can be mediated by hierarchical layers.\n",
    "Code on demand, allowing servers to extend the functionality of a client by transferring executable code (though also reducing visibility, making this an optional guideline).\n",
    "\n",
    ">SOAP :\n",
    ">>Web services security (WS-security): Standardizes how messages are secured and transferred through unique identifiers called tokens.\n",
    "\n",
    ">>WS-ReliableMessaging: Standardizes error handling between messages transferred across unreliable IT infrastructure.\n",
    "\n",
    ">>Web services addressing (WS-addressing): Packages routing information as metadata within SOAP headers, instead of maintaining such information deeper within the network.\n",
    "\n",
    ">>Web services description language (WSDL): Describes what a web service does, and where that service begins and ends.\n",
    "\n",
    ">SHORTCOMING OF SOAP:\n",
    ">>SOAP is a standard protocol that was first designed so that applications built with different languages and on different platforms could communicate. Because it is a protocol, it imposes built-in rules that increase its complexity and overhead, which can lead to longer page load times. However, these standards also offer built-in compliances that can make it preferable for enterprise scenarios. The built-in compliance standards include security, atomicity, consistency, isolation, and durability (ACID), which is a set of properties for ensuring reliable database transactions."
   ]
  },
  {
   "cell_type": "markdown",
   "id": "8d5b727a-5371-427b-91a1-917f07ab3e79",
   "metadata": {},
   "source": [
    "__________"
   ]
  },
  {
   "cell_type": "markdown",
   "id": "a1668b38-1854-4a2e-ab2e-e6a7ed37ee92",
   "metadata": {},
   "source": [
    "### Q5. Differentiate between REST and SOAP."
   ]
  },
  {
   "cell_type": "markdown",
   "id": "0fc25668-3c74-43fd-ae90-ce4eab2a665d",
   "metadata": {},
   "source": [
    ">REST ::\n",
    ">>Scalable,\n",
    ">>Easy to Usee\n",
    ">>Use Heavy Loading\n",
    ">> HTTP Protocal Use\n",
    ">SOAP\n",
    ">>Use XML \n",
    ">>Much Secure\n",
    ">>Not so easy for Intigratio"
   ]
  },
  {
   "cell_type": "markdown",
   "id": "6dc88f3e-1e1d-45d7-b2c5-b0c280ab8953",
   "metadata": {},
   "source": [
    "_____________"
   ]
  },
  {
   "cell_type": "code",
   "execution_count": null,
   "id": "ebbed1d9-1ccb-4879-915d-dff117bbc877",
   "metadata": {},
   "outputs": [],
   "source": []
  }
 ],
 "metadata": {
  "kernelspec": {
   "display_name": "Python 3 (ipykernel)",
   "language": "python",
   "name": "python3"
  },
  "language_info": {
   "codemirror_mode": {
    "name": "ipython",
    "version": 3
   },
   "file_extension": ".py",
   "mimetype": "text/x-python",
   "name": "python",
   "nbconvert_exporter": "python",
   "pygments_lexer": "ipython3",
   "version": "3.10.8"
  }
 },
 "nbformat": 4,
 "nbformat_minor": 5
}
