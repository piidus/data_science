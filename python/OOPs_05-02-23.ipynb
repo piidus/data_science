{
 "cells": [
  {
   "cell_type": "markdown",
   "id": "1bff24dd-e5b0-4738-a49a-4a76739af541",
   "metadata": {},
   "source": [
    "Q1. Explain Class and Object with respect to Object-Oriented Programming.\n",
    "Give a suitable example."
   ]
  },
  {
   "cell_type": "code",
   "execution_count": 1,
   "id": "76491b77-b218-4606-8f0b-3c8911783d69",
   "metadata": {},
   "outputs": [
    {
     "name": "stdout",
     "output_type": "stream",
     "text": [
      "it is a example of class\n"
     ]
    }
   ],
   "source": [
    "# in Object-Oriented Programming(Oops) class is a 'Blueprint' of a Object or function and\n",
    "## Object is a Final product of a Class\n",
    "# Class Example\n",
    "class Class_example:\n",
    "    '''it is a example of class'''\n",
    "    def first(self):\n",
    "        print('it is a example of class')\n",
    "\n",
    "# Object Example:\n",
    "object_example = Class_example()\n",
    "object_example.first()"
   ]
  },
  {
   "cell_type": "markdown",
   "id": "93b3f768-a395-4797-ab09-128caee70d22",
   "metadata": {},
   "source": [
    "________________________________________________"
   ]
  },
  {
   "cell_type": "markdown",
   "id": "dc81da7e-ba82-4a3f-94e9-02f8a2656d2e",
   "metadata": {},
   "source": [
    "Q2. Name the four pillars of OOPs."
   ]
  },
  {
   "cell_type": "markdown",
   "id": "48440855-1228-41ff-b342-42119ac12c04",
   "metadata": {},
   "source": [
    "\"The four pillars are [Inheritance, Polymorphism, Encapsulation, Abstraction]\""
   ]
  },
  {
   "cell_type": "markdown",
   "id": "566c1427-d5e2-4dcd-aa42-2e864c075d5f",
   "metadata": {},
   "source": [
    "--------------------------------"
   ]
  },
  {
   "cell_type": "markdown",
   "id": "fce51530-db8d-4980-8fcf-81d5fc62cd0f",
   "metadata": {},
   "source": [
    "Q3. Explain why the __init__() function is used. Give a suitable example."
   ]
  },
  {
   "cell_type": "code",
   "execution_count": 2,
   "id": "942f6158-e831-4f33-9d46-4380d856a4bf",
   "metadata": {},
   "outputs": [],
   "source": [
    "# \"__init__\" is used for Constract in simple language it is a variable storage of that class"
   ]
  },
  {
   "cell_type": "code",
   "execution_count": 3,
   "id": "22ca7d1e-a208-4371-989e-0b58d980d1fa",
   "metadata": {},
   "outputs": [
    {
     "name": "stdout",
     "output_type": "stream",
     "text": [
      "first_variable\n"
     ]
    }
   ],
   "source": [
    "class Constractor_Example:\n",
    "    def __init__(self, name):\n",
    "        self.fname = name\n",
    "\n",
    "example = Constractor_Example('first_variable')\n",
    "print(example.fname)"
   ]
  },
  {
   "cell_type": "markdown",
   "id": "e20bca02-1b0d-41a8-8af6-2f57858f756b",
   "metadata": {},
   "source": [
    "_____________________________________________________________"
   ]
  },
  {
   "cell_type": "markdown",
   "id": "3f11f80f-fe9a-4701-a563-669ba7f3e2bd",
   "metadata": {},
   "source": [
    "Q4. Why self is used in OOPs?"
   ]
  },
  {
   "cell_type": "code",
   "execution_count": 4,
   "id": "13270bba-79df-405a-bac3-80c83d990600",
   "metadata": {},
   "outputs": [],
   "source": [
    "# \"self\" is used for to establish connection with that class"
   ]
  },
  {
   "cell_type": "markdown",
   "id": "79e488a8-7b98-44ea-9df3-9e4da5907594",
   "metadata": {},
   "source": [
    "--------------------------------------------------"
   ]
  },
  {
   "cell_type": "markdown",
   "id": "a4cc8d09-1f48-4273-a0b9-1d9c347f0620",
   "metadata": {},
   "source": [
    "Q5. What is inheritance? Give an example for each type of inheritance."
   ]
  },
  {
   "cell_type": "markdown",
   "id": "1fd27583-e13c-48fe-82f1-d57b772631d7",
   "metadata": {},
   "source": [
    "'''Inheritance allows us to define a class that inherits all the methods(function) and \n",
    "properties(variable) from another class.'''"
   ]
  },
  {
   "cell_type": "code",
   "execution_count": 6,
   "id": "1dfa983a-55f8-4cdd-b07e-45553869a50c",
   "metadata": {},
   "outputs": [
    {
     "name": "stdout",
     "output_type": "stream",
     "text": [
      "This Line come from first c\n"
     ]
    },
    {
     "data": {
      "text/plain": [
       "'Second Class'"
      ]
     },
     "execution_count": 6,
     "metadata": {},
     "output_type": "execute_result"
    }
   ],
   "source": [
    "class first_class:\n",
    "    def __init__(self):\n",
    "        self.name1 = 'First Class'\n",
    "    def print_this(self):\n",
    "        print(\"This Line come from first c\")\n",
    "        \n",
    "class second_class(first_class):\n",
    "    def __init__(self):\n",
    "        self.original_name = 'Second Class'\n",
    "\n",
    "example = second_class()\n",
    "example.print_this()\n",
    "example.original_name"
   ]
  }
 ],
 "metadata": {
  "kernelspec": {
   "display_name": "Python 3 (ipykernel)",
   "language": "python",
   "name": "python3"
  },
  "language_info": {
   "codemirror_mode": {
    "name": "ipython",
    "version": 3
   },
   "file_extension": ".py",
   "mimetype": "text/x-python",
   "name": "python",
   "nbconvert_exporter": "python",
   "pygments_lexer": "ipython3",
   "version": "3.10.8"
  }
 },
 "nbformat": 4,
 "nbformat_minor": 5
}
