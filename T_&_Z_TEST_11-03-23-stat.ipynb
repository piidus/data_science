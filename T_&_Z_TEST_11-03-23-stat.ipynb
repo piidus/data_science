{
 "cells": [
  {
   "cell_type": "markdown",
   "id": "53f757ff",
   "metadata": {},
   "source": [
    "### Q1: What is the difference between a t-test and a z-test? Provide an example scenario where you would use each type of test.\n",
    "\n",
    "    - In t Test \n",
    "        - population std is absent\n",
    "        - so, use sample size/ sqrt sample_std\n",
    "    - In z Test\n",
    "        - we calculate through population std"
   ]
  },
  {
   "cell_type": "markdown",
   "id": "7ef36982",
   "metadata": {},
   "source": [
    "### Q2: Differentiate between one-tailed and two-tailed tests.\n",
    "\n",
    "    - A one-tailed test is used to ascertain if there is any relationship between variables in a single direction, i.e. left or right. As against this, the two-tailed test is used to identify whether or not there is any relationship between variables in either direction."
   ]
  },
  {
   "cell_type": "markdown",
   "id": "6cab8a0c",
   "metadata": {},
   "source": [
    "### Q3: Explain the concept of Type 1 and Type 2 errors in hypothesis testing. Provide an example scenario for each type of error.\n",
    "\n",
    "- In hypothesis testing, we set up a null hypothesis and an alternative hypothesis to determine whether there is enough evidence to reject the null hypothesis in favor of the alternative hypothesis. When performing hypothesis testing, there are two types of errors that we can make: Type 1 error and Type 2 error.\n",
    "\n",
    "    - Type 1 error occurs when we reject the null hypothesis when it is actually true. In other words, we conclude that there is a significant effect or difference when there is no actual effect or difference. This error is also known as a false positive. The probability of making a Type 1 error is denoted as alpha (α) and is typically set at 0.05 or 0.01.\n",
    "\n",
    "        - Example scenario for Type 1 error: A company is testing a new drug to reduce blood pressure. The null hypothesis is that the drug has no effect on blood pressure, while the alternative hypothesis is that the drug does reduce blood pressure. The company concludes that the drug is effective in reducing blood pressure when in fact it has no effect, leading to Type 1 error.\n",
    "\n",
    "    - Type 2 error occurs when we fail to reject the null hypothesis when it is actually false. In other words, we conclude that there is no significant effect or difference when there is an actual effect or difference. This error is also known as a false negative. The probability of making a Type 2 error is denoted as beta (β).\n",
    "\n",
    "        - Example scenario for Type 2 error: A company is testing a new drug to reduce blood pressure. The null hypothesis is that the drug has no effect on blood pressure, while the alternative hypothesis is that the drug does reduce blood pressure. The company concludes that the drug has no significant effect on blood pressure when in fact it does, leading to Type 2 error.\n",
    "\n",
    "- In summary, Type 1 error occurs when we reject a true null hypothesis while Type 2 error occurs when we fail to reject a false null hypothesis. Both errors can have serious consequences in different fields such as medicine, finance, and engineering, and therefore it is important to carefully consider the significance level and the statistical power when performing hypothesis testing."
   ]
  },
  {
   "cell_type": "markdown",
   "id": "0dfd83be",
   "metadata": {},
   "source": [
    "### Q4: Explain Bayes's theorem with an example.\n",
    "\n",
    "Bayes' theorem is a statistical concept used to update the probability of a hypothesis based on new evidence or data. It was named after the English statistician Thomas Bayes and is often used in probability theory and Bayesian statistics.\n",
    "\n",
    "The theorem states that the probability of a hypothesis H, given some observed evidence E, can be calculated using the following formula:\n",
    "\n",
    "P(H|E) = P(E|H) * P(H) / P(E)\n",
    "\n",
    "Where:\n",
    "\n",
    "P(H|E) is the posterior probability of H, given E\n",
    "P(E|H) is the likelihood of observing E, given H\n",
    "P(H) is the prior probability of H\n",
    "P(E) is the probability of observing E\n",
    "To understand Bayes' theorem, let's consider an example scenario:\n",
    "\n",
    "Suppose there is a certain disease that affects 1 in 1000 people. You go to the doctor and take a test for the disease, which has an accuracy of 95%, meaning that if you have the disease, the test will correctly identify it 95% of the time, and if you do not have the disease, the test will correctly identify it as negative 95% of the time.\n",
    "\n",
    "After taking the test, you receive a positive result. What is the probability that you actually have the disease?\n",
    "\n",
    "Using Bayes' theorem, we can calculate the probability as follows:\n",
    "\n",
    "- P(D) = 0.001 (the prior probability of having the disease)\n",
    "- P(Pos|D) = 0.95 (the probability of testing positive given that you have the disease)\n",
    "- P(Pos|~D) = 0.05 (the probability of testing positive given that you do not have the disease)\n",
    "- P(~D) = 0.999 (the prior probability of not having the disease)\n",
    "\n",
    "Using these values, we can calculate the probability of having the disease given a positive test result as follows:\n",
    "\n",
    "P(D|Pos) = P(Pos|D) * P(D) / P(Pos)\n",
    "\n",
    "P(Pos) can be calculated using the law of total probability:\n",
    "\n",
    "P(Pos) = P(Pos|D) * P(D) + P(Pos|~D) * P(~D)\n",
    "\n",
    "P(Pos) = 0.95 * 0.001 + 0.05 * 0.999\n",
    "\n",
    "P(Pos) = 0.0509\n",
    "\n",
    "Therefore,\n",
    "\n",
    "P(D|Pos) = P(Pos|D) * P(D) / P(Pos)\n",
    "\n",
    "P(D|Pos) = 0.95 * 0.001 / 0.0509\n",
    "\n",
    "P(D|Pos) = 0.0187 or 1.87%\n",
    "\n",
    "This means that even though you received a positive test result, there is only a 1.87% chance that you actually have the disease. This example illustrates how Bayes' theorem can be used to update the probability of a hypothesis (in this case, having the disease) based on new evidence (in this case, a positive test result)."
   ]
  },
  {
   "cell_type": "markdown",
   "id": "f07b387e",
   "metadata": {},
   "source": [
    "### Q5: What is a confidence interval? How to calculate the confidence interval, explain with an example.\n",
    "\n",
    "A confidence interval is a range of values that is used to estimate an unknown population parameter with a certain level of confidence. It gives a range of values within which the true population parameter is expected to lie.\n",
    "\n",
    "The formula for calculating the confidence interval is:\n",
    "\n",
    "CI = X̄ ± z * (σ/√n)\n",
    "\n",
    "Where,\n",
    "\n",
    "X̄ is the sample mean\n",
    "z is the z-score based on the desired confidence level\n",
    "σ is the population standard deviation\n",
    "n is the sample size\n",
    "\n",
    "For example, let's say we want to estimate the average height of people in a certain city with 95% confidence. We take a random sample of 100 people from the city and measure their heights. The sample mean height is 170 cm and the standard deviation is 10 cm.\n",
    "\n",
    "The z-score for a 95% confidence level is 1.96.\n",
    "\n",
    "Using the formula above, we can calculate the confidence interval as:\n",
    "\n",
    "CI = 170 ± 1.96 * (10/√100) = 170 ± 1.96\n",
    "\n",
    "So the confidence interval is (168.04, 171.96). This means we can be 95% confident that the true population mean height is between 168.04 cm and 171.96 cm."
   ]
  },
  {
   "cell_type": "markdown",
   "id": "1cb7afc5",
   "metadata": {},
   "source": [
    "### Q6. Use Bayes' Theorem to calculate the probability of an event occurring given prior knowledge of the event's probability and new evidence. Provide a sample problem and solution.\n",
    "\n",
    "- Suppose that a certain rare disease affects 1% of the population. A test has been developed to detect the disease, but it is not perfect. The test correctly identifies the presence of the disease 90% of the time, but it also has a false positive rate of 5% (meaning that it will test positive for 5% of the people who do not have the disease).\n",
    "\n",
    "- What is the probability that a person who tests positive actually has the disease?\n",
    "\n",
    "Solution using Bayes' Theorem:\n",
    "Let's define the following events:\n",
    "\n",
    "    A: the person has the disease\n",
    "    B: the test is positive\n",
    "\n",
    "We want to find P(A|B), the probability that the person has the disease given that the test is positive.\n",
    "\n",
    "We can use Bayes' Theorem to calculate this probability:\n",
    "\n",
    "    - P(A|B) = P(B|A) * P(A) / P(B)\n",
    "\n",
    "        where P(B|A) is the probability of a positive test given that the person has the disease, P(A) is the prior probability of having the disease, and P(B) is the overall probability of testing positive.\n",
    "\n",
    "        From the problem statement, we know that P(A) = 0.01 (the disease affects 1% of the population), and P(B|A) = 0.9 (the test correctly identifies the presence of the disease 90% of the time).\n",
    "\n",
    "To calculate P(B), we need to consider both true positive and false positive cases:\n",
    "\n",
    "    - P(B) = P(B|A) * P(A) + P(B|not A) * P(not A)\n",
    "\n",
    "        where P(B|not A) is the probability of a positive test given that the person does not have the disease, and P(not A) is the complement of P(A), which is 0.99.\n",
    "\n",
    "        From the problem statement, we know that P(B|not A) = 0.05 (the false positive rate of the test).\n",
    "\n",
    "Therefore, we can calculate P(B) as:\n",
    "\n",
    "    P(B) = P(B|A) * P(A) + P(B|not A) * P(not A)\n",
    "    = 0.9 * 0.01 + 0.05 * 0.99\n",
    "    = 0.0585\n",
    "\n",
    "Now we can use Bayes' Theorem to calculate P(A|B):\n",
    "\n",
    "    P(A|B) = P(B|A) * P(A) / P(B)\n",
    "    = 0.9 * 0.01 / 0.0585\n",
    "    = 0.1538\n",
    "\n",
    "So the probability that a person who tests positive actually has the disease is approximately 15.38%."
   ]
  },
  {
   "cell_type": "markdown",
   "id": "f70e73c8",
   "metadata": {},
   "source": [
    "### Q7. Calculate the 95% confidence interval for a sample of data with a mean of 50 and a standard deviation of 5. Interpret the results."
   ]
  },
  {
   "cell_type": "code",
   "execution_count": 1,
   "id": "4b5994dc",
   "metadata": {},
   "outputs": [
    {
     "name": "stdout",
     "output_type": "stream",
     "text": [
      "95% Confidence Interval: (47.30787918518414, 51.89212081481586)\n"
     ]
    }
   ],
   "source": [
    "import scipy.stats as stats\n",
    "\n",
    "# Sample data\n",
    "data = [45, 51, 48, 49, 53, 47, 50, 55, 52, 46]\n",
    "\n",
    "# Sample mean and standard deviation\n",
    "sample_mean = sum(data) / len(data)\n",
    "sample_std = stats.tstd(data)\n",
    "\n",
    "# Calculate the confidence interval\n",
    "conf_int = stats.t.interval(0.95, len(data) - 1, loc=sample_mean, scale=stats.sem(data))\n",
    "\n",
    "print(f\"95% Confidence Interval: {conf_int}\")\n"
   ]
  },
  {
   "cell_type": "markdown",
   "id": "ac75ce6f",
   "metadata": {},
   "source": [
    "### Q8. What is the margin of error in a confidence interval? How does sample size affect the margin of error?Provide an example of a scenario where a larger sample size would result in a smaller margin of error.\n",
    "-The margin of error is the range of values above and below a sample statistic within which the true population parameter is likely to lie, with a certain level of confidence. It is usually expressed as a percentage or a proportion.\n",
    "\n",
    "    Sample size has an inverse relationship with the margin of error - as sample size increases, the margin of error decreases, assuming all other factors remain constant. This is because a larger sample size provides more information about the population, leading to a more precise estimate of the population parameter.\n",
    "\n",
    "    For example, suppose we want to estimate the average age of students at a college with 95% confidence, and we take a random sample of 50 students with a mean age of 21 years and a standard deviation of 3 years. Using the formula for calculating the margin of error:\n",
    "    \n",
    "        - Margin of error = Z * (standard deviation / sqrt(sample size))\n",
    "    where Z is the z-score for the desired level of confidence. For a 95% confidence level, Z is 1.96. Plugging in the values:\n",
    "        - Margin of error = 1.96 * (3 / sqrt(50)) = 1.34\n",
    "    So, we can say with 95% confidence that the true population mean age of the students is between 19.66 and 22.34 years.\n",
    "\n",
    "    Now suppose we increase the sample size to 200. Using the same formula, the margin of error becomes:\n",
    "        - Margin of error = 1.96 * (3 / sqrt(200)) = 0.84\n",
    "    \n",
    "    So, with the larger sample size, we can estimate the population mean age with a smaller margin of error of 0.84 years.\n",
    "\n",
    "\n",
    "<h5> In summary, a larger sample size generally results in a smaller margin of error, which leads to a more precise estimate of the population parameter.</H5>"
   ]
  },
  {
   "cell_type": "markdown",
   "id": "90cef64d",
   "metadata": {},
   "source": [
    "### Q9. Calculate the z-score for a data point with a value of 75, a population mean of 70, and a population standard deviation of 5. Interpret the results."
   ]
  },
  {
   "cell_type": "code",
   "execution_count": 2,
   "id": "ba59612f",
   "metadata": {},
   "outputs": [
    {
     "name": "stdout",
     "output_type": "stream",
     "text": [
      "The z-score is: 1.0\n"
     ]
    }
   ],
   "source": [
    "# Importing the required library\n",
    "from scipy import stats\n",
    "\n",
    "# Defining the values\n",
    "x = 75 # data point value\n",
    "mu = 70 # population mean\n",
    "sigma = 5 # population standard deviation\n",
    "\n",
    "# Calculating the z-score\n",
    "z_score = (x - mu) / sigma\n",
    "\n",
    "# Printing the z-score\n",
    "print(\"The z-score is:\", z_score)\n"
   ]
  },
  {
   "cell_type": "markdown",
   "id": "93e5228f",
   "metadata": {},
   "source": [
    "### Q10. In a study of the effectiveness of a new weight loss drug, a sample of 50 participants lost an average of 6 pounds with a standard deviation of 2.5 pounds. Conduct a hypothesis test to determine if the drug is significantly effective at a 95% confidence level using a t-test."
   ]
  },
  {
   "cell_type": "code",
   "execution_count": 3,
   "id": "6b03650a",
   "metadata": {},
   "outputs": [
    {
     "name": "stdout",
     "output_type": "stream",
     "text": [
      "Fail to reject null hypothesis. The drug is not significantly effective in reducing weight.\n"
     ]
    }
   ],
   "source": [
    "'''Null hypothesis (H0): The drug is not significantly effective in reducing weight (μ = 0).\n",
    "\n",
    "Alternative hypothesis (Ha): The drug is significantly effective in reducing weight (μ < 0).\n",
    "\n",
    "We will use a one-sample t-test since we are comparing the sample mean to a known value (μ=0). We will use a significance level of 0.05.'''\n",
    "\n",
    "import numpy as np\n",
    "from scipy.stats import t\n",
    "\n",
    "sample_mean = 6\n",
    "n = 50\n",
    "std_dev = 2.5\n",
    "alpha = 0.05\n",
    "t_critical = t.ppf(alpha, n-1)\n",
    "t_score = (sample_mean - 0) / (std_dev / np.sqrt(n))\n",
    "\n",
    "if t_score < t_critical:\n",
    "    print(\"Reject null hypothesis. The drug is significantly effective in reducing weight.\")\n",
    "else:\n",
    "    print(\"Fail to reject null hypothesis. The drug is not significantly effective in reducing weight.\")\n"
   ]
  },
  {
   "cell_type": "markdown",
   "id": "b2a72c55",
   "metadata": {},
   "source": [
    "### Q11. In a survey of 500 people, 65% reported being satisfied with their current job. Calculate the 95% confidence interval for the true proportion of people who are satisfied with their job.\n",
    "\n",
    "To calculate the 95% confidence interval for the true proportion of people who are satisfied with their job, we can use the following formula:\n",
    "\n",
    "Confidence interval = sample proportion ± (z-value)*(standard error)\n",
    "\n",
    "where the z-value corresponds to the level of confidence (in this case, 95%), and the standard error can be calculated as:\n",
    "\n",
    "standard error = sqrt((sample proportion*(1-sample proportion))/sample size)\n",
    "\n",
    "Using the given information:\n",
    "\n",
    "Sample proportion (p) = 0.65\n",
    "Sample size (n) = 500\n",
    "Level of confidence (z-value) = 1.96 (from z-table)\n",
    "Plugging in these values, we get:\n",
    "\n",
    "standard error = sqrt((0.65*(1-0.65))/500) = 0.025\n",
    "\n",
    "Confidence interval = 0.65 ± (1.96)*(0.025) = (0.601, 0.699)\n",
    "\n",
    "Therefore, we can say with 95% confidence that the true proportion of people who are satisfied with their job lies between 0.601 and 0.699."
   ]
  },
  {
   "cell_type": "markdown",
   "id": "d39e2f79",
   "metadata": {},
   "source": [
    "### Q12. A researcher is testing the effectiveness of two different teaching methods on student performance. Sample A has a mean score of 85 with a standard deviation of 6, while sample B has a mean score of 82 with a standard deviation of 5. Conduct a hypothesis test to determine if the two teaching methods have a significant difference in student performance using a t-test with a significance level of 0.01."
   ]
  },
  {
   "cell_type": "code",
   "execution_count": 4,
   "id": "ab1fafdd",
   "metadata": {},
   "outputs": [
    {
     "name": "stdout",
     "output_type": "stream",
     "text": [
      "Sample A: mean=84.50, std=3.03, n=10\n",
      "Sample B: mean=81.50, std=2.07, n=12\n",
      "t-value = 2.66, p-value = 0.0151\n"
     ]
    }
   ],
   "source": [
    "import numpy as np\n",
    "from scipy.stats import t\n",
    "\n",
    "# Define the data for sample A and B\n",
    "sample_A = [85, 89, 80, 82, 88, 84, 87, 83, 81, 86]\n",
    "sample_B = [78, 80, 82, 83, 85, 79, 80, 81, 84, 83, 81, 82]\n",
    "\n",
    "# Calculate the sample sizes, means and standard deviations for sample A and B\n",
    "n_A = len(sample_A)\n",
    "n_B = len(sample_B)\n",
    "mean_A = np.mean(sample_A)\n",
    "mean_B = np.mean(sample_B)\n",
    "std_A = np.std(sample_A, ddof=1)\n",
    "std_B = np.std(sample_B, ddof=1)\n",
    "\n",
    "# Calculate the t-value and p-value using a two-tailed t-test\n",
    "se = np.sqrt((std_A**2/n_A) + (std_B**2/n_B))\n",
    "t_value = (mean_A - mean_B) / se\n",
    "df = n_A + n_B - 2\n",
    "p_value = 2 * (1 - t.cdf(abs(t_value), df))\n",
    "\n",
    "# Print the results\n",
    "print(f\"Sample A: mean={mean_A:.2f}, std={std_A:.2f}, n={n_A}\")\n",
    "print(f\"Sample B: mean={mean_B:.2f}, std={std_B:.2f}, n={n_B}\")\n",
    "print(f\"t-value = {t_value:.2f}, p-value = {p_value:.4f}\")\n"
   ]
  },
  {
   "cell_type": "markdown",
   "id": "24561141",
   "metadata": {},
   "source": [
    "### Q13. A population has a mean of 60 and a standard deviation of 8. A sample of 50 observations has a mean of 65. Calculate the 90% confidence interval for the true population mean.\n",
    "\n",
    "To calculate the 90% confidence interval for the population mean, we can use the following formula:\n",
    "\n",
    "confidence interval = sample mean ± (z-score * standard error)\n",
    "\n",
    "where:\n",
    "\n",
    "sample mean = 65\n",
    "z-score for 90% confidence level = 1.645 (obtained from a standard normal distribution table)\n",
    "standard error = standard deviation / sqrt(sample size) = 8 / sqrt(50) = 1.131\n",
    "Substituting the values, we get:\n",
    "\n",
    "confidence interval = 65 ± (1.645 * 1.131)\n",
    "= (63.34, 66.66)\n",
    "\n",
    "Therefore, we can say with 90% confidence that the true population mean falls between 63.34 and 66.66."
   ]
  },
  {
   "cell_type": "markdown",
   "id": "c2f64645",
   "metadata": {},
   "source": [
    "### Q14. In a study of the effects of caffeine on reaction time, a sample of 30 participants had an average reaction time of 0.25 seconds with a standard deviation of 0.05 seconds. Conduct a hypothesis test to determine if the caffeine has a significant effect on reaction time at a 90% confidence level using a t-test."
   ]
  },
  {
   "cell_type": "code",
   "execution_count": 5,
   "id": "5d88b88a",
   "metadata": {},
   "outputs": [
    {
     "name": "stdout",
     "output_type": "stream",
     "text": [
      "t-statistic: 0.000\n",
      "Critical t-value: 1.699\n",
      "Margin of error: 0.016\n",
      "90% Confidence interval: (0.234, 0.266)\n"
     ]
    }
   ],
   "source": [
    "import math\n",
    "from scipy.stats import t\n",
    "\n",
    "# Null hypothesis: the mean reaction time for the population is not significantly different from 0.25 seconds\n",
    "# Alternative hypothesis: the mean reaction time for the population is significantly different from 0.25 seconds\n",
    "\n",
    "# Given values\n",
    "sample_mean = 0.25\n",
    "n = 30\n",
    "std_dev = 0.05\n",
    "confidence_level = 0.90\n",
    "\n",
    "# Calculate the t-statistic\n",
    "t_statistic = (sample_mean - 0.25) / (std_dev / math.sqrt(n))\n",
    "\n",
    "# Calculate the critical t-value for the confidence level and degrees of freedom\n",
    "degrees_of_freedom = n - 1\n",
    "alpha = 1 - confidence_level\n",
    "critical_t_value = t.ppf(1 - alpha/2, degrees_of_freedom)\n",
    "\n",
    "# Calculate the margin of error\n",
    "margin_of_error = critical_t_value * std_dev / math.sqrt(n)\n",
    "\n",
    "# Calculate the confidence interval\n",
    "lower_bound = sample_mean - margin_of_error\n",
    "upper_bound = sample_mean + margin_of_error\n",
    "\n",
    "# Print the results\n",
    "print(f\"t-statistic: {t_statistic:.3f}\")\n",
    "print(f\"Critical t-value: {critical_t_value:.3f}\")\n",
    "print(f\"Margin of error: {margin_of_error:.3f}\")\n",
    "print(f\"90% Confidence interval: ({lower_bound:.3f}, {upper_bound:.3f})\")\n"
   ]
  },
  {
   "cell_type": "code",
   "execution_count": null,
   "id": "33f12639",
   "metadata": {},
   "outputs": [],
   "source": []
  }
 ],
 "metadata": {
  "kernelspec": {
   "display_name": "Python 3 (ipykernel)",
   "language": "python",
   "name": "python3"
  },
  "language_info": {
   "codemirror_mode": {
    "name": "ipython",
    "version": 3
   },
   "file_extension": ".py",
   "mimetype": "text/x-python",
   "name": "python",
   "nbconvert_exporter": "python",
   "pygments_lexer": "ipython3",
   "version": "3.9.13"
  }
 },
 "nbformat": 4,
 "nbformat_minor": 5
}
