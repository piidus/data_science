{
 "cells": [
  {
   "cell_type": "markdown",
   "id": "f104eb65",
   "metadata": {},
   "source": [
    "### Q1. What are the key steps involved in building an end-to-end web application, from development to deployment on the cloud?\n",
    "\n",
    "    We deploy our code in AWS Beanstack;\n",
    "1. Add Code to Github Repository.\n",
    "2. Add a folder name \".ebextensions\"\n",
    "3. Add file to '.ebextentions' :: 'python.config' > add code to this file:>\n",
    "    option_settings:\n",
    "      \"aws:elasticbeanstalk:container:python\":\n",
    "       WSGIPath: application:application\n",
    "4. Rename app.py to application (match with configeration'\n",
    "5. Create a web server in AWS Beanstack > give a name.\n",
    "6. create a pipiline for add code from github and authenticate it.\n",
    "7. When web server Ready, show your pipeline to deploy code.\n",
    "\n",
    "Now It Runs\n",
    "\n",
    "    "
   ]
  },
  {
   "cell_type": "markdown",
   "id": "ed1e855a",
   "metadata": {},
   "source": [
    "### Q2. Explain the difference between traditional web hosting and cloud hosting.\n",
    "\n",
    "Traditional web hosting and cloud hosting are two main types of web hosting services that offer different ways to store and manage your website's data. Here's a breakdown of the key differences between them:\n",
    "\n",
    "Infrastructure:\n",
    "\n",
    "    Traditional hosting: Your website is stored on a single physical server located in a data center. This server is shared with other websites, or you can have a dedicated server for just your website. \n",
    "    \n",
    "    Cloud hosting: Your website is stored on a network of interconnected virtual servers located in different data centers around the world. This network of servers is called a \"cloud.\" \n",
    "\n",
    "Scalability:\n",
    "\n",
    "- Traditional hosting: It can be difficult to scale your website up or down with traditional hosting. If you need more resources, you'll need to upgrade to a larger server plan, which can be expensive. If you need fewer resources, you're still paying for the same amount of space.\n",
    "- Cloud hosting: Cloud hosting is much more scalable. You can easily add or remove resources as needed, so you only pay for what you use. This makes it a good option for websites that experience traffic spikes or have unpredictable resource needs.\n",
    "\n",
    "Reliability:\n",
    "\n",
    "- Traditional hosting: If the server that your website is hosted on goes down, your website will be down too. There is also a single point of failure, so if the data center where your server is located is affected by a natural disaster or power outage, your website could be down for an extended period.\n",
    "- Cloud hosting: Because your website is stored on a network of servers, if one server goes down, the others can pick up the slack. This makes cloud hosting much more reliable than traditional hosting. Additionally, cloud providers typically have data centers in multiple locations, so if one data center is affected by a disaster, your website will still be up and running in another location.\n"
   ]
  },
  {
   "cell_type": "markdown",
   "id": "6e66af1f",
   "metadata": {},
   "source": [
    "### Q3. How do you choose the right cloud provider for your application deployment, and what factors should you consider.\n",
    "\n",
    "\n",
    "Cost:\n",
    "\n",
    "- Traditional hosting: Traditional hosting is typically cheaper than cloud hosting upfront. However, you may end up paying more in the long run if you need to upgrade your server plan or if your website experiences traffic spikes.\n",
    "- Cloud hosting: Cloud hosting is typically more expensive than traditional hosting upfront. However, you only pay for the resources you use, so it can be more cost-effective in the long run, especially for websites with unpredictable resource needs.\n",
    "\n",
    "Management:\n",
    "\n",
    "- Traditional hosting: With traditional hosting, you are responsible for managing your server, which can be time-consuming and complex.\n",
    "- Cloud hosting: Cloud providers typically handle the management of the underlying infrastructure, so you can focus on managing your website.\n",
    "\n",
    "Security:\n",
    "\n",
    "- Traditional hosting: The security of your website depends on the security of the data center where your server is located and the security measures implemented by your hosting provider.\n",
    "- Cloud hosting: Cloud providers typically have robust security measures in place to protect your data. Additionally, because your website is stored on a network of servers, it is less vulnerable to attacks.\n",
    "    \n",
    "    In short, traditional web hosting is a good option for small websites with predictable resource needs and a low budget. Cloud hosting is a better option for websites that experience traffic spikes, have unpredictable resource needs, or require high reliability and security."
   ]
  },
  {
   "cell_type": "markdown",
   "id": "7efdc510",
   "metadata": {},
   "source": [
    "### Q4. How do you design and build a responsive user interface for your web application, and what are some best practices to follow?\n",
    "\n",
    "    Using Bootstrap, js, and most important code Structure."
   ]
  },
  {
   "cell_type": "markdown",
   "id": "ac6b1cd8",
   "metadata": {},
   "source": [
    "Q5. How do you integrate the machine learning model with the user interface for the Algerian Forest Fires\n",
    "project(which we discussed in class), and what APIs or libraries can you use for this purpose?\n",
    "\n",
    "    In this project I use sklearn, pandas, numpy, pickle, flask"
   ]
  }
 ],
 "metadata": {
  "kernelspec": {
   "display_name": "Python 3 (ipykernel)",
   "language": "python",
   "name": "python3"
  },
  "language_info": {
   "codemirror_mode": {
    "name": "ipython",
    "version": 3
   },
   "file_extension": ".py",
   "mimetype": "text/x-python",
   "name": "python",
   "nbconvert_exporter": "python",
   "pygments_lexer": "ipython3",
   "version": "3.10.9"
  }
 },
 "nbformat": 4,
 "nbformat_minor": 5
}
