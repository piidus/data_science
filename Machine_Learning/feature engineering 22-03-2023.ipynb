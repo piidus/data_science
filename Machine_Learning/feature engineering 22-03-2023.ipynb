{
 "cells": [
  {
   "cell_type": "markdown",
   "id": "fbd879d3",
   "metadata": {},
   "source": [
    "### Q1. Pearson correlation coefficient is a measure of the linear relationship between two variables. Suppose you have collected data on the amount of time students spend studying for an exam and their final exam scores. Calculate the Pearson correlation coefficient between these two variables and interpret the result."
   ]
  },
  {
   "cell_type": "code",
   "execution_count": 11,
   "id": "4169dec1",
   "metadata": {},
   "outputs": [],
   "source": [
    "# import os\n",
    "# import re\n",
    "\n",
    "# def replace_semicolons(file_path):\n",
    "#     with open(file_path, \"r\") as f:\n",
    "#         content = f.read()\n",
    "\n",
    "#     content = re.sub(\";\", \",\", content)\n",
    "\n",
    "#     with open(file_path, \"w\") as f:\n",
    "#         f.write(content)\n",
    "\n",
    "# if __name__ == \"__main__\":\n",
    "#     file_path = \"student-mat.csv\"\n",
    "#     replace_semicolons(file_path)\n",
    "\n",
    "# Sample data\n",
    "# https://github.com/piidus/data_science/blob/data-sample/student_mat.csv"
   ]
  },
  {
   "cell_type": "code",
   "execution_count": 12,
   "id": "daf3b414",
   "metadata": {},
   "outputs": [
    {
     "data": {
      "text/html": [
       "<div>\n",
       "<style scoped>\n",
       "    .dataframe tbody tr th:only-of-type {\n",
       "        vertical-align: middle;\n",
       "    }\n",
       "\n",
       "    .dataframe tbody tr th {\n",
       "        vertical-align: top;\n",
       "    }\n",
       "\n",
       "    .dataframe thead th {\n",
       "        text-align: right;\n",
       "    }\n",
       "</style>\n",
       "<table border=\"1\" class=\"dataframe\">\n",
       "  <thead>\n",
       "    <tr style=\"text-align: right;\">\n",
       "      <th></th>\n",
       "      <th>studytime</th>\n",
       "      <th>final_score</th>\n",
       "    </tr>\n",
       "  </thead>\n",
       "  <tbody>\n",
       "    <tr>\n",
       "      <th>studytime</th>\n",
       "      <td>1.000000</td>\n",
       "      <td>0.134565</td>\n",
       "    </tr>\n",
       "    <tr>\n",
       "      <th>final_score</th>\n",
       "      <td>0.134565</td>\n",
       "      <td>1.000000</td>\n",
       "    </tr>\n",
       "  </tbody>\n",
       "</table>\n",
       "</div>"
      ],
      "text/plain": [
       "             studytime  final_score\n",
       "studytime     1.000000     0.134565\n",
       "final_score   0.134565     1.000000"
      ]
     },
     "execution_count": 12,
     "metadata": {},
     "output_type": "execute_result"
    }
   ],
   "source": [
    "import pandas as pd\n",
    "df = pd.read_csv('student_mat.csv', header=0)\n",
    "df['final_score'] = df['G1']+df['G2']+df['G3']\n",
    "df = df[['studytime', 'final_score']]\n",
    "df.corr(method=\"pearson\")"
   ]
  },
  {
   "cell_type": "markdown",
   "id": "7ccc3b49",
   "metadata": {},
   "source": [
    "##### It shows a positive correlation with studytime and result\n",
    "___________________________"
   ]
  },
  {
   "cell_type": "markdown",
   "id": "da79f79c",
   "metadata": {},
   "source": [
    "### Q2. Spearman's rank correlation is a measure of the monotonic relationship between two variables. Suppose you have collected data on the amount of sleep individuals get each night and their overall job satisfaction level on a scale of 1 to 10. Calculate the Spearman's rank correlation between these two variables and interpret the result.\n",
    "\n",
    "    - To calculate Spearman's rank correlation between the amount of sleep individuals get each night and their overall job satisfaction level, we need to first rank the data and then apply the formula for Spearman's rank correlation coefficient. The Spearman's rank correlation ranges from -1 to 1, where:\n",
    "\n",
    "     -1 indicates a perfect positive monotonic relationship,\n",
    "     -1 indicates a perfect negative monotonic relationship, and\n",
    "     0 indicates no monotonic relationship (i.e., no linear relationship, but there might be other nonlinear relationships).\n",
    "Let's assume we have the following data for sleep and job satisfaction:"
   ]
  },
  {
   "cell_type": "code",
   "execution_count": 13,
   "id": "615a4d09",
   "metadata": {},
   "outputs": [
    {
     "name": "stdout",
     "output_type": "stream",
     "text": [
      "Spearman's Rank Correlation: 0.95\n"
     ]
    }
   ],
   "source": [
    "# Sample data for demonstration purposes\n",
    "sleep = [7, 5, 6, 8, 5]\n",
    "job_satisfaction = [8, 4, 6, 9, 5]\n",
    "\n",
    "# Rank the data for sleep and job satisfaction\n",
    "ranked_sleep = [sorted(sleep).index(x) + 1 for x in sleep]\n",
    "ranked_job_satisfaction = [sorted(job_satisfaction).index(x) + 1 for x in job_satisfaction]\n",
    "\n",
    "# Calculate Spearman's rank correlation coefficient\n",
    "n = len(sleep)\n",
    "d = sum([(ranked_sleep[i] - ranked_job_satisfaction[i])**2 for i in range(n)])\n",
    "spearman_rank_corr = 1 - (6 * d) / (n * (n**2 - 1))\n",
    "\n",
    "print(\"Spearman's Rank Correlation:\", spearman_rank_corr)\n"
   ]
  },
  {
   "cell_type": "markdown",
   "id": "882249f1",
   "metadata": {},
   "source": [
    "### Q3. Suppose you are conducting a study to examine the relationship between the number of hours of exercise per week and body mass index (BMI) in a sample of adults. You collected data on both variables for 50 participants. Calculate the Pearson correlation coefficient and the Spearman's rank correlation between these two variables and compare the results.\n"
   ]
  },
  {
   "cell_type": "code",
   "execution_count": 15,
   "id": "0a27f12c",
   "metadata": {},
   "outputs": [
    {
     "name": "stdout",
     "output_type": "stream",
     "text": [
      "Pearson Correlation Coefficient: 0.22557824687018468\n",
      "Spearman's Rank Correlation: 0.29049066435084675\n"
     ]
    }
   ],
   "source": [
    "import numpy as np\n",
    "\n",
    "# Sample data for demonstration purposes\n",
    "exercise_hours = [4, 5, 3, 6, 2, 5, 4, 3,  6, 2, 4, 5, 3, 6, 7, 5, 4, 3, 2, 5, 6, 4, 3, 2, 5, 6, 4, 3, 2, 5, 6, 4, 3, 2, 5, 6, 4, 3, 2, 5, 6, 4, 3, 2, 5, 6, 4, 3]\n",
    "bmi = [23.5, 25.2, 22.1, 26.8, 21.0, 25.0, 23.8, 22.5, 27.2, 25.8, 20.5, 23.2, 25.0, 22.7, 26.5, 27.8, 25.3, 24.0, 22.6, 20.3, 25.5, 26.6, 24.5, 22.8, 20.4, 25.7, 26.3, 24.6, 23.0, 20.1, 25.8, 26.0, 24.9, 23.2, 20.2, 26.0, 25.9, 24.4, 23.5, 20.6, 25.6, 26.2, 24.3, 23.8, 20.7, 25.4, 26.4, 24.1]\n",
    "\n",
    "# Calculate the Pearson correlation coefficient\n",
    "pearson_corr = np.corrcoef(exercise_hours, bmi)[0, 1]\n",
    "\n",
    "# Calculate the Spearman's rank correlation coefficient\n",
    "ranked_exercise_hours = np.argsort(np.argsort(exercise_hours))\n",
    "ranked_bmi = np.argsort(np.argsort(bmi))\n",
    "spearman_corr = np.corrcoef(ranked_exercise_hours, ranked_bmi)[0, 1]\n",
    "\n",
    "print(\"Pearson Correlation Coefficient:\", pearson_corr)\n",
    "print(\"Spearman's Rank Correlation:\", spearman_corr)\n"
   ]
  },
  {
   "cell_type": "markdown",
   "id": "3d6392ec",
   "metadata": {},
   "source": [
    "### Q4. A researcher is interested in examining the relationship between the number of hours individuals spend watching television per day and their level of physical activity. The researcher collected data on both variables from a sample of 50 participants. Calculate the Pearson correlation coefficient between these two variables."
   ]
  },
  {
   "cell_type": "code",
   "execution_count": 50,
   "id": "3c7188df",
   "metadata": {},
   "outputs": [
    {
     "name": "stdout",
     "output_type": "stream",
     "text": [
      "Pearson Correlation Coefficient: -0.10343838295508527\n"
     ]
    }
   ],
   "source": [
    "import random\n",
    "import numpy as np\n",
    "\n",
    "# Generate random data for the number of hours of television watching (between 1 and 5 hours)\n",
    "tv_watching_hours = [random.uniform(1, 5) for _ in range(50)]\n",
    "\n",
    "# Generate random data for the level of physical activity (between 0 and 10, assuming a scale from 0 to 10)\n",
    "physical_activity_level = [random.uniform(0, 10) for _ in range(50)]\n",
    "\n",
    "# Calculate the Pearson correlation coefficient\n",
    "pearson_corr = np.corrcoef(tv_watching_hours, physical_activity_level)[0, 1]\n",
    "\n",
    "print(\"Pearson Correlation Coefficient:\", pearson_corr)\n"
   ]
  },
  {
   "cell_type": "markdown",
   "id": "fdac19f2",
   "metadata": {},
   "source": [
    "### Q5. A survey was conducted to examine the relationship between age and preference for a particular brand of soft drink. The survey results are shown below:\n",
    "\n",
    "\n",
    "|Age(Years)|Soft drink Preference|\n",
    "|-|-|\n",
    "|25 |Coke|\n",
    "25| Coke\n",
    "42| Pepsi\n",
    "37|Mountain dew\n",
    "19|Coke\n",
    "31|Pepsi\n",
    "28|Coke\n"
   ]
  },
  {
   "cell_type": "code",
   "execution_count": 51,
   "id": "a37b90e2",
   "metadata": {},
   "outputs": [
    {
     "data": {
      "text/html": [
       "<div>\n",
       "<style scoped>\n",
       "    .dataframe tbody tr th:only-of-type {\n",
       "        vertical-align: middle;\n",
       "    }\n",
       "\n",
       "    .dataframe tbody tr th {\n",
       "        vertical-align: top;\n",
       "    }\n",
       "\n",
       "    .dataframe thead th {\n",
       "        text-align: right;\n",
       "    }\n",
       "</style>\n",
       "<table border=\"1\" class=\"dataframe\">\n",
       "  <thead>\n",
       "    <tr style=\"text-align: right;\">\n",
       "      <th></th>\n",
       "      <th>Age(Years)</th>\n",
       "      <th>soft drink pref</th>\n",
       "    </tr>\n",
       "  </thead>\n",
       "  <tbody>\n",
       "    <tr>\n",
       "      <th>0</th>\n",
       "      <td>25</td>\n",
       "      <td>Coke</td>\n",
       "    </tr>\n",
       "    <tr>\n",
       "      <th>1</th>\n",
       "      <td>25</td>\n",
       "      <td>Coke</td>\n",
       "    </tr>\n",
       "    <tr>\n",
       "      <th>2</th>\n",
       "      <td>42</td>\n",
       "      <td>Mountain dew</td>\n",
       "    </tr>\n",
       "    <tr>\n",
       "      <th>3</th>\n",
       "      <td>37</td>\n",
       "      <td>Pepsi</td>\n",
       "    </tr>\n",
       "    <tr>\n",
       "      <th>4</th>\n",
       "      <td>19</td>\n",
       "      <td>Coke</td>\n",
       "    </tr>\n",
       "    <tr>\n",
       "      <th>5</th>\n",
       "      <td>31</td>\n",
       "      <td>Pepsi</td>\n",
       "    </tr>\n",
       "    <tr>\n",
       "      <th>6</th>\n",
       "      <td>28</td>\n",
       "      <td>Coke</td>\n",
       "    </tr>\n",
       "  </tbody>\n",
       "</table>\n",
       "</div>"
      ],
      "text/plain": [
       "   Age(Years) soft drink pref\n",
       "0          25            Coke\n",
       "1          25            Coke\n",
       "2          42    Mountain dew\n",
       "3          37           Pepsi\n",
       "4          19            Coke\n",
       "5          31           Pepsi\n",
       "6          28            Coke"
      ]
     },
     "execution_count": 51,
     "metadata": {},
     "output_type": "execute_result"
    }
   ],
   "source": [
    "df = pd.DataFrame({'Age(Years)':[25,25, 42, 37, 19,31,28],\n",
    "                  'soft drink pref':[\"Coke\",\"Coke\", \"Mountain dew\",\"Pepsi\", \"Coke\",\"Pepsi\",\"Coke\"]})\n",
    "df"
   ]
  },
  {
   "cell_type": "code",
   "execution_count": 52,
   "id": "ef65be07",
   "metadata": {},
   "outputs": [
    {
     "name": "stdout",
     "output_type": "stream",
     "text": [
      "   Age(Years) soft drink pref  pref_encoded\n",
      "0          25            Coke         24.25\n",
      "1          25            Coke         24.25\n",
      "2          42    Mountain dew         42.00\n",
      "3          37           Pepsi         34.00\n",
      "4          19            Coke         24.25\n",
      "5          31           Pepsi         34.00\n",
      "6          28            Coke         24.25\n"
     ]
    }
   ],
   "source": [
    "# from sklearn.preprocessing import TargetEncoder\n",
    "# Calculate the mean 'Age(Years)' for each category in 'soft drink pref'\n",
    "mean_age_by_drink_pref = df.groupby('soft drink pref')['Age(Years)'].mean()\n",
    "\n",
    "# Map the mean values back to the original DataFrame\n",
    "df['pref_encoded'] = df['soft drink pref'].map(mean_age_by_drink_pref)\n",
    "\n",
    "print(df)"
   ]
  },
  {
   "cell_type": "code",
   "execution_count": 56,
   "id": "060ff1cf",
   "metadata": {},
   "outputs": [
    {
     "data": {
      "text/html": [
       "<div>\n",
       "<style scoped>\n",
       "    .dataframe tbody tr th:only-of-type {\n",
       "        vertical-align: middle;\n",
       "    }\n",
       "\n",
       "    .dataframe tbody tr th {\n",
       "        vertical-align: top;\n",
       "    }\n",
       "\n",
       "    .dataframe thead th {\n",
       "        text-align: right;\n",
       "    }\n",
       "</style>\n",
       "<table border=\"1\" class=\"dataframe\">\n",
       "  <thead>\n",
       "    <tr style=\"text-align: right;\">\n",
       "      <th></th>\n",
       "      <th>Age(Years)</th>\n",
       "      <th>pref_encoded</th>\n",
       "    </tr>\n",
       "  </thead>\n",
       "  <tbody>\n",
       "    <tr>\n",
       "      <th>Age(Years)</th>\n",
       "      <td>1.000000</td>\n",
       "      <td>0.913669</td>\n",
       "    </tr>\n",
       "    <tr>\n",
       "      <th>pref_encoded</th>\n",
       "      <td>0.913669</td>\n",
       "      <td>1.000000</td>\n",
       "    </tr>\n",
       "  </tbody>\n",
       "</table>\n",
       "</div>"
      ],
      "text/plain": [
       "              Age(Years)  pref_encoded\n",
       "Age(Years)      1.000000      0.913669\n",
       "pref_encoded    0.913669      1.000000"
      ]
     },
     "execution_count": 56,
     "metadata": {},
     "output_type": "execute_result"
    }
   ],
   "source": [
    "df = df[['Age(Years)', 'pref_encoded']]\n",
    "df.corr()"
   ]
  },
  {
   "cell_type": "markdown",
   "id": "a1aecdb3",
   "metadata": {},
   "source": [
    "### Q6. A company is interested in examining the relationship between the number of sales calls made per day and the number of sales made per week. The company collected data on both variables from a sample of 30 sales representatives. Calculate the Pearson correlation coefficient between these two variables."
   ]
  },
  {
   "cell_type": "code",
   "execution_count": 57,
   "id": "9acfb5af",
   "metadata": {},
   "outputs": [
    {
     "name": "stdout",
     "output_type": "stream",
     "text": [
      "Pearson Correlation Coefficient: -0.22399844990321968\n"
     ]
    }
   ],
   "source": [
    "import random\n",
    "import numpy as np\n",
    "\n",
    "# Generate random data for the number of sales calls per day (between 20 and 50 calls)\n",
    "sales_calls_per_day = [random.uniform(20, 50) for _ in range(30)]\n",
    "\n",
    "# Generate random data for the number of sales per week (between 5 and 15 sales)\n",
    "sales_per_week = [random.uniform(5, 15) for _ in range(30)]\n",
    "\n",
    "# Calculate the Pearson correlation coefficient\n",
    "pearson_corr = np.corrcoef(sales_calls_per_day, sales_per_week)[0, 1]\n",
    "\n",
    "print(\"Pearson Correlation Coefficient:\", pearson_corr)\n"
   ]
  },
  {
   "cell_type": "code",
   "execution_count": null,
   "id": "694f6fc0",
   "metadata": {},
   "outputs": [],
   "source": []
  }
 ],
 "metadata": {
  "kernelspec": {
   "display_name": "Python 3 (ipykernel)",
   "language": "python",
   "name": "python3"
  },
  "language_info": {
   "codemirror_mode": {
    "name": "ipython",
    "version": 3
   },
   "file_extension": ".py",
   "mimetype": "text/x-python",
   "name": "python",
   "nbconvert_exporter": "python",
   "pygments_lexer": "ipython3",
   "version": "3.10.9"
  }
 },
 "nbformat": 4,
 "nbformat_minor": 5
}
