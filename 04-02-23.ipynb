{
 "cells": [
  {
   "cell_type": "markdown",
   "id": "3c845a33-3025-4ad7-bab1-a147555031f6",
   "metadata": {},
   "source": [
    "Q1. Create a python program to sort the given list of tuples based on integer value using a\n",
    "lambda function."
   ]
  },
  {
   "cell_type": "code",
   "execution_count": 15,
   "id": "a5a9f89c-3b46-4f15-9347-e28acd82bf73",
   "metadata": {},
   "outputs": [
    {
     "data": {
      "text/plain": [
       "[('Virat Kohli', 24936),\n",
       " ('Jack Kallis', 25534),\n",
       " ('Ricky Ponting', 27483),\n",
       " ('Sachin Tendulkar', 34357)]"
      ]
     },
     "execution_count": 15,
     "metadata": {},
     "output_type": "execute_result"
    }
   ],
   "source": [
    "l1 = [('Sachin Tendulkar', 34357), ('Ricky Ponting', 27483), ('Jack Kallis', 25534), ('Virat Kohli', 24936)]\n",
    "l1.sort(key=lambda x : x[1])\n",
    "l1"
   ]
  },
  {
   "cell_type": "markdown",
   "id": "48c6d96c-ea6d-4d82-9eae-4b81885ee61e",
   "metadata": {},
   "source": [
    "Q2. Write a Python Program to find the squares of all the numbers in the given list of integers using\n",
    "lambda and map functions."
   ]
  },
  {
   "cell_type": "code",
   "execution_count": 16,
   "id": "24047aa9-16ae-4d63-90de-fdc777cfd299",
   "metadata": {},
   "outputs": [
    {
     "data": {
      "text/plain": [
       "[1, 4, 9, 16, 25, 36, 49, 64, 81, 100]"
      ]
     },
     "execution_count": 16,
     "metadata": {},
     "output_type": "execute_result"
    }
   ],
   "source": [
    "l2 = [1, 2, 3, 4, 5, 6, 7, 8, 9, 10]\n",
    "list(map(lambda x : x**2, l2))"
   ]
  },
  {
   "cell_type": "markdown",
   "id": "12a7b996-6d01-4946-bb55-41ba500cfa36",
   "metadata": {},
   "source": [
    "Q3. Write a python program to convert the given list of integers into a tuple of strings. Use map and\n",
    "lambda functions\n",
    "Given String: [1, 2, 3, 4, 5, 6, 7, 8, 9, 10]\n",
    "Expected output: ('1', '2', '3', '4', '5', '6', '7', '8', '9', '10')"
   ]
  },
  {
   "cell_type": "code",
   "execution_count": 18,
   "id": "5e85c8d6-3b21-4c2c-b5f8-eb957132acd9",
   "metadata": {},
   "outputs": [
    {
     "data": {
      "text/plain": [
       "('1', '2', '3', '4', '5', '6', '7', '8', '9', '10')"
      ]
     },
     "execution_count": 18,
     "metadata": {},
     "output_type": "execute_result"
    }
   ],
   "source": [
    "st = [1, 2, 3, 4, 5, 6, 7, 8, 9, 10]\n",
    "tuple(map(lambda x : str(x), st))"
   ]
  },
  {
   "cell_type": "markdown",
   "id": "c1d7c2fd-da45-4ee6-b777-5b7cc464d12c",
   "metadata": {},
   "source": [
    "Q4. Write a python program using reduce function to compute the product of a list containing numbers\n",
    "from 1 to 25."
   ]
  },
  {
   "cell_type": "code",
   "execution_count": 4,
   "id": "7c9aea24-9682-4115-9fb2-19d42c01e8c9",
   "metadata": {},
   "outputs": [
    {
     "data": {
      "text/plain": [
       "620448401733239439360000"
      ]
     },
     "execution_count": 4,
     "metadata": {},
     "output_type": "execute_result"
    }
   ],
   "source": [
    "from functools import reduce\n",
    "l19 = [i for i in range(1,25)]\n",
    "reduce(lambda x,y: x*y, l19)"
   ]
  },
  {
   "cell_type": "markdown",
   "id": "7a0089f9-035a-456c-b2bd-6b56ed150493",
   "metadata": {},
   "source": [
    "Q5. Write a python program to filter the numbers in a given list that are divisible by 2 and 3 using the\n",
    "filter function."
   ]
  },
  {
   "cell_type": "code",
   "execution_count": 8,
   "id": "42ead73b-ef46-4d68-a127-c10e59af3298",
   "metadata": {},
   "outputs": [
    {
     "data": {
      "text/plain": [
       "[6, 60, 90, 120]"
      ]
     },
     "execution_count": 8,
     "metadata": {},
     "output_type": "execute_result"
    }
   ],
   "source": [
    "q5 = [2, 3, 6, 9, 27, 60, 90, 120, 55, 46]\n",
    "list(filter(lambda x: x%2 == 0 and x%3 ==0, q5))"
   ]
  },
  {
   "cell_type": "markdown",
   "id": "e2f44093-43b9-45d6-bf10-ff0d08da736f",
   "metadata": {},
   "source": [
    "Q6. Write a python program to find palindromes in the given list of strings using lambda and filter\n",
    "function."
   ]
  },
  {
   "cell_type": "code",
   "execution_count": 15,
   "id": "eaf1ecf7-80cd-464a-b2b3-9ac60f6f1f44",
   "metadata": {},
   "outputs": [
    {
     "data": {
      "text/plain": [
       "'p y t h o n'"
      ]
     },
     "execution_count": 15,
     "metadata": {},
     "output_type": "execute_result"
    }
   ],
   "source": [
    "q5 = ['python', 'php', 'aba', 'radar', 'level']\n",
    "list(reversed(q5[0]))\n",
    "\" \".join(q5[0])\n",
    "list(filter(lambda x: x == ''.join(reversed(x))))"
   ]
  },
  {
   "cell_type": "code",
   "execution_count": null,
   "id": "353fab52-747f-4fcb-87a7-ee0a012b4633",
   "metadata": {},
   "outputs": [],
   "source": []
  }
 ],
 "metadata": {
  "kernelspec": {
   "display_name": "Python 3 (ipykernel)",
   "language": "python",
   "name": "python3"
  },
  "language_info": {
   "codemirror_mode": {
    "name": "ipython",
    "version": 3
   },
   "file_extension": ".py",
   "mimetype": "text/x-python",
   "name": "python",
   "nbconvert_exporter": "python",
   "pygments_lexer": "ipython3",
   "version": "3.10.8"
  }
 },
 "nbformat": 4,
 "nbformat_minor": 5
}
