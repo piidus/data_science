{
 "cells": [
  {
   "cell_type": "markdown",
   "id": "429dd0ee-a73c-4509-865c-3c8df3e5aaab",
   "metadata": {},
   "source": [
    "Q1. You are writing code for a company. The requirement of the company is that you create a python\n",
    "function that will check whether the password entered by the user is correct or not. The function should\n",
    "take the password as input and return the string “Valid Password” if the entered password follows the\n",
    "below-given password guidelines else it should return “Invalid Password”.\n",
    "\n",
    "Note: 1. The Password should contain at least two uppercase letters and at least two lowercase letters.\n",
    "\n",
    "2. The Password should contain at least a number and three special characters.\n",
    "\n",
    "3. The length of the password should be 10 characters long."
   ]
  },
  {
   "cell_type": "code",
   "execution_count": 22,
   "id": "d3058b7f-5d78-4065-9586-72795916b7a1",
   "metadata": {},
   "outputs": [
    {
     "name": "stdin",
     "output_type": "stream",
     "text": [
      "Plese Enter Your Password AVG52@#$2ase\n"
     ]
    },
    {
     "name": "stdout",
     "output_type": "stream",
     "text": [
      "Valid Password\n"
     ]
    }
   ],
   "source": [
    "''' \n",
    "    Password Checking Function\n",
    "'''\n",
    "\n",
    "import string\n",
    "password_input = input('Plese Enter Your Password')\n",
    "\n",
    "def checker(data):\n",
    "    if len(data)>10:\n",
    "        '''The length of the password should be 10 characters long.'''\n",
    "        special_char = list(i for i in data if i in string.punctuation)\n",
    "        '''list of special charter in passworrd'''\n",
    "        number_list = list(i for i in data if i in string.digits)\n",
    "        '''list of digit in passworrd'''\n",
    "        upper_list =  list(i for i in data if i in string.ascii_uppercase)\n",
    "        '''list of UpperCase Letter in passworrd'''\n",
    "        lower_list =  list(i for i in data if i in string.ascii_lowercase)\n",
    "        '''list of Lower Case charter in passworrd'''\n",
    "        \n",
    "        if len(special_char)>= 3 and len(number_list)>0 and len(upper_list)>=2 and len(lower_list)>=2:\n",
    "            print('Valid Password')\n",
    "        else:\n",
    "            print(\"Invalid Password\")\n",
    "    else:\n",
    "        print(\"Invalid Password\")\n",
    "    \n",
    "checker(password_input)"
   ]
  },
  {
   "cell_type": "code",
   "execution_count": null,
   "id": "a71a8051-98d5-4a8e-ae77-8a95035432c1",
   "metadata": {},
   "outputs": [],
   "source": []
  },
  {
   "cell_type": "markdown",
   "id": "0a35559e-9fb0-4118-a6a1-848bd9ea9132",
   "metadata": {},
   "source": [
    "______________________________"
   ]
  },
  {
   "cell_type": "markdown",
   "id": "95c22c10-22d8-48e3-aa5c-29b034d3595f",
   "metadata": {},
   "source": [
    "Q2. Solve the below-given questions using at least one of the following:\n",
    "    \n",
    "1. Lambda function\n",
    "2. Filter function\n",
    "3. Zap function\n",
    "4. List Comprehension\n",
    "\n",
    "    B Check if the string starts with a particular letter\n",
    "    \n",
    "    B Check if the string is numeric\n",
    "    \n",
    "    B Sort a list of tuples having fruit names and their quantit    \n",
    "        [(\"mango\",99),(\"orange\",80), (\"grapes\", 1000)\n",
    "        \n",
    "        \n",
    "    Find the squares of numbers from 1 to 10\n",
    "    \n",
    "    B Find the cube root of numbers from 1 to 10Y\n",
    "    \n",
    "    B Check if a given number is evenY\n",
    "    \n",
    "    B Filter odd numbers from the given list.\n",
    "        [1,2,3,4,5,6,7,8,9,10-\n",
    "        \n",
    "    B Sort a list of integers into positive and negative integers lists.\n",
    "        [1,2,3,4,5,6,-1,-2,-3,-4,-5,0]\n"
   ]
  },
  {
   "cell_type": "code",
   "execution_count": 37,
   "id": "acce2d48-c607-472a-b217-759cb3023b65",
   "metadata": {},
   "outputs": [
    {
     "name": "stdin",
     "output_type": "stream",
     "text": [
      "Checking Letter  s\n",
      "Please Enter Your Statement : Sudiip\n"
     ]
    },
    {
     "data": {
      "text/plain": [
       "True"
      ]
     },
     "execution_count": 37,
     "metadata": {},
     "output_type": "execute_result"
    }
   ],
   "source": [
    "'''Check if the string starts with a particular letter'''\n",
    "\n",
    "check_letter = input(\"Checking Letter \")\n",
    "answer = lambda x : True if x[0].lower() == check_letter.lower() else False\n",
    "answer(input(\"Please Enter Your Statement :\"))"
   ]
  },
  {
   "cell_type": "code",
   "execution_count": 11,
   "id": "eacc8558-4136-40dc-8faf-3887c600bb45",
   "metadata": {},
   "outputs": [
    {
     "name": "stdin",
     "output_type": "stream",
     "text": [
      "Please Enter Your Statement : msksk1\n"
     ]
    },
    {
     "name": "stdout",
     "output_type": "stream",
     "text": [
      "True\n"
     ]
    }
   ],
   "source": [
    "'''Check if the string is numeric'''\n",
    "numeric_checker = input(\"Please Enter Your Statement :\")\n",
    "answer = [i for i in numeric_checker if i.isdigit()]\n",
    "if len(answer)>0:\n",
    "    print(True)\n",
    "else:\n",
    "    print(False)"
   ]
  },
  {
   "cell_type": "code",
   "execution_count": 18,
   "id": "a32aac95-5098-4b90-8127-81e443da942e",
   "metadata": {},
   "outputs": [
    {
     "name": "stdout",
     "output_type": "stream",
     "text": [
      "[('grapes', 1000), ('mango', 99), ('orange', 80)]\n"
     ]
    }
   ],
   "source": [
    "'''Sort a list of tuples having fruit names and their quantit\n",
    "[(\"mango\",99),(\"orange\",80), (\"grapes\", 1000)'''\n",
    "\n",
    "list1 = [(\"mango\",99),(\"orange\",80), (\"grapes\", 1000)]\n",
    "list1.sort(key = lambda x: x[0])\n",
    "print(list1)"
   ]
  },
  {
   "cell_type": "code",
   "execution_count": 52,
   "id": "be49c46d-c946-44d2-b5f2-c130ba68e195",
   "metadata": {},
   "outputs": [
    {
     "name": "stdout",
     "output_type": "stream",
     "text": [
      "[1, 4, 9]\n"
     ]
    }
   ],
   "source": [
    "'''Find the squares of numbers from 1 to 10'''\n",
    "import math\n",
    "l1 =  list(range(1,11))\n",
    "\n",
    "l2 = [i for i in l1 if math.sqrt(i)%1==0]    \n",
    "print(l2)\n"
   ]
  },
  {
   "cell_type": "code",
   "execution_count": 54,
   "id": "4ae8cdcc-bb98-4abe-a89a-4721c441808f",
   "metadata": {},
   "outputs": [
    {
     "name": "stdout",
     "output_type": "stream",
     "text": [
      "[1, 8, 27, 64, 125, 216, 343, 512, 729, 1000]\n"
     ]
    }
   ],
   "source": [
    "''' Find the cube root of numbers from 1 to 10'''\n",
    "import math\n",
    "l1 =  list(range(1,11))\n",
    "\n",
    "l2 = [i**3 for i in l1]    \n",
    "print(l2)"
   ]
  },
  {
   "cell_type": "code",
   "execution_count": 75,
   "id": "1ffcb0bb-b25e-4a4a-9ddf-9996ea9cdcb7",
   "metadata": {},
   "outputs": [
    {
     "data": {
      "text/plain": [
       "12"
      ]
     },
     "execution_count": 75,
     "metadata": {},
     "output_type": "execute_result"
    }
   ],
   "source": [
    "'''Check if a given number is even'''\n",
    "number = 12\n",
    "l = lambda x: x if x%2 == 0 else False\n",
    "l(number)"
   ]
  },
  {
   "cell_type": "code",
   "execution_count": 77,
   "id": "2d558781-f261-47d8-af05-655dc7c86186",
   "metadata": {},
   "outputs": [
    {
     "name": "stdout",
     "output_type": "stream",
     "text": [
      "[1, 3, 5, 7, 9]\n"
     ]
    }
   ],
   "source": [
    "'''Filter odd numbers from the given list. [1,2,3,4,5,6,7,8,9,10]'''\n",
    "\n",
    "given_list = [1,2,3,4,5,6,7,8,9,10]\n",
    "output = [i for i in given_list if i%2 != 0]\n",
    "\n",
    "print(output)"
   ]
  },
  {
   "cell_type": "code",
   "execution_count": 78,
   "id": "f2ba0cb2-b38a-4d9a-bcfd-c4334e287543",
   "metadata": {},
   "outputs": [],
   "source": [
    "'''Sort a list of integers into positive and negative integers lists. [1,2,3,4,5,6,-1,-2,-3,-4,-5,0]'''\n",
    "\n",
    "give_list =  [1,2,3,4,5,6,-1,-2,-3,-4,-5,0]\n",
    "result = give_list.sort()\n",
    "print()"
   ]
  },
  {
   "cell_type": "code",
   "execution_count": null,
   "id": "58ca0e27-1998-4cd7-9f19-bc1c72df5ac7",
   "metadata": {},
   "outputs": [],
   "source": []
  }
 ],
 "metadata": {
  "kernelspec": {
   "display_name": "Python 3 (ipykernel)",
   "language": "python",
   "name": "python3"
  },
  "language_info": {
   "codemirror_mode": {
    "name": "ipython",
    "version": 3
   },
   "file_extension": ".py",
   "mimetype": "text/x-python",
   "name": "python",
   "nbconvert_exporter": "python",
   "pygments_lexer": "ipython3",
   "version": "3.10.8"
  },
  "widgets": {
   "application/vnd.jupyter.widget-state+json": {
    "state": {},
    "version_major": 2,
    "version_minor": 0
   }
  }
 },
 "nbformat": 4,
 "nbformat_minor": 5
}
