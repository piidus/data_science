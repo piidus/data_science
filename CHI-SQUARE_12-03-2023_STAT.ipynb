{
 "cells": [
  {
   "cell_type": "code",
   "execution_count": 1,
   "id": "a0769d38",
   "metadata": {},
   "outputs": [],
   "source": [
    "import scipy.stats as stat\n",
    "import numpy as np\n",
    "import pandas as pd"
   ]
  },
  {
   "cell_type": "markdown",
   "id": "aecff9d6",
   "metadata": {},
   "source": [
    "### Q1. Calculate the 95% confidence interval for a sample of data with a mean of 50 and a standard deviation of 5 using Python. Interpret the results."
   ]
  },
  {
   "cell_type": "code",
   "execution_count": 2,
   "id": "66260143",
   "metadata": {},
   "outputs": [
    {
     "name": "stdout",
     "output_type": "stream",
     "text": [
      "Sample Data : [42.74847038 51.23089056 45.32354674 45.46869121 50.56278551]\n",
      "Standard Error : 0.5\n",
      "1.9842169515086827\n",
      "95% confidence interval: (49.00789152424566, 50.99210847575434)\n"
     ]
    }
   ],
   "source": [
    "# sample data\n",
    "data = 100\n",
    "mean = 50\n",
    "std_dev = 5\n",
    "confidence_level = 0.95\n",
    "# Generate sample data\n",
    "sample_data = np.random.normal(mean, std_dev, data)\n",
    "print('Sample Data :', sample_data[:5])\n",
    "\n",
    "# calculate standard error\n",
    "standard_error = std_dev/(len(sample_data)**0.5)\n",
    "print('Standard Error :',standard_error)\n",
    "# # calculate t-value\n",
    "t_value = stat.t.ppf((1 + confidence_level) / 2, data - 1)\n",
    "print(t_value)\n",
    "\n",
    "lower_bound = mean - t_value * standard_error # calculate lower bound\n",
    "upper_bound = mean + t_value * standard_error # calculate upper bound\n",
    "\n",
    "print(\"95% confidence interval:\", (lower_bound, upper_bound))\n"
   ]
  },
  {
   "cell_type": "markdown",
   "id": "e59dc1d3",
   "metadata": {},
   "source": [
    "### Q2. Conduct a chi-square goodness of fit test to determine if the distribution of colors of M&Ms in a bag matches the expected distribution of 20% blue, 20% orange, 20% green, 10% yellow, 10% red, and 20% brown. Use Python to perform the test with a significance level of 0.05."
   ]
  },
  {
   "cell_type": "code",
   "execution_count": 3,
   "id": "b10c8012",
   "metadata": {},
   "outputs": [
    {
     "name": "stdout",
     "output_type": "stream",
     "text": [
      "Observed Values: 100\n",
      "Expected Values: [20, 10, 10, 20, 20, 20]\n",
      "Chi-Square Statistic: 30.0\n",
      "Critical Value : 43.77297182574219\n"
     ]
    }
   ],
   "source": [
    "# Generate the observed values for each category\n",
    "observed_values = [20, 20, 20,10,10,20]\n",
    "\n",
    "# Calculate the expected values assuming a uniform distribution\n",
    "\n",
    "expected_values = list(reversed(observed_values))\n",
    "\n",
    "# Calculate the chi-square statistic\n",
    "chi2_statistic, p_value = stat.chisquare(observed_values, expected_values)\n",
    "\n",
    "# Find the critical value\n",
    "significance_value = 0.05\n",
    "dof = len(observed_values)-1\n",
    "critical_value = stat.chi2.ppf(1-significance_value, chi2_statistic)\n",
    "\n",
    "print(\"Observed Values:\", sum(observed_values))\n",
    "print(\"Expected Values:\", (expected_values))\n",
    "print(\"Chi-Square Statistic:\", chi2_statistic)\n",
    "print('Critical Value :', critical_value)"
   ]
  },
  {
   "cell_type": "markdown",
   "id": "30f29378",
   "metadata": {},
   "source": [
    "### Q3. Use Python to calculate the chi-square statistic and p-value for a contingency table with the following data:\n",
    "\n",
    "|         |Group A  |  Group B|\n",
    "|:----------|:--------:|---------:|\n",
    "| Outcome 1  | 20          |15|\n",
    "|Outcome 2   |10          |25|\n",
    "|Outcome 3   |15          |20|\n",
    "\n",
    "\n",
    "  - Interpret the results of the test.\n"
   ]
  },
  {
   "cell_type": "code",
   "execution_count": 4,
   "id": "6bdd9db5",
   "metadata": {},
   "outputs": [
    {
     "data": {
      "text/html": [
       "<div>\n",
       "<style scoped>\n",
       "    .dataframe tbody tr th:only-of-type {\n",
       "        vertical-align: middle;\n",
       "    }\n",
       "\n",
       "    .dataframe tbody tr th {\n",
       "        vertical-align: top;\n",
       "    }\n",
       "\n",
       "    .dataframe thead th {\n",
       "        text-align: right;\n",
       "    }\n",
       "</style>\n",
       "<table border=\"1\" class=\"dataframe\">\n",
       "  <thead>\n",
       "    <tr style=\"text-align: right;\">\n",
       "      <th></th>\n",
       "      <th>Group A</th>\n",
       "      <th>Group B</th>\n",
       "    </tr>\n",
       "  </thead>\n",
       "  <tbody>\n",
       "    <tr>\n",
       "      <th>out 1</th>\n",
       "      <td>20</td>\n",
       "      <td>15</td>\n",
       "    </tr>\n",
       "    <tr>\n",
       "      <th>out 2</th>\n",
       "      <td>10</td>\n",
       "      <td>25</td>\n",
       "    </tr>\n",
       "    <tr>\n",
       "      <th>out 3</th>\n",
       "      <td>15</td>\n",
       "      <td>20</td>\n",
       "    </tr>\n",
       "  </tbody>\n",
       "</table>\n",
       "</div>"
      ],
      "text/plain": [
       "       Group A  Group B\n",
       "out 1       20       15\n",
       "out 2       10       25\n",
       "out 3       15       20"
      ]
     },
     "execution_count": 4,
     "metadata": {},
     "output_type": "execute_result"
    }
   ],
   "source": [
    "raw_data = [[20,15],[10,25], [15,20]]\n",
    "df = pd.DataFrame(raw_data, columns=['Group A', 'Group B'], index = ['out 1', 'out 2', 'out 3'])\n",
    "df"
   ]
  },
  {
   "cell_type": "code",
   "execution_count": 9,
   "id": "578c1655",
   "metadata": {},
   "outputs": [
    {
     "name": "stdout",
     "output_type": "stream",
     "text": [
      "Observed Values: 35\n",
      "Expected Values: [10, 25]\n",
      "Chi-Square Statistic: 14.0\n",
      "Critical Value : 23.684791304840576\n",
      "Observed Values: 35\n",
      "Expected Values: [15, 20]\n",
      "Chi-Square Statistic: 2.916666666666667\n",
      "Critical Value : 7.669757292222026\n",
      "Observed Values: 35\n",
      "Expected Values: [15, 20]\n",
      "Chi-Square Statistic: 2.916666666666667\n",
      "Critical Value : 7.669757292222026\n"
     ]
    }
   ],
   "source": [
    "# Convert dataframe rows in list\n",
    "data1, data2, data3 = [df.iloc[i, :].values.flatten().tolist() for i in range(len(df))]\n",
    "# data1 = df.iloc[0, :].values.flatten().tolist()\n",
    "data1, data2, data3\n",
    "\n",
    "def chi_square_test(observed_values, expected_values):\n",
    "    # Calculate the chi-square statistic\n",
    "    chi2_statistic, p_value = stat.chisquare(observed_values, expected_values)\n",
    "\n",
    "    # Find the critical value\n",
    "    significance_value = 0.05\n",
    "    dof = len(observed_values)-1\n",
    "    critical_value = stat.chi2.ppf(1-significance_value, chi2_statistic)\n",
    "\n",
    "    print(\"Observed Values:\", sum(observed_values))\n",
    "    print(\"Expected Values:\", (expected_values))\n",
    "    print(\"Chi-Square Statistic:\", chi2_statistic)\n",
    "    print('Critical Value :', critical_value)\n",
    "    \n",
    "first_result = chi_square_test(data1, data2)\n",
    "second_result = chi_square_test(data1, data3)\n",
    "third_result = chi_square_test(data2, data3)"
   ]
  },
  {
   "cell_type": "markdown",
   "id": "eca973b4",
   "metadata": {},
   "source": [
    "### Q4. A study of the prevalence of smoking in a population of 500 individuals found that 60 individuals smoked. Use Python to calculate the 95% confidence interval for the true proportion of individuals in the population who smoke."
   ]
  },
  {
   "cell_type": "markdown",
   "id": "4ed023b7",
   "metadata": {},
   "source": [
    "To calculate the 95% confidence interval for the true proportion of individuals in the population who smoke, we can use the following formula:\n",
    "\n",
    "CI = p ± z*(sqrt(p*(1-p)/n))\n",
    "\n",
    "where CI is the confidence interval, p is the sample proportion, z is the z-score for the desired confidence level (1.96 for 95% confidence), and n is the sample size.\n",
    "\n",
    "In this case, we have:\n",
    "\n",
    "p = 60/500 = 0.12\n",
    "z = 1.96\n",
    "n = 500\n",
    "\n",
    "Substituting these values into the formula, we get:\n",
    "\n",
    "CI = 0.12 ± 1.96*(sqrt(0.12*(1-0.12)/500))\n",
    "\n",
    "Simplifying this expression, we get:\n",
    "\n",
    "CI = 0.12 ± 0.043\n",
    "\n",
    "Therefore, the 95% confidence interval for the true proportion of individuals in the population who smoke is (0.077, 0.163). This means that we can be 95% confident that the true proportion of individuals in the population who smoke falls between 7.7% and 16.3%."
   ]
  },
  {
   "cell_type": "code",
   "execution_count": 10,
   "id": "c7e7e4e3",
   "metadata": {},
   "outputs": [
    {
     "name": "stdout",
     "output_type": "stream",
     "text": [
      "The 95% confidence interval for the proportion of individuals who smoke is (0.092, 0.148)\n"
     ]
    }
   ],
   "source": [
    "import math\n",
    "\n",
    "n = 500\n",
    "p = 60 / n\n",
    "# z-score for 95% confidence level\n",
    "z = 1.96\n",
    "\n",
    "se = math.sqrt(p * (1 - p) / n)\n",
    "lower_bound = p - z * se\n",
    "upper_bound = p + z * se\n",
    "\n",
    "print(f\"The 95% confidence interval for the proportion of individuals who smoke is ({lower_bound:.3f}, {upper_bound:.3f})\")\n"
   ]
  },
  {
   "cell_type": "markdown",
   "id": "77910cd2",
   "metadata": {},
   "source": [
    "### Q5. Calculate the 90% confidence interval for a sample of data with a mean of 75 and a standard deviation of 12 using Python. Interpret the results."
   ]
  },
  {
   "cell_type": "code",
   "execution_count": 11,
   "id": "1f5abd5d",
   "metadata": {},
   "outputs": [
    {
     "name": "stdout",
     "output_type": "stream",
     "text": [
      "The 90% confidence interval is (72.15, 77.85)\n"
     ]
    }
   ],
   "source": [
    "import scipy.stats as stats\n",
    "\n",
    "n = 50\n",
    "mean = 75\n",
    "std_dev = 12\n",
    "alpha = 0.1\n",
    "\n",
    "# Calculate standard error\n",
    "std_err = std_dev / (n ** 0.5)\n",
    "\n",
    "# Calculate the t-value\n",
    "t_value = stats.t.ppf(1 - alpha / 2, n - 1)\n",
    "\n",
    "# Calculate the confidence interval\n",
    "lower = mean - t_value * std_err\n",
    "upper = mean + t_value * std_err\n",
    "\n",
    "print(\"The 90% confidence interval is ({:.2f}, {:.2f})\".format(lower, upper))\n"
   ]
  },
  {
   "cell_type": "markdown",
   "id": "cdcec20e",
   "metadata": {},
   "source": [
    "### Q6. Use Python to plot the chi-square distribution with 10 degrees of freedom. Label the axes and shade the area corresponding to a chi-square statistic of 15."
   ]
  },
  {
   "cell_type": "code",
   "execution_count": 12,
   "id": "9ad45400",
   "metadata": {},
   "outputs": [
    {
     "data": {
      "image/png": "[encoded data removed]",
      "text/plain": [
       "<Figure size 640x480 with 1 Axes>"
      ]
     },
     "metadata": {},
     "output_type": "display_data"
    }
   ],
   "source": [
    "import numpy as np\n",
    "import matplotlib.pyplot as plt\n",
    "import scipy.stats as stats\n",
    "\n",
    "df = 10 # degrees of freedom\n",
    "x = np.linspace(0, 30, 500) # range of x values\n",
    "y = stats.chi2.pdf(x, df) # probability density function\n",
    "\n",
    "plt.plot(x, y, 'b-', linewidth=2)\n",
    "plt.xlabel('Chi-Square Statistic')\n",
    "plt.ylabel('Probability Density')\n",
    "plt.fill_between(x[x>=15], y[x>=15], color='grey', alpha=0.5)\n",
    "plt.text(18, 0.05, 'Area = 0.05', fontsize=12)\n",
    "plt.show()\n"
   ]
  },
  {
   "cell_type": "markdown",
   "id": "bd7f4b8d",
   "metadata": {},
   "source": [
    "### Q7. A random sample of 1000 people was asked if they preferred Coke or Pepsi. Of the sample, 520 preferred Coke. Calculate a 99% confidence interval for the true proportion of people in the population who prefer Coke."
   ]
  },
  {
   "cell_type": "code",
   "execution_count": 13,
   "id": "ee5de84d",
   "metadata": {},
   "outputs": [
    {
     "name": "stdout",
     "output_type": "stream",
     "text": [
      "99% Confidence interval: (0.4793, 0.5607)\n"
     ]
    }
   ],
   "source": [
    "import math\n",
    "\n",
    "# Sample size\n",
    "n = 1000\n",
    "\n",
    "# Number of people who prefer Coke\n",
    "x = 520\n",
    "\n",
    "# Sample proportion\n",
    "p_hat = x / n\n",
    "\n",
    "# Calculate standard error\n",
    "se = math.sqrt((p_hat * (1 - p_hat)) / n)\n",
    "\n",
    "# Calculate the z-score for 99% confidence level\n",
    "z = 2.576\n",
    "\n",
    "# Calculate margin of error\n",
    "me = z * se\n",
    "\n",
    "# Calculate lower and upper bounds of the confidence interval\n",
    "lower = p_hat - me\n",
    "upper = p_hat + me\n",
    "\n",
    "# Print the results\n",
    "print(f\"99% Confidence interval: ({lower:.4f}, {upper:.4f})\")\n"
   ]
  },
  {
   "cell_type": "markdown",
   "id": "c921eaa5",
   "metadata": {},
   "source": [
    "### Q8. A researcher hypothesizes that a coin is biased towards tails. They flip the coin 100 times and observe 45 tails. Conduct a chi-square goodness of fit test to determine if the observed frequencies match the expected frequencies of a fair coin. Use a significance level of 0.05."
   ]
  },
  {
   "cell_type": "code",
   "execution_count": 18,
   "id": "3fbe4bd0",
   "metadata": {},
   "outputs": [
    {
     "name": "stdout",
     "output_type": "stream",
     "text": [
      "Fail to reject null hypothesis. The coin is fair.\n",
      "Test statistic: 1.0\n",
      "p-value: 0.31731050786291115\n"
     ]
    }
   ],
   "source": [
    "from scipy.stats import chisquare\n",
    "\n",
    "observed = [45, 55]\n",
    "expected = [50, 50]\n",
    "\n",
    "test_stat, p_value = chisquare(observed, expected)\n",
    "\n",
    "alpha = 0.05\n",
    "\n",
    "if p_value < alpha:\n",
    "    print(\"Reject null hypothesis. The coin is biased towards tails.\")\n",
    "else:\n",
    "    print(\"Fail to reject null hypothesis. The coin is fair.\")\n",
    "    \n",
    "print(\"Test statistic:\", test_stat)\n",
    "print(\"p-value:\", p_value)\n"
   ]
  },
  {
   "cell_type": "markdown",
   "id": "65f0007b",
   "metadata": {},
   "source": [
    "### Q9. A study was conducted to determine if there is an association between smoking status (smoker or non-smoker) and lung cancer diagnosis (yes or no). The results are shown in the contingency table below. Conduct a chi-square test for independence to determine if there is a significant association between smoking status and lung cancer diagnosis.\n",
    "\n",
    "| |Lung Cancer: Yes|Lung Cancer: No|\n",
    "|:---|:-----------------:|:----------:|\n",
    "|Smoker| 60| 140|\n",
    "|Non-smoker |30| 170|\n"
   ]
  },
  {
   "cell_type": "code",
   "execution_count": 19,
   "id": "d5bd3bea",
   "metadata": {},
   "outputs": [
    {
     "name": "stdout",
     "output_type": "stream",
     "text": [
      "Chi-square statistic: 12.0573\n",
      "P-value: 0.0005\n",
      "Degrees of freedom: 1\n",
      "Expected frequencies:\n",
      "[[ 45. 155.]\n",
      " [ 45. 155.]]\n"
     ]
    }
   ],
   "source": [
    "from scipy.stats import chi2_contingency\n",
    "\n",
    "# Create the contingency table\n",
    "obs = [[60, 140], [30, 170]]\n",
    "\n",
    "# Conduct the chi-square test for independence\n",
    "chi2, p, dof, expected = chi2_contingency(obs)\n",
    "\n",
    "# Output the results\n",
    "print(f\"Chi-square statistic: {chi2:.4f}\")\n",
    "print(f\"P-value: {p:.4f}\")\n",
    "print(f\"Degrees of freedom: {dof}\")\n",
    "print(\"Expected frequencies:\")\n",
    "print(expected)\n"
   ]
  },
  {
   "cell_type": "markdown",
   "id": "a6c3781c",
   "metadata": {},
   "source": [
    "### Q10. A study was conducted to determine if the proportion of people who prefer milk chocolate, dark chocolate, or white chocolate is different in the U.S. versus the U.K. A random sample of 500 people from the U.S. and a random sample of 500 people from the U.K. were surveyed. The results are shown in the contingency table below. Conduct a chi-square test for independence to determine if there is a significant association between chocolate preference and country of origin.\n",
    "\n",
    "\n",
    "||Milk Chocolate|Dark Chocolate|White Chocolate|\n",
    "|:--------------:|:------------:|:-----------:|:------------:|\n",
    "|U.S. (n=500) |200 |150 |150|\n",
    "|U.K. (n=500)| 225 |175 |100|\n",
    "\n",
    "   - Use a significance level of 0.01."
   ]
  },
  {
   "cell_type": "code",
   "execution_count": 20,
   "id": "52559051",
   "metadata": {},
   "outputs": [
    {
     "name": "stdout",
     "output_type": "stream",
     "text": [
      "There is a significant association between chocolate preference and country of origin.\n"
     ]
    }
   ],
   "source": [
    "import numpy as np\n",
    "from scipy.stats import chi2_contingency\n",
    "\n",
    "\n",
    "contingency_table = np.array([[200, 150, 150], [225, 175, 100]])\n",
    "chi2, p, dof, expected = chi2_contingency(contingency_table)\n",
    "\n",
    "# Check p-value\n",
    "alpha = 0.01\n",
    "\n",
    "if p < alpha:\n",
    "    print(\"There is a significant association between chocolate preference and country of origin.\")\n",
    "else:\n",
    "    print(\"There is no significant association between chocolate preference and country of origin.\")\n",
    "\n"
   ]
  },
  {
   "cell_type": "markdown",
   "id": "34076094",
   "metadata": {},
   "source": [
    "### Q11. A random sample of 30 people was selected from a population with an unknown mean and standard deviation. The sample mean was found to be 72 and the sample standard deviation was found to be 10. Conduct a hypothesis test to determine if the population mean is significantly different from 70. Use a significance level of 0.05."
   ]
  },
  {
   "cell_type": "markdown",
   "id": "ac951642",
   "metadata": {},
   "source": [
    "To conduct the hypothesis test, we can use a one-sample t-test. The null hypothesis is that the population mean is equal to 70, and the alternative hypothesis is that the population mean is significantly different from 70.\n",
    "\n",
    "We can calculate the t-statistic and the corresponding p-value using the following formula:\n",
    "\n",
    "t = (sample_mean - hypothesized_mean) / (sample_standard_error)\n",
    "\n",
    "where sample_standard_error = sample_standard_deviation / sqrt(sample_size)\n",
    "\n",
    "Let's first calculate the t-statistic and the p-value using Python:"
   ]
  },
  {
   "cell_type": "code",
   "execution_count": 21,
   "id": "921445c2",
   "metadata": {},
   "outputs": [
    {
     "name": "stdout",
     "output_type": "stream",
     "text": [
      "t-statistic: 1.0954451150103321\n",
      "p-value: 0.28233623728606977\n"
     ]
    }
   ],
   "source": [
    "import scipy.stats as stats\n",
    "\n",
    "sample_mean = 72\n",
    "hypothesized_mean = 70\n",
    "sample_standard_deviation = 10\n",
    "sample_size = 30\n",
    "\n",
    "sample_standard_error = sample_standard_deviation / (sample_size ** 0.5)\n",
    "\n",
    "t_statistic = (sample_mean - hypothesized_mean) / sample_standard_error\n",
    "\n",
    "p_value = stats.t.sf(abs(t_statistic), sample_size - 1) * 2\n",
    "\n",
    "print(\"t-statistic:\", t_statistic)\n",
    "print(\"p-value:\", p_value)\n"
   ]
  },
  {
   "cell_type": "code",
   "execution_count": 25,
   "id": "20071c55",
   "metadata": {},
   "outputs": [
    {
     "name": "stdout",
     "output_type": "stream",
     "text": [
      "The t-statistic is  1.10 and the p-value is  0.28. Since the p-value is greater than the significance level of 0.05, we fail to reject the null hypothesis. There is not enough evidence to conclude that the population mean is significantly different from 70 at the 5% level of significance.\n"
     ]
    },
    {
     "data": {
      "text/plain": [
       "'Therefore, we can conclude that there is not enough evidence to support the claim that the population mean is significantly different from 70.'"
      ]
     },
     "execution_count": 25,
     "metadata": {},
     "output_type": "execute_result"
    }
   ],
   "source": [
    "print(f\"The t-statistic is {t_statistic: .2f} and the p-value is {p_value: .2f}. Since the p-value is greater than the significance level of 0.05, we fail to reject the null hypothesis. There is not enough evidence to conclude that the population mean is significantly different from 70 at the 5% level of significance.\")\n",
    "\n",
    "'''Therefore, we can conclude that there is not enough evidence to support the claim that the population mean is significantly different from 70.'''"
   ]
  },
  {
   "cell_type": "code",
   "execution_count": null,
   "id": "7c0b983a",
   "metadata": {},
   "outputs": [],
   "source": []
  }
 ],
 "metadata": {
  "kernelspec": {
   "display_name": "Python 3 (ipykernel)",
   "language": "python",
   "name": "python3"
  },
  "language_info": {
   "codemirror_mode": {
    "name": "ipython",
    "version": 3
   },
   "file_extension": ".py",
   "mimetype": "text/x-python",
   "name": "python",
   "nbconvert_exporter": "python",
   "pygments_lexer": "ipython3",
   "version": "3.9.13"
  }
 },
 "nbformat": 4,
 "nbformat_minor": 5
}
